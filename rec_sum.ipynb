{
 "cells": [
  {
   "cell_type": "code",
   "execution_count": 14,
   "metadata": {},
   "outputs": [
    {
     "name": "stdout",
     "output_type": "stream",
     "text": [
      "[[9 9 8 0]\n",
      " [6 6 6 5]\n",
      " [5 9 9 0]]\n",
      "[[ 9 18 26 26]\n",
      " [15 30 44 49]\n",
      " [20 44 67 72]]\n"
     ]
    }
   ],
   "source": [
    "# https://www.geeksforgeeks.org/submatrix-sum-queries/\n",
    "# https://en.wikipedia.org/wiki/Summed-area_table\n",
    "\n",
    "import numpy as np\n",
    "\n",
    "A = np.random.randint(0, 10, (3, 4))\n",
    "\n",
    "print (A)\n",
    "print (A.cumsum(axis=0).cumsum(axis=1))"
   ]
  },
  {
   "cell_type": "code",
   "execution_count": 15,
   "metadata": {},
   "outputs": [
    {
     "data": {
      "text/plain": [
       "(3, 4)"
      ]
     },
     "execution_count": 15,
     "metadata": {},
     "output_type": "execute_result"
    }
   ],
   "source": [
    "A.shape"
   ]
  },
  {
   "cell_type": "code",
   "execution_count": 17,
   "metadata": {},
   "outputs": [
    {
     "data": {
      "text/plain": [
       "(array([[ 9, 18, 26, 26],\n",
       "        [15, 30, 44, 49],\n",
       "        [11, 26, 41, 46]]), array([[9, 9, 8, 0],\n",
       "        [6, 6, 6, 5],\n",
       "        [5, 9, 9, 0]]))"
      ]
     },
     "execution_count": 17,
     "metadata": {},
     "output_type": "execute_result"
    }
   ],
   "source": [
    "#r = A.copy()\n",
    "#copy first row\n",
    "\n",
    "#col wise\n",
    "for i in range(1,len(A)):\n",
    "    for j in range(0,len(A[0])):\n",
    "        r[i][j] = A[i][j]+A[i-1][j]\n",
    "#row wise\n",
    "for i in range(0,len(A)):\n",
    "    for j in range(1,len(A[0])):\n",
    "        r[i][j] += r[i][j-1]\n",
    "r,A"
   ]
  },
  {
   "cell_type": "code",
   "execution_count": 12,
   "metadata": {},
   "outputs": [
    {
     "data": {
      "text/plain": [
       "(4, 3)"
      ]
     },
     "execution_count": 12,
     "metadata": {},
     "output_type": "execute_result"
    }
   ],
   "source": [
    "len(A[0]),len(A)"
   ]
  },
  {
   "cell_type": "code",
   "execution_count": null,
   "metadata": {},
   "outputs": [],
   "source": []
  }
 ],
 "metadata": {
  "kernelspec": {
   "display_name": "Python 3",
   "language": "python",
   "name": "python3"
  },
  "language_info": {
   "codemirror_mode": {
    "name": "ipython",
    "version": 3
   },
   "file_extension": ".py",
   "mimetype": "text/x-python",
   "name": "python",
   "nbconvert_exporter": "python",
   "pygments_lexer": "ipython3",
   "version": "3.5.0"
  }
 },
 "nbformat": 4,
 "nbformat_minor": 2
}
