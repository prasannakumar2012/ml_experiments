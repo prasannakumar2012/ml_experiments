{
 "cells": [
  {
   "cell_type": "markdown",
   "metadata": {
    "extensions": {
     "jupyter_dashboards": {
      "version": 1,
      "views": {
       "grid_default": {
        "col": 0,
        "height": 3,
        "hidden": false,
        "row": 0,
        "width": 12
       },
       "report_default": {
        "hidden": false
       }
      }
     }
    }
   },
   "source": [
    "# NYC Taxi & Limo Trips\n",
    "\n",
    "This notebook demonstrates the use of Polymer Widgets to visualize a sampling of New York City taxi trips in a dashboard layout."
   ]
  },
  {
   "cell_type": "markdown",
   "metadata": {
    "extensions": {
     "jupyter_dashboards": {
      "version": 1,
      "views": {
       "grid_default": {
        "hidden": true
       },
       "report_default": {
        "hidden": false
       }
      }
     }
    }
   },
   "source": [
    "To execute this notebook, you need to have the declarative widget Jupyter extension and its prerequisites installed. The README in the dashboard project contains instructions for running a Docker container with all the necessary bits.\n",
    "\n",
    "N.B., After running all of the cells, click View → View Dashboard to interact with this notebook in a dashboard layout."
   ]
  },
  {
   "cell_type": "markdown",
   "metadata": {
    "extensions": {
     "jupyter_dashboards": {
      "version": 1,
      "views": {
       "grid_default": {
        "hidden": true
       },
       "report_default": {}
      }
     }
    }
   },
   "source": [
    "<div class=\"alert alert-info\" role=\"alert\" style=\"margin-top: 10px\">\n",
    "<strong>Note:</strong> Requires Declarative Widgets v0.6.0+.\n",
    "</div>"
   ]
  },
  {
   "cell_type": "markdown",
   "metadata": {
    "extensions": {
     "jupyter_dashboards": {
      "version": 1,
      "views": {
       "grid_default": {
        "hidden": true
       },
       "report_default": {
        "hidden": false
       }
      }
     }
    }
   },
   "source": [
    "## Setup\n",
    "\n",
    "First we need to download and link to the third-party JS components for the widgets. These may take a bit to download on first run of this notebook."
   ]
  },
  {
   "cell_type": "code",
   "execution_count": 1,
   "metadata": {
    "extensions": {
     "jupyter_dashboards": {
      "version": 1,
      "views": {
       "grid_default": {
        "hidden": true
       },
       "report_default": {
        "hidden": false
       }
      }
     }
    }
   },
   "outputs": [
    {
     "data": {
      "text/html": [
       "<link rel=\"import\" href=\"urth_components/paper-dropdown-menu/paper-dropdown-menu.html\" is='urth-core-import' package='PolymerElements/paper-dropdown-menu'>\n",
       "<link rel=\"import\" href=\"urth_components/paper-menu/paper-menu.html\" is='urth-core-import' package='PolymerElements/paper-menu'>\n",
       "<link rel=\"import\" href=\"urth_components/paper-item/paper-item.html\" is='urth-core-import' package='PolymerElements/paper-item'>\n",
       "<link rel=\"import\" href=\"urth_components/paper-slider/paper-slider.html\" is='urth-core-import' package='PolymerElements/paper-slider'>\n",
       "<link rel=\"import\" href=\"urth_components/google-map/google-map.html\" is='urth-core-import' package='GoogleWebComponents/google-map'>\n",
       "<link rel=\"import\" href=\"urth_components/google-map/google-map-marker.html\" is='urth-core-import' package='GoogleWebComponents/google-map'>\n",
       "<link rel=\"import\" href=\"urth_components/urth-viz-table/urth-viz-table.html\" is='urth-core-import'>\n",
       "<link rel=\"import\" href=\"urth_components/urth-viz-chart/urth-viz-chart.html\" is='urth-core-import'>\n",
       "\n",
       "<style>\n",
       "    div.output_wrapper {\n",
       "        z-index: auto; /* fixes menus showing under code cells */\n",
       "    }\n",
       "</style>"
      ],
      "text/plain": [
       "<IPython.core.display.HTML object>"
      ]
     },
     "metadata": {},
     "output_type": "display_data"
    }
   ],
   "source": [
    "%%html\n",
    "<link rel=\"import\" href=\"urth_components/paper-dropdown-menu/paper-dropdown-menu.html\" is='urth-core-import' package='PolymerElements/paper-dropdown-menu'>\n",
    "<link rel=\"import\" href=\"urth_components/paper-menu/paper-menu.html\" is='urth-core-import' package='PolymerElements/paper-menu'>\n",
    "<link rel=\"import\" href=\"urth_components/paper-item/paper-item.html\" is='urth-core-import' package='PolymerElements/paper-item'>\n",
    "<link rel=\"import\" href=\"urth_components/paper-slider/paper-slider.html\" is='urth-core-import' package='PolymerElements/paper-slider'>\n",
    "<link rel=\"import\" href=\"urth_components/google-map/google-map.html\" is='urth-core-import' package='GoogleWebComponents/google-map'>\n",
    "<link rel=\"import\" href=\"urth_components/google-map/google-map-marker.html\" is='urth-core-import' package='GoogleWebComponents/google-map'>\n",
    "<link rel=\"import\" href=\"urth_components/urth-viz-table/urth-viz-table.html\" is='urth-core-import'>\n",
    "<link rel=\"import\" href=\"urth_components/urth-viz-chart/urth-viz-chart.html\" is='urth-core-import'>\n",
    "\n",
    "<style>\n",
    "    div.output_wrapper {\n",
    "        z-index: auto; /* fixes menus showing under code cells */\n",
    "    }\n",
    "</style>"
   ]
  },
  {
   "cell_type": "code",
   "execution_count": 6,
   "metadata": {},
   "outputs": [
    {
     "name": "stdout",
     "output_type": "stream",
     "text": [
      "Collecting jupyter_declarativewidgets\n",
      "  Downloading jupyter_declarativewidgets-0.7.0.tar.gz (4.0MB)\n",
      "\u001b[K    100% |████████████████████████████████| 4.0MB 259kB/s eta 0:00:01\n",
      "\u001b[?25hBuilding wheels for collected packages: jupyter-declarativewidgets\n",
      "  Running setup.py bdist_wheel for jupyter-declarativewidgets ... \u001b[?25ldone\n",
      "\u001b[?25h  Stored in directory: /Users/prasanna/Library/Caches/pip/wheels/5f/ba/12/d78f2711de8dee786872692ff2a4cc79258bdcf5487473acfd\n",
      "Successfully built jupyter-declarativewidgets\n",
      "Installing collected packages: jupyter-declarativewidgets\n",
      "Successfully installed jupyter-declarativewidgets-0.7.0\n"
     ]
    }
   ],
   "source": [
    "!pip install jupyter_declarativewidgets"
   ]
  },
  {
   "cell_type": "code",
   "execution_count": 7,
   "metadata": {
    "extensions": {
     "jupyter_dashboards": {
      "version": 1,
      "views": {
       "grid_default": {
        "hidden": true
       },
       "report_default": {}
      }
     }
    }
   },
   "outputs": [
    {
     "data": {
      "application/javascript": [
       "\n",
       "        window.Urth = window.Urth || {};\n",
       "        Urth._initialized = Urth._initialized || $.Deferred();\n",
       "        Urth.whenReady = Urth.whenReady || function(cb) {\n",
       "            Urth._initialized.then(function() {\n",
       "                Urth.whenReady(cb);\n",
       "            });\n",
       "        };\n",
       "        Urth.whenReady(function() { console.log(\"Declarative widgets connected.\") });\n",
       "        "
      ],
      "text/plain": [
       "<IPython.core.display.Javascript object>"
      ]
     },
     "metadata": {},
     "output_type": "display_data"
    }
   ],
   "source": [
    "import declarativewidgets as widgets\n",
    "\n",
    "widgets.init()"
   ]
  },
  {
   "cell_type": "markdown",
   "metadata": {
    "extensions": {
     "jupyter_dashboards": {
      "version": 1,
      "views": {
       "grid_default": {
        "hidden": true
       },
       "report_default": {
        "hidden": false
       }
      }
     }
    }
   },
   "source": [
    "N.B. We're using absolute paths here to allow this notebook to work even when deployed as a dashboard where Thebe requests a kernel. When it does, it has the Jupyter notebook working directory as the `pwd` in which case a relative path will not work here. \n",
    "\n",
    "This is one of the challenges to be addressed with dashboards when deployed outside the authoring environment: access to data. A simple answer: put the data in a real data store, not local disk."
   ]
  },
  {
   "cell_type": "code",
   "execution_count": null,
   "metadata": {
    "collapsed": true,
    "extensions": {
     "jupyter_dashboards": {
      "version": 1,
      "views": {
       "grid_default": {
        "hidden": true
       },
       "report_default": {
        "hidden": false
       }
      }
     }
    }
   },
   "outputs": [],
   "source": [
    "import pandas as pd\n",
    "import os\n",
    "LOCAL_DATA = '/home/jovyan/work/taxi_demo/datasets'"
   ]
  },
  {
   "cell_type": "code",
   "execution_count": null,
   "metadata": {
    "collapsed": true,
    "extensions": {
     "jupyter_dashboards": {
      "version": 1,
      "views": {
       "grid_default": {
        "hidden": true
       },
       "report_default": {
        "hidden": false
       }
      }
     }
    }
   },
   "outputs": [],
   "source": [
    "def loadData(name):\n",
    "    return pd.read_csv(os.path.join(LOCAL_DATA, name + '.csv'))"
   ]
  },
  {
   "cell_type": "markdown",
   "metadata": {
    "extensions": {
     "jupyter_dashboards": {
      "version": 1,
      "views": {
       "grid_default": {
        "col": 0,
        "height": 2,
        "hidden": false,
        "row": 3,
        "width": 12
       },
       "report_default": {
        "hidden": false
       }
      }
     }
    }
   },
   "source": [
    "## Trips"
   ]
  },
  {
   "cell_type": "markdown",
   "metadata": {
    "extensions": {
     "jupyter_dashboards": {
      "version": 1,
      "views": {
       "grid_default": {
        "col": 0,
        "height": 2,
        "hidden": false,
        "row": 5,
        "width": 9
       },
       "report_default": {
        "hidden": false
       }
      }
     }
    }
   },
   "source": [
    "To begin, select a sample of trips from the **Dataset** dropdown. This will load the data into a table. Click a row in the table to show the pickup and dropup location for the trip on a map."
   ]
  },
  {
   "cell_type": "code",
   "execution_count": 8,
   "metadata": {
    "extensions": {
     "jupyter_dashboards": {
      "version": 1,
      "views": {
       "grid_default": {
        "col": 1,
        "height": 3,
        "hidden": false,
        "row": 7,
        "width": 11
       },
       "report_default": {
        "hidden": false
       }
      }
     }
    }
   },
   "outputs": [
    {
     "data": {
      "text/html": [
       "<template is=\"urth-core-bind\">\n",
       "    <urth-core-function id=\"loadDataFunc\" \n",
       "        ref=\"loadData\" \n",
       "        arg-name=\"{{dataname}}\" \n",
       "        result=\"{{thedata}}\" \n",
       "        limit=\"10\"\n",
       "        auto></urth-core-function>\n",
       "\n",
       "    <paper-dropdown-menu id=\"dataset-select\" label=\"Dataset\" selected-item-label=\"{{dataname}}\" noink>\n",
       "        <paper-menu class=\"dropdown-content\" selected=\"0\">\n",
       "            <paper-item>trips_1</paper-item>\n",
       "            <paper-item>trips_2</paper-item>\n",
       "            <paper-item>trips_3</paper-item>\n",
       "        </paper-menu>\n",
       "    </paper-dropdown-menu>\n",
       "</template>"
      ],
      "text/plain": [
       "<IPython.core.display.HTML object>"
      ]
     },
     "metadata": {},
     "output_type": "display_data"
    }
   ],
   "source": [
    "%%html\n",
    "<template is=\"urth-core-bind\">\n",
    "    <urth-core-function id=\"loadDataFunc\" \n",
    "        ref=\"loadData\" \n",
    "        arg-name=\"{{dataname}}\" \n",
    "        result=\"{{thedata}}\" \n",
    "        limit=\"10\"\n",
    "        auto></urth-core-function>\n",
    "\n",
    "    <paper-dropdown-menu id=\"dataset-select\" label=\"Dataset\" selected-item-label=\"{{dataname}}\" noink>\n",
    "        <paper-menu class=\"dropdown-content\" selected=\"0\">\n",
    "            <paper-item>trips_1</paper-item>\n",
    "            <paper-item>trips_2</paper-item>\n",
    "            <paper-item>trips_3</paper-item>\n",
    "        </paper-menu>\n",
    "    </paper-dropdown-menu>\n",
    "</template>"
   ]
  },
  {
   "cell_type": "code",
   "execution_count": 9,
   "metadata": {
    "extensions": {
     "jupyter_dashboards": {
      "version": 1,
      "views": {
       "grid_default": {
        "col": 0,
        "height": 14,
        "hidden": false,
        "row": 10,
        "width": 6
       },
       "report_default": {
        "hidden": false
       }
      }
     }
    }
   },
   "outputs": [
    {
     "data": {
      "text/html": [
       "<div style=\"overflow-x:scroll;\">\n",
       "    <template is='urth-core-bind'>\n",
       "        <urth-viz-table datarows='[[thedata.data]]' columns='[[thedata.columns]]' selection='{{sel}}'></urth-viz-table>\n",
       "    \n",
       "        <template is=\"dom-if\" if=\"[[thedata]]\">\n",
       "            <div class=\"table-desc\">\n",
       "                <h4>Data for <span>[[dataname]]</span></h4>\n",
       "                <p>Click an entry in the table to map the pickup and dropoff locations.</p>\n",
       "            </div>\n",
       "            <style>\n",
       "                .table-desc {\n",
       "                    text-align: center;\n",
       "                }\n",
       "                .table-desc > * {\n",
       "                    display: inline-block;\n",
       "                    margin-left: 0.5em;\n",
       "                }\n",
       "                .table-desc > p {\n",
       "                    margin-bottom: 1em; \n",
       "                    font-style: oblique;\n",
       "                    font-size: smaller;\n",
       "                }\n",
       "            </style>\n",
       "        </template>\n",
       "    </template>\n",
       "</div>"
      ],
      "text/plain": [
       "<IPython.core.display.HTML object>"
      ]
     },
     "metadata": {},
     "output_type": "display_data"
    }
   ],
   "source": [
    "%%html\n",
    "<div style=\"overflow-x:scroll;\">\n",
    "    <template is='urth-core-bind'>\n",
    "        <urth-viz-table datarows='[[thedata.data]]' columns='[[thedata.columns]]' selection='{{sel}}'></urth-viz-table>\n",
    "    \n",
    "        <template is=\"dom-if\" if=\"[[thedata]]\">\n",
    "            <div class=\"table-desc\">\n",
    "                <h4>Data for <span>[[dataname]]</span></h4>\n",
    "                <p>Click an entry in the table to map the pickup and dropoff locations.</p>\n",
    "            </div>\n",
    "            <style>\n",
    "                .table-desc {\n",
    "                    text-align: center;\n",
    "                }\n",
    "                .table-desc > * {\n",
    "                    display: inline-block;\n",
    "                    margin-left: 0.5em;\n",
    "                }\n",
    "                .table-desc > p {\n",
    "                    margin-bottom: 1em; \n",
    "                    font-style: oblique;\n",
    "                    font-size: smaller;\n",
    "                }\n",
    "            </style>\n",
    "        </template>\n",
    "    </template>\n",
    "</div>"
   ]
  },
  {
   "cell_type": "markdown",
   "metadata": {
    "extensions": {
     "jupyter_dashboards": {
      "version": 1,
      "views": {
       "grid_default": {
        "hidden": true
       },
       "report_default": {
        "hidden": false
       }
      }
     }
    }
   },
   "source": [
    "#### Use of \"dom-if\"\n",
    "\n",
    "The `google-map` Polymer widget below doesn't work well if there is no selection (`sel`). And later when there is a selection, it doesn't update correctly.\n",
    "\n",
    "To work around this issue, we use Polymer's [conditional template](https://www.polymer-project.org/1.0/docs/devguide/templates.html#dom-if), `dom-if`. For our use, this means that the `google-map` widget will not be created when `sel` is undefined. When the user makes a selection in the table above, the condition is met and the map is correctly drawn."
   ]
  },
  {
   "cell_type": "code",
   "execution_count": 10,
   "metadata": {
    "extensions": {
     "jupyter_dashboards": {
      "version": 1,
      "views": {
       "grid_default": {
        "col": 6,
        "height": 14,
        "hidden": false,
        "row": 10,
        "width": 6
       },
       "report_default": {
        "hidden": false
       }
      }
     }
    }
   },
   "outputs": [
    {
     "data": {
      "text/html": [
       "<template is=\"urth-core-bind\">\n",
       "  <template is=\"dom-if\" if=\"[[sel]]\">\n",
       "    <google-map id=\"blah\" latitude=\"[[sel.11]]\" longitude=\"[[sel.10]]\" zoom=\"12\" style=\"height: 400px;\">\n",
       "        <google-map-marker latitude=\"[[sel.11]]\" longitude=\"[[sel.10]]\" title=\"Pickup\"></google-map-marker>\n",
       "        <google-map-marker latitude=\"[[sel.13]]\" longitude=\"[[sel.12]]\" title=\"Dropoff\"></google-map-marker>\n",
       "    </google-map>\n",
       "  </template>\n",
       "</template>"
      ],
      "text/plain": [
       "<IPython.core.display.HTML object>"
      ]
     },
     "metadata": {},
     "output_type": "display_data"
    }
   ],
   "source": [
    "%%html\n",
    "<template is=\"urth-core-bind\">\n",
    "  <template is=\"dom-if\" if=\"[[sel]]\">\n",
    "    <google-map id=\"blah\" latitude=\"[[sel.11]]\" longitude=\"[[sel.10]]\" zoom=\"12\" style=\"height: 400px;\">\n",
    "        <google-map-marker latitude=\"[[sel.11]]\" longitude=\"[[sel.10]]\" title=\"Pickup\"></google-map-marker>\n",
    "        <google-map-marker latitude=\"[[sel.13]]\" longitude=\"[[sel.12]]\" title=\"Dropoff\"></google-map-marker>\n",
    "    </google-map>\n",
    "  </template>\n",
    "</template>"
   ]
  },
  {
   "cell_type": "markdown",
   "metadata": {
    "extensions": {
     "jupyter_dashboards": {
      "version": 1,
      "views": {
       "grid_default": {
        "col": 0,
        "height": 3,
        "hidden": false,
        "row": 24,
        "width": 9
       },
       "report_default": {
        "hidden": false
       }
      }
     }
    }
   },
   "source": [
    "## Fares\n",
    "\n",
    "We can also investigate the fares collected by the taxis and limos."
   ]
  },
  {
   "cell_type": "code",
   "execution_count": null,
   "metadata": {
    "extensions": {
     "jupyter_dashboards": {
      "version": 1,
      "views": {
       "grid_default": {
        "hidden": true
       },
       "report_default": {
        "hidden": false
       }
      }
     }
    }
   },
   "outputs": [],
   "source": [
    "fares = pd.read_csv(os.path.join(LOCAL_DATA, 'fares.csv'))"
   ]
  },
  {
   "cell_type": "markdown",
   "metadata": {
    "extensions": {
     "jupyter_dashboards": {
      "version": 1,
      "views": {
       "grid_default": {
        "col": 0,
        "height": 2,
        "hidden": false,
        "row": 27,
        "width": 9
       },
       "report_default": {
        "hidden": false
       }
      }
     }
    }
   },
   "source": [
    "Here's a small sample of the loaded fares data. We show this data by linking a pandas DataFrame to another clickable table."
   ]
  },
  {
   "cell_type": "code",
   "execution_count": null,
   "metadata": {
    "extensions": {
     "jupyter_dashboards": {
      "version": 1,
      "views": {
       "grid_default": {
        "col": 0,
        "height": 10,
        "hidden": false,
        "row": 29,
        "width": 12
       },
       "report_default": {
        "hidden": false
       }
      }
     }
    }
   },
   "outputs": [],
   "source": [
    "%%html\n",
    "<div style=\"overflow-x:scroll;\">\n",
    "    <template is=\"urth-core-bind\" channel=\"faresChan\">\n",
    "        <urth-core-dataframe ref=\"fares\" value=\"{{faredata}}\" limit=\"10\" auto></urth-core-dataframe>\n",
    "        <urth-viz-table datarows='[[faredata.data]]' columns='[[faredata.columns]]'></urth-viz-table>\n",
    "    </template>\n",
    "</div>"
   ]
  },
  {
   "cell_type": "markdown",
   "metadata": {
    "extensions": {
     "jupyter_dashboards": {
      "version": 1,
      "views": {
       "grid_default": {
        "col": 0,
        "height": 2,
        "hidden": false,
        "row": 39,
        "width": 8
       },
       "report_default": {
        "hidden": false
       }
      }
     }
    }
   },
   "source": [
    "Now let's graph the top fare earners. Pick a fare type to both plot and show in another table."
   ]
  },
  {
   "cell_type": "code",
   "execution_count": null,
   "metadata": {
    "extensions": {
     "jupyter_dashboards": {
      "version": 1,
      "views": {
       "grid_default": {
        "hidden": true
       },
       "report_default": {
        "hidden": false
       }
      }
     }
    }
   },
   "outputs": [],
   "source": [
    "def loadFares(filter):\n",
    "    if (filter == \"Credit\"):\n",
    "        _fares = fares[fares[' payment_type']=='CRD']\n",
    "    elif (filter == \"Cash\"):\n",
    "        _fares = fares[fares[' payment_type']=='CSH']\n",
    "    else:\n",
    "        _fares = fares\n",
    "\n",
    "    topEarners = pd.DataFrame(_fares.groupby('medallion').sum().sort(' total_amount', inplace=False, ascending=False)[' total_amount']) \n",
    "    topEarners['medallion'] = topEarners.index\n",
    "    topEarners = topEarners[[' total_amount']]\n",
    "    return topEarners.reset_index()"
   ]
  },
  {
   "cell_type": "code",
   "execution_count": null,
   "metadata": {
    "extensions": {
     "jupyter_dashboards": {
      "version": 1,
      "views": {
       "grid_default": {
        "col": 1,
        "height": 3,
        "hidden": false,
        "row": 41,
        "width": 11
       },
       "report_default": {
        "hidden": false
       }
      }
     }
    },
    "scrolled": true
   },
   "outputs": [],
   "source": [
    "%%html\n",
    "<template is=\"urth-core-bind\" channel=\"faresChan\">\n",
    "    <urth-core-function id=\"loadFaresFunc\" \n",
    "        ref=\"loadFares\" \n",
    "        arg-filter=\"{{faredataselect}}\" \n",
    "        result=\"{{topEarners}}\" \n",
    "        limit=\"10\"\n",
    "        auto></urth-core-function>\n",
    "\n",
    "    <paper-dropdown-menu id=\"fare-select\" label=\"Fare Type\" selected-item-label=\"{{faredataselect}}\" noink>\n",
    "        <paper-menu class=\"dropdown-content\" selected=\"0\">\n",
    "            <paper-item>All</paper-item>\n",
    "            <paper-item>Credit</paper-item>\n",
    "            <paper-item>Cash</paper-item>\n",
    "        </paper-menu>\n",
    "    </paper-dropdown-menu>\n",
    "</template>"
   ]
  },
  {
   "cell_type": "code",
   "execution_count": null,
   "metadata": {
    "extensions": {
     "jupyter_dashboards": {
      "version": 1,
      "views": {
       "grid_default": {
        "col": 7,
        "height": 17,
        "hidden": false,
        "row": 44,
        "width": 5
       },
       "report_default": {
        "hidden": false
       }
      }
     }
    },
    "scrolled": true
   },
   "outputs": [],
   "source": [
    "%%html\n",
    "<div style=\"overflow-x:scroll;\">\n",
    "    <template is=\"urth-core-bind\" channel=\"faresChan\">\n",
    "        <urth-viz-table datarows='[[topEarners.data]]' columns='[[topEarners.columns]]'></urth-viz-table>\n",
    "    </template>\n",
    "</div>"
   ]
  },
  {
   "cell_type": "code",
   "execution_count": null,
   "metadata": {
    "extensions": {
     "jupyter_dashboards": {
      "version": 1,
      "views": {
       "grid_default": {
        "col": 0,
        "height": 18,
        "hidden": false,
        "row": 44,
        "width": 7
       },
       "report_default": {
        "hidden": false
       }
      }
     }
    }
   },
   "outputs": [],
   "source": [
    "%%html\n",
    "<template is=\"urth-core-bind\" channel=\"faresChan\">\n",
    "    <urth-viz-chart type='bar' datarows='[[topEarners.data]]' columns='[[topEarners.columns]]' rotatelabels='30'></urth-viz-chart>\n",
    "</template>"
   ]
  }
 ],
 "metadata": {
  "extensions": {
   "jupyter_dashboards": {
    "activeView": "grid_default",
    "version": 1,
    "views": {
     "grid_default": {
      "cellMargin": 10,
      "defaultCellHeight": 20,
      "maxColumns": 12,
      "name": "grid",
      "type": "grid"
     },
     "report_default": {
      "name": "report",
      "type": "report"
     }
    }
   }
  },
  "kernelspec": {
   "display_name": "Python 3",
   "language": "python",
   "name": "python3"
  },
  "language_info": {
   "codemirror_mode": {
    "name": "ipython",
    "version": 3
   },
   "file_extension": ".py",
   "mimetype": "text/x-python",
   "name": "python",
   "nbconvert_exporter": "python",
   "pygments_lexer": "ipython3",
   "version": "3.5.0"
  },
  "widgets": {
   "state": {
    "37EF0871DB984317A031FE2E7BF619D8": {
     "views": []
    },
    "B12781E5E79A400F8914D58889419F66": {
     "views": []
    },
    "CFD1DB3B9F4940458608E743F223043E": {
     "views": []
    },
    "FCEFC2E8EC144BBE87F865B64266F6BD": {
     "views": []
    }
   },
   "version": "1.1.2"
  }
 },
 "nbformat": 4,
 "nbformat_minor": 1
}
