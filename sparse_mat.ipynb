{
 "cells": [
  {
   "cell_type": "code",
   "execution_count": 43,
   "metadata": {},
   "outputs": [
    {
     "data": {
      "text/plain": [
       "array([ 1, -3, -1], dtype=int64)"
      ]
     },
     "execution_count": 43,
     "metadata": {},
     "output_type": "execute_result"
    }
   ],
   "source": [
    "import numpy as np\n",
    "from scipy.sparse import csr_matrix\n",
    "A = csr_matrix([[1, 2, 0], [0, 0, 3], [4, 0, 5]])\n",
    "v = np.array([1, 0, -1])\n",
    "A.dot(v)"
   ]
  },
  {
   "cell_type": "code",
   "execution_count": 44,
   "metadata": {},
   "outputs": [
    {
     "data": {
      "text/plain": [
       "(array([[1, 2, 0],\n",
       "        [0, 0, 3],\n",
       "        [4, 0, 5]], dtype=int64),\n",
       " array([1, 2, 3, 4, 5], dtype=int64),\n",
       " matrix([[1, 2, 0],\n",
       "         [0, 0, 3],\n",
       "         [4, 0, 5]], dtype=int64),\n",
       " (3, 3),\n",
       " <3x3 sparse matrix of type '<class 'numpy.int64'>'\n",
       " \twith 5 stored elements in Compressed Sparse Row format>)"
      ]
     },
     "execution_count": 44,
     "metadata": {},
     "output_type": "execute_result"
    }
   ],
   "source": [
    "A.toarray(), A.data, A.todense(), A.shape, A"
   ]
  },
  {
   "cell_type": "code",
   "execution_count": 45,
   "metadata": {},
   "outputs": [
    {
     "data": {
      "text/plain": [
       "(array([ 1,  0, -1]), array([ 1,  0, -1]))"
      ]
     },
     "execution_count": 45,
     "metadata": {},
     "output_type": "execute_result"
    }
   ],
   "source": [
    "v.T, v"
   ]
  },
  {
   "cell_type": "code",
   "execution_count": 51,
   "metadata": {},
   "outputs": [
    {
     "data": {
      "text/plain": [
       "(matrix([[2],\n",
       "         [0],\n",
       "         [0]]),\n",
       " matrix([[0, 0, 3]], dtype=int64),\n",
       " <3x3 sparse matrix of type '<class 'numpy.int64'>'\n",
       " \twith 5 stored elements in COOrdinate format>)"
      ]
     },
     "execution_count": 51,
     "metadata": {},
     "output_type": "execute_result"
    }
   ],
   "source": [
    "A.getcol(1).todense(), A.getrow(1).todense(), A.tocoo()"
   ]
  },
  {
   "cell_type": "code",
   "execution_count": 20,
   "metadata": {},
   "outputs": [
    {
     "data": {
      "text/plain": [
       "matrix([[ 1],\n",
       "        [-3],\n",
       "        [-1]], dtype=int64)"
      ]
     },
     "execution_count": 20,
     "metadata": {},
     "output_type": "execute_result"
    }
   ],
   "source": [
    "A = csr_matrix([[1, 2, 0], [0, 0, 3], [4, 0, 5]])\n",
    "B = csr_matrix([[1], [0], [-1]])\n",
    "A.dot(B).todense()"
   ]
  },
  {
   "cell_type": "code",
   "execution_count": 58,
   "metadata": {},
   "outputs": [],
   "source": [
    "# sparse_vector_dot_oneliner(A,B)"
   ]
  },
  {
   "cell_type": "code",
   "execution_count": null,
   "metadata": {},
   "outputs": [],
   "source": [
    "def sparse_vector_dot_oneliner(a: dict, b: dict):\n",
    "    return sum(b[key]*value for key, value in a.items() if key in b)"
   ]
  },
  {
   "cell_type": "code",
   "execution_count": 36,
   "metadata": {},
   "outputs": [
    {
     "name": "stdout",
     "output_type": "stream",
     "text": [
      "54\n"
     ]
    }
   ],
   "source": [
    "def get_pointers(v: tuple):\n",
    "    return {key: value for key, value in enumerate(v) if value}\n",
    "\n",
    "\n",
    "def sparse_vector_dot(a: dict, b: dict):\n",
    "    result = 0\n",
    "    for key, value in a.items():\n",
    "        if key in b:\n",
    "            result += b[key] * value\n",
    "    return result\n",
    "\n",
    "\n",
    "a = (2, 4, 0, 0, 0, 6)\n",
    "b = (0, 3, 4, 0, 0, 7)\n",
    "a, b = get_pointers(a), get_pointers(b)\n",
    "print(sparse_vector_dot(a, b))"
   ]
  },
  {
   "cell_type": "code",
   "execution_count": 33,
   "metadata": {},
   "outputs": [
    {
     "data": {
      "text/plain": [
       "({0: 2, 1: 4, 5: 6}, {1: 3, 2: 4, 5: 7})"
      ]
     },
     "execution_count": 33,
     "metadata": {},
     "output_type": "execute_result"
    }
   ],
   "source": [
    "a, b"
   ]
  },
  {
   "cell_type": "code",
   "execution_count": 34,
   "metadata": {},
   "outputs": [
    {
     "data": {
      "text/plain": [
       "tuple"
      ]
     },
     "execution_count": 34,
     "metadata": {},
     "output_type": "execute_result"
    }
   ],
   "source": [
    "a = (2, 4, 0, 0, 0, 6)\n",
    "type(a)"
   ]
  },
  {
   "cell_type": "code",
   "execution_count": 37,
   "metadata": {},
   "outputs": [
    {
     "data": {
      "text/plain": [
       "54"
      ]
     },
     "execution_count": 37,
     "metadata": {},
     "output_type": "execute_result"
    }
   ],
   "source": [
    "sparse_vector_dot_oneliner(a,b)"
   ]
  },
  {
   "cell_type": "code",
   "execution_count": 39,
   "metadata": {},
   "outputs": [
    {
     "name": "stdout",
     "output_type": "stream",
     "text": [
      "0 2\n",
      "1 4\n",
      "2 0\n",
      "3 0\n",
      "4 0\n",
      "5 6\n"
     ]
    }
   ],
   "source": [
    "a = (2, 4, 0, 0, 0, 6)\n",
    "b = (0, 3, 4, 0, 0, 7)\n",
    "for key, value in enumerate(a):\n",
    "    print (key,value)"
   ]
  },
  {
   "cell_type": "code",
   "execution_count": 42,
   "metadata": {},
   "outputs": [
    {
     "data": {
      "text/plain": [
       "54"
      ]
     },
     "execution_count": 42,
     "metadata": {},
     "output_type": "execute_result"
    }
   ],
   "source": [
    "r = 0\n",
    "for key, value in enumerate(a):\n",
    "    r += value * b[key]\n",
    "r"
   ]
  },
  {
   "cell_type": "code",
   "execution_count": 53,
   "metadata": {},
   "outputs": [],
   "source": [
    "import scipy.sparse\n",
    "import random\n",
    "import itertools\n",
    "\n",
    "def using_nonzero(x):\n",
    "    rows,cols = x.nonzero()\n",
    "    for row,col in zip(rows,cols):\n",
    "        ((row,col), x[row,col])\n",
    "\n",
    "def using_coo(x):\n",
    "    cx = scipy.sparse.coo_matrix(x)    \n",
    "    for i,j,v in zip(cx.row, cx.col, cx.data):\n",
    "        (i,j,v)\n",
    "\n",
    "def using_tocoo(x):\n",
    "    cx = x.tocoo()    \n",
    "    for i,j,v in zip(cx.row, cx.col, cx.data):\n",
    "        (i,j,v)\n",
    "\n",
    "def using_tocoo_izip(x):\n",
    "    cx = x.tocoo()    \n",
    "    for i,j,v in itertools.izip(cx.row, cx.col, cx.data):\n",
    "        (i,j,v)\n",
    "\n",
    "N=200\n",
    "x = scipy.sparse.lil_matrix( (N,N) )\n",
    "for _ in range(N):\n",
    "    x[random.randint(0,N-1),random.randint(0,N-1)]=random.randint(1,100)"
   ]
  },
  {
   "cell_type": "code",
   "execution_count": 55,
   "metadata": {},
   "outputs": [
    {
     "data": {
      "text/plain": [
       "<200x200 sparse matrix of type '<class 'numpy.float64'>'\n",
       "\twith 200 stored elements in LInked List format>"
      ]
     },
     "execution_count": 55,
     "metadata": {},
     "output_type": "execute_result"
    }
   ],
   "source": [
    "x"
   ]
  },
  {
   "cell_type": "code",
   "execution_count": 56,
   "metadata": {},
   "outputs": [],
   "source": [
    "using_tocoo(x)"
   ]
  },
  {
   "cell_type": "code",
   "execution_count": 57,
   "metadata": {},
   "outputs": [
    {
     "name": "stdout",
     "output_type": "stream",
     "text": [
      "3 30 6.0\n",
      "3 167 26.0\n",
      "6 29 23.0\n",
      "6 65 32.0\n",
      "7 129 46.0\n",
      "10 23 61.0\n",
      "12 72 94.0\n",
      "12 90 89.0\n",
      "12 196 6.0\n",
      "13 128 71.0\n",
      "15 54 22.0\n",
      "15 131 60.0\n",
      "17 108 21.0\n",
      "17 195 87.0\n",
      "18 85 83.0\n",
      "18 88 65.0\n",
      "19 57 68.0\n",
      "19 80 64.0\n",
      "20 41 76.0\n",
      "20 179 76.0\n",
      "22 105 85.0\n",
      "24 138 88.0\n",
      "24 141 59.0\n",
      "25 8 73.0\n",
      "26 139 83.0\n",
      "26 175 72.0\n",
      "29 132 9.0\n",
      "30 33 46.0\n",
      "31 176 44.0\n",
      "32 137 30.0\n",
      "33 57 65.0\n",
      "37 42 22.0\n",
      "37 71 82.0\n",
      "38 5 64.0\n",
      "39 77 100.0\n",
      "40 18 66.0\n",
      "42 73 50.0\n",
      "42 121 38.0\n",
      "44 134 44.0\n",
      "45 61 11.0\n",
      "50 90 5.0\n",
      "51 149 13.0\n",
      "54 19 27.0\n",
      "54 198 4.0\n",
      "55 46 18.0\n",
      "55 119 93.0\n",
      "59 94 47.0\n",
      "60 117 9.0\n",
      "60 137 32.0\n",
      "61 40 24.0\n",
      "61 72 83.0\n",
      "62 188 60.0\n",
      "64 74 70.0\n",
      "64 177 10.0\n",
      "65 65 43.0\n",
      "65 154 84.0\n",
      "66 134 77.0\n",
      "68 88 40.0\n",
      "68 106 58.0\n",
      "68 157 66.0\n",
      "69 107 45.0\n",
      "70 152 38.0\n",
      "71 4 80.0\n",
      "73 144 69.0\n",
      "74 46 63.0\n",
      "75 13 55.0\n",
      "75 35 100.0\n",
      "75 190 62.0\n",
      "78 5 7.0\n",
      "78 18 42.0\n",
      "80 25 35.0\n",
      "81 6 44.0\n",
      "81 11 49.0\n",
      "81 104 30.0\n",
      "81 133 32.0\n",
      "83 2 12.0\n",
      "84 58 47.0\n",
      "85 47 47.0\n",
      "85 115 50.0\n",
      "85 130 39.0\n",
      "85 155 18.0\n",
      "86 11 63.0\n",
      "86 178 59.0\n",
      "87 93 78.0\n",
      "88 20 7.0\n",
      "88 32 49.0\n",
      "88 101 23.0\n",
      "88 198 48.0\n",
      "89 44 43.0\n",
      "90 52 26.0\n",
      "90 169 71.0\n",
      "91 13 98.0\n",
      "97 20 14.0\n",
      "97 191 80.0\n",
      "98 148 19.0\n",
      "98 192 96.0\n",
      "99 20 76.0\n",
      "101 170 27.0\n",
      "102 33 93.0\n",
      "102 178 75.0\n",
      "103 49 7.0\n",
      "104 104 16.0\n",
      "104 194 91.0\n",
      "105 11 62.0\n",
      "105 159 92.0\n",
      "109 41 97.0\n",
      "109 188 36.0\n",
      "110 7 36.0\n",
      "110 193 64.0\n",
      "112 81 31.0\n",
      "112 187 12.0\n",
      "113 116 84.0\n",
      "113 121 64.0\n",
      "114 12 49.0\n",
      "116 80 91.0\n",
      "118 139 63.0\n",
      "119 165 81.0\n",
      "122 84 71.0\n",
      "123 129 75.0\n",
      "124 101 96.0\n",
      "124 114 48.0\n",
      "124 198 6.0\n",
      "126 127 67.0\n",
      "127 6 94.0\n",
      "130 131 10.0\n",
      "137 21 92.0\n",
      "137 141 83.0\n",
      "138 54 70.0\n",
      "138 118 99.0\n",
      "138 133 37.0\n",
      "139 12 62.0\n",
      "139 125 88.0\n",
      "139 179 60.0\n",
      "141 98 76.0\n",
      "142 92 47.0\n",
      "145 68 3.0\n",
      "145 151 81.0\n",
      "146 88 25.0\n",
      "146 185 78.0\n",
      "146 193 58.0\n",
      "147 26 85.0\n",
      "148 65 4.0\n",
      "148 109 63.0\n",
      "149 20 3.0\n",
      "149 82 16.0\n",
      "149 89 92.0\n",
      "150 64 47.0\n",
      "150 120 30.0\n",
      "151 36 55.0\n",
      "152 132 2.0\n",
      "152 167 15.0\n",
      "155 84 52.0\n",
      "155 125 16.0\n",
      "157 39 69.0\n",
      "157 93 70.0\n",
      "163 13 18.0\n",
      "163 72 3.0\n",
      "164 96 8.0\n",
      "165 111 85.0\n",
      "166 163 11.0\n",
      "168 0 64.0\n",
      "168 70 28.0\n",
      "169 68 50.0\n",
      "169 171 16.0\n",
      "169 175 3.0\n",
      "172 88 98.0\n",
      "172 135 75.0\n",
      "172 136 51.0\n",
      "173 4 55.0\n",
      "173 189 60.0\n",
      "174 7 98.0\n",
      "174 44 98.0\n",
      "174 98 88.0\n",
      "174 100 94.0\n",
      "175 149 25.0\n",
      "175 185 86.0\n",
      "176 3 71.0\n",
      "176 27 62.0\n",
      "177 29 40.0\n",
      "178 8 99.0\n",
      "178 107 48.0\n",
      "178 123 18.0\n",
      "178 148 63.0\n",
      "184 144 74.0\n",
      "186 68 26.0\n",
      "186 87 37.0\n",
      "188 176 75.0\n",
      "189 156 44.0\n",
      "190 38 44.0\n",
      "190 57 20.0\n",
      "191 136 58.0\n",
      "191 137 13.0\n",
      "192 193 55.0\n",
      "193 101 52.0\n",
      "195 104 36.0\n",
      "196 5 58.0\n",
      "196 53 88.0\n",
      "196 130 73.0\n",
      "196 143 6.0\n",
      "197 91 98.0\n"
     ]
    }
   ],
   "source": [
    "cx = x.tocoo() \n",
    "for i,j,v in zip(cx.row, cx.col, cx.data):\n",
    "    print (i,j,v)"
   ]
  },
  {
   "cell_type": "code",
   "execution_count": null,
   "metadata": {},
   "outputs": [],
   "source": []
  }
 ],
 "metadata": {
  "kernelspec": {
   "display_name": "Python 3",
   "language": "python",
   "name": "python3"
  },
  "language_info": {
   "codemirror_mode": {
    "name": "ipython",
    "version": 3
   },
   "file_extension": ".py",
   "mimetype": "text/x-python",
   "name": "python",
   "nbconvert_exporter": "python",
   "pygments_lexer": "ipython3",
   "version": "3.5.0"
  }
 },
 "nbformat": 4,
 "nbformat_minor": 2
}
