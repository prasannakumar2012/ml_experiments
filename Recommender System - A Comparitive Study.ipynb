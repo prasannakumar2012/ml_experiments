{
 "cells": [
  {
   "cell_type": "markdown",
   "metadata": {},
   "source": [
    "Two basic types of ** Recommender systems ** that are used are ** Content Based ** and ** Collaborative Filtering(CF) **. Content Based systems use the knowledge of the items/products to come up with the recommendations. \n",
    "Whereas ** Collaborative Filtering(CF) ** produces recommendations based on the knowledge of user interaction with the product/items.Collaborative filtering is done using two ways, one is ** Memory Based ** and other is ** Model based **. \n",
    "\n",
    "In this writeup, we will compare output from memory-based CF,model-based CF and third approach which uses Machine Learning algorithm ** Stochastic gradient descent ** to train the model for prediction.RMSE and movie recommendations for all the approaches will be compared."
   ]
  },
  {
   "cell_type": "code",
   "execution_count": 2,
   "metadata": {
    "collapsed": false
   },
   "outputs": [
    {
     "name": "stdout",
     "output_type": "stream",
     "text": [
      "1682\n"
     ]
    }
   ],
   "source": [
    "\"\"\"\n",
    "Below are some of the helper functions used for analyzing of various recommenders\n",
    "\"\"\"\n",
    "##Root Mean Squared Error. We will conside only non-zero ratings\n",
    "def rmse(prediction, ground_truth):\n",
    "    prediction = prediction[ground_truth.nonzero()].flatten() \n",
    "    ground_truth = ground_truth[ground_truth.nonzero()].flatten()\n",
    "    \n",
    "    return sqrt(mean_squared_error(prediction, ground_truth))\n",
    "\n",
    "##Predit function to find user-user similarity and item-item similarity. User bias is removed by adjusting the \n",
    "##mean user bias before predicting ratings\n",
    "def predict(ratings, similarity, type='user',epsilon=1e20):\n",
    "    if type == 'user':\n",
    "        mean_user_rating = ratings.mean(axis=1)\n",
    "        #You use np.newaxis so that mean_user_rating has same format as ratings\n",
    "        ratings_diff = (ratings - mean_user_rating[:, np.newaxis]) \n",
    "        pred = mean_user_rating[:, np.newaxis] + similarity.dot(ratings_diff) / np.array([np.abs(similarity).sum(axis=1)]).T\n",
    "    elif type == 'item':\n",
    "        pred = ratings.dot(similarity) / np.array([np.abs(similarity).sum(axis=1)])  \n",
    "    return pred\n",
    "\n",
    "##\n",
    "##Find the top-k movie names based on the ordered ratings \n",
    "##\n",
    "def top_k_movies_byuser(prediction, mapper, user_idx, k=6):\n",
    "    return [mapper[x] for x in np.argsort(prediction[user_idx,np.where(train_data_matrix[user_idx, :] == 0)[0]])[:-k-1:-1]]\n",
    "\n",
    "\n",
    "\n",
    "\n",
    "##Predict the ratings using dot product of the latent features for users and items \n",
    "def predictionSGD(P,Q):\n",
    "    return np.dot(P.T,Q)\n",
    "\n",
    "# Load movie data\n",
    "idx_to_movie = {}\n",
    "with open('ml-100k/u.item', 'r') as f:\n",
    "    for line in f.readlines():\n",
    "        info = line.split('|')\n",
    "        idx_to_movie[int(info[0])-1] = info[1]\n",
    "\n",
    "print(len(idx_to_movie))"
   ]
  },
  {
   "cell_type": "markdown",
   "metadata": {},
   "source": [
    "## Memory based Collorative Filtering\n",
    "Memory based collaborative filtering has again two types , one is ** item based CF **(i.e Users who liked this item also liked …) and second is ** user based CF **(i.e Users who are similar to you also liked …)In the first approach,items are compared to find similar items and items are recommened accordingly. Likewise users are compared to find similar users and item interactions between similar users are used for recommendations.\n",
    "Distance metric that is considered in this case is \"Cosine Similarity\"\n"
   ]
  },
  {
   "cell_type": "code",
   "execution_count": 3,
   "metadata": {
    "collapsed": false
   },
   "outputs": [
    {
     "name": "stderr",
     "output_type": "stream",
     "text": [
      "/Library/Python/2.7/site-packages/sklearn/cross_validation.py:44: DeprecationWarning: This module was deprecated in version 0.18 in favor of the model_selection module into which all the refactored classes and functions are moved. Also note that the interface of the new CV iterators are different from that of this module. This module will be removed in 0.20.\n",
      "  \"This module will be removed in 0.20.\", DeprecationWarning)\n"
     ]
    },
    {
     "name": "stdout",
     "output_type": "stream",
     "text": [
      "User-based CF MSE on train data: 2.90053541817\n",
      "User-based CF MSE on test data: 2.9561728668\n",
      "\n",
      "Movies recommended to user 16 are:\n",
      "['Hoop Dreams (1994)', 'Delicatessen (1991)', 'Toy Story (1995)', 'Striptease (1996)', \"Smilla's Sense of Snow (1997)\", 'Cold Comfort Farm (1995)']\n",
      "\n",
      "Item-based CF MSE on train data: 3.09858790301\n",
      "Item-based CF MSE on test data: 3.16207539546\n",
      "\n",
      "Movies recommended to user 16 are:\n",
      "['Escape to Witch Mountain (1975)', \"Lover's Knot (1996)\", 'Time Tracers (1995)', 'Collectionneuse, La (1967)', 'Paper, The (1994)', 'Slingshot, The (1993)']\n",
      "\n"
     ]
    }
   ],
   "source": [
    "import numpy as np\n",
    "import pandas as pd\n",
    "from sklearn.metrics import mean_squared_error\n",
    "from math import sqrt\n",
    "from sklearn.metrics.pairwise import pairwise_distances\n",
    "\n",
    "trainRMSE = []\n",
    "testRMSE = []\n",
    "\n",
    "header = ['user_id', 'item_id', 'rating', 'timestamp']\n",
    "df = pd.read_csv('ml-100k/u.data', sep='\\t', names=header)\n",
    "n_users = df.user_id.unique().shape[0]\n",
    "n_items = df.item_id.unique().shape[0]\n",
    "#print 'Number of users = ' + str(n_users) + ' | Number of movies = ' + str(n_items)  \n",
    "\n",
    "from sklearn import cross_validation as cv\n",
    "train_data, test_data = cv.train_test_split(df, test_size=0.25)\n",
    "\n",
    "#Create two user-item matrices, one for training and another for testing\n",
    "train_data_matrix = np.zeros((n_users, n_items))\n",
    "for line in train_data.itertuples():\n",
    "    train_data_matrix[line[1]-1, line[2]-1] = line[3]  \n",
    "\n",
    "test_data_matrix = np.zeros((n_users, n_items))\n",
    "for line in test_data.itertuples():\n",
    "    test_data_matrix[line[1]-1, line[2]-1] = line[3]\n",
    "\n",
    "\n",
    "\n",
    "#Compute the cosine distance and 1-cosine distance yields cosine similarity.epsilon is used to handle the \n",
    "#divide by zero scenarios\n",
    "epsilon=1e-9\n",
    "user_similarity = (1-pairwise_distances(train_data_matrix, metric='cosine')) + epsilon\n",
    "item_similarity = (1-pairwise_distances(train_data_matrix.T, metric='cosine')) + epsilon\n",
    "\n",
    "user_idx = 16 \n",
    "\n",
    "pred = predict(train_data_matrix, user_similarity, type='user')\n",
    "\n",
    "\n",
    "\n",
    "userBasedTrainRMSE = rmse(pred, train_data_matrix)\n",
    "userBasedTestRMSE = rmse(pred, test_data_matrix)\n",
    "\n",
    "trainRMSE.append(userBasedTrainRMSE)\n",
    "testRMSE.append(userBasedTestRMSE)\n",
    "\n",
    "print('User-based CF MSE on train data: ' + str(userBasedTrainRMSE))\n",
    "print('User-based CF MSE on test data: ' + str(userBasedTestRMSE)+\"\\n\")\n",
    "print(\"Movies recommended to user \" + str(user_idx) + \" are:\")\n",
    "nearestMovies = top_k_movies_byuser(pred, idx_to_movie, user_idx)\n",
    "print(str(nearestMovies)  + \"\\n\")\n",
    "\n",
    "pred = predict(train_data_matrix, item_similarity, type='item')\n",
    "\n",
    "itemBasedTrainRMSE = rmse(pred, train_data_matrix)\n",
    "itemBasedTestRMSE = rmse(pred, test_data_matrix)\n",
    "trainRMSE.append(itemBasedTrainRMSE)\n",
    "testRMSE.append(itemBasedTestRMSE)\n",
    "\n",
    "\n",
    "print('Item-based CF MSE on train data: ' + str(itemBasedTrainRMSE))\n",
    "print('Item-based CF MSE on test data: ' + str(itemBasedTestRMSE)+\"\\n\")\n",
    "print(\"Movies recommended to user \" + str(user_idx) + \" are:\")\n",
    "\n",
    "nearestMovies = top_k_movies_byuser(pred, idx_to_movie, user_idx)\n",
    "print(str(nearestMovies)  + \"\\n\")\n",
    "\n"
   ]
  },
  {
   "cell_type": "markdown",
   "metadata": {},
   "source": [
    "In the above example, the RMSE for user based and item based models are given. We will run a similar test using the ** memory based (CF)** "
   ]
  },
  {
   "cell_type": "markdown",
   "metadata": {},
   "source": [
    "## Model  based Collaborative filtering\n",
    "Model based collaborative filtering uses matrix factorization methods to find the hidden features from the given data. Singular Value Decomposition(SVD) is one such matrix factorization methods which we will explore below.We will use the SVD as the matrix factorization method to find the features in the vector space.\n"
   ]
  },
  {
   "cell_type": "code",
   "execution_count": 4,
   "metadata": {
    "collapsed": false
   },
   "outputs": [
    {
     "name": "stderr",
     "output_type": "stream",
     "text": [
      "/Library/Python/2.7/site-packages/numpy/core/fromnumeric.py:2699: VisibleDeprecationWarning: `rank` is deprecated; use the `ndim` attribute or function instead. To find the rank of a matrix see `numpy.linalg.matrix_rank`.\n",
      "  VisibleDeprecationWarning)\n"
     ]
    },
    {
     "name": "stdout",
     "output_type": "stream",
     "text": [
      "Model-based CF MSE on train data: 2.07351160628\n",
      "Model-based CF MSE on test data: 2.94706664635\n",
      "\n",
      "Movies recommended to user 16 are:\n",
      "['Toy Story (1995)', 'Gattaca (1997)', 'Taxi Driver (1976)', 'unknown', 'Good Will Hunting (1997)', 'First Knight (1995)']\n",
      "\n",
      "   Actual Rating  Predicted Rating\n",
      "0            4.0          2.837945\n",
      "1            3.0          1.994064\n",
      "2            4.0          3.736380\n",
      "3            3.0          0.603447\n",
      "4            3.0          1.592603\n",
      "(943, 1682)\n"
     ]
    }
   ],
   "source": [
    "import scipy.sparse as sp\n",
    "from scipy.sparse.linalg import svds\n",
    "\n",
    "#get SVD components from train matrix. Choose k.\n",
    "u, s, vt = svds(train_data_matrix, k = 50)\n",
    "s_diag_matrix=np.diag(s)\n",
    "X_pred = np.dot(np.dot(u, s_diag_matrix), vt)\n",
    "\n",
    "modelBasedTrainRMSE = rmse(X_pred, train_data_matrix)\n",
    "modelBasedTestRMSE = rmse(X_pred, test_data_matrix)\n",
    "trainRMSE.append(modelBasedTrainRMSE)\n",
    "testRMSE.append(modelBasedTestRMSE)\n",
    "\n",
    "print('Model-based CF MSE on train data: ' + str(modelBasedTrainRMSE))\n",
    "print('Model-based CF MSE on test data: ' + str(modelBasedTestRMSE) + \"\\n\")\n",
    "\n",
    "print(\"Movies recommended to user \" + str(user_idx) + \" are:\")\n",
    "nearestMovies = top_k_movies_byuser(X_pred, idx_to_movie, user_idx)\n",
    "print(str(nearestMovies) + \"\\n\")\n",
    "\n",
    "# Compare true ratings of user with predictions\n",
    "ratings = pd.DataFrame(columns = (\"Actual Rating\",\"Predicted Rating\"))\n",
    "ratings[\"Actual Rating\"] = train_data_matrix[user_idx,np.where(train_data_matrix[user_idx, :] > 0)[0]][0:5]\n",
    "ratings[\"Predicted Rating\"] = X_pred[user_idx,np.where(train_data_matrix[user_idx, :] > 0)[0]][0:5]\n",
    "print(ratings)\n",
    "\n",
    "\n",
    "print(X_pred.shape)\n"
   ]
  },
  {
   "cell_type": "markdown",
   "metadata": {},
   "source": [
    "RMSE in the model based CF is not any better than the memory based model. Another big issue with the matrix factorization approach is that it does not work well with missing data.MovieLens dataset that is considered in this script has no Nan/missing values and thus the SVD worked. But in real-life scenario that is hardly the case.In the next section we will be using ** Stochastic Gradient Descent ** to update the missing features while minimizing loss function.\n",
    "\n",
    "## Stochastic Gradient Descent\n",
    "\n",
    "In this algorithm we need to find two low-rank matrices, user_feature(k * m) and movie_feature (k*n)\n",
    "that makes prediction such that loss function is minimized.Update function for each step uses the formula menetioned in the given write-up.http://www.jmlr.org/proceedings/papers/v36/li14.pdf\n",
    "\n",
    "We use regularized stochastic gradient descent to avoid overfitting and number of iterations are fixed. As the iterations increase RMSE is calculated to arrive at the optimum values of user and movie low rank matrix.\n"
   ]
  },
  {
   "cell_type": "code",
   "execution_count": 5,
   "metadata": {
    "collapsed": false
   },
   "outputs": [
    {
     "name": "stdout",
     "output_type": "stream",
     "text": [
      "(943, 1682)\n"
     ]
    }
   ],
   "source": [
    "print(train_data_matrix.shape)"
   ]
  },
  {
   "cell_type": "code",
   "execution_count": 6,
   "metadata": {
    "collapsed": false,
    "scrolled": true
   },
   "outputs": [],
   "source": [
    "lmbda = 0.1 # Regularisation weight\n",
    "k = 20  # Dimensionality of the latent feature space\n",
    "m, n = train_data_matrix.shape  # Number of users and items\n",
    "iterations = 100  # Number of epochs\n",
    "gamma=0.01  # Learning rate\n",
    "\n",
    "user_feature = 3 * np.random.rand(k,m) # Latent user feature matrix\n",
    "movie_feature = 3 * np.random.rand(k,n) # Latent movie feature matrix\n",
    "train_errors = []\n",
    "test_errors = []\n",
    "\n",
    "#Only consider non-zero matrix \n",
    "users,items = train_data_matrix.nonzero()      \n",
    "for iter in range(iterations):\n",
    "    #print(\"iterations \",iter)\n",
    "    for u, i in zip(users,items):\n",
    "        e = train_data_matrix[u, i] - predictionSGD(user_feature[:,u],movie_feature[:,i])  # Calculate error for gradient\n",
    "        user_feature[:,u] += gamma * ( e * movie_feature[:,i] - lmbda * user_feature[:,u]) # Update latent user feature matrix\n",
    "        movie_feature[:,i] += gamma * ( e * user_feature[:,u] - lmbda * movie_feature[:,i])  # Update latent movie feature matrix\n",
    "    pred = predictionSGD(user_feature,movie_feature)\n",
    "    train_rmse = rmse(pred, train_data_matrix)\n",
    "    test_rmse = rmse(pred, test_data_matrix)\n",
    "    train_errors.append(train_rmse)\n",
    "    test_errors.append(test_rmse)\n",
    "\n"
   ]
  },
  {
   "cell_type": "code",
   "execution_count": 7,
   "metadata": {
    "collapsed": false
   },
   "outputs": [
    {
     "name": "stdout",
     "output_type": "stream",
     "text": [
      "SGD CF MSE on train data: 0.715195367929\n",
      "SGD CF MSE on test data: 0.985570377192\n",
      "\n",
      "Movies recommended to user 16 are:\n",
      "                                     0\n",
      "0                     Wife, The (1995)\n",
      "1                          Bent (1997)\n",
      "2               Band Wagon, The (1953)\n",
      "3                     Fear, The (1995)\n",
      "4  Amazing Panda Adventure, The (1995)\n",
      "5                 Men With Guns (1997)\n",
      "\n",
      "\n",
      "   Actual Rating  Train Predicted Rating  Test Predicted Rating\n",
      "0            4.0                3.412332               3.258586\n",
      "1            3.0                3.095583               2.969613\n",
      "2            4.0                3.443447               0.179003\n",
      "3            3.0                2.976036               3.884278\n",
      "4            3.0                2.523353               3.405198\n"
     ]
    }
   ],
   "source": [
    "# Calculate prediction matrix R_hat (low-rank approximation for R)\n",
    "pred=predictionSGD(user_feature,movie_feature)\n",
    "sgdBasedTrainRMSE = rmse(pred, train_data_matrix)\n",
    "sgdBasedTestRMSE = rmse(pred, test_data_matrix)\n",
    "trainRMSE.append(sgdBasedTrainRMSE)\n",
    "testRMSE.append(sgdBasedTestRMSE)\n",
    "\n",
    "print('SGD CF MSE on train data: ' + str(sgdBasedTrainRMSE))\n",
    "print('SGD CF MSE on test data: ' + str(sgdBasedTestRMSE) + \"\\n\")\n",
    "\n",
    "print(\"Movies recommended to user \" + str(user_idx) + \" are:\")\n",
    "nearestMovies = top_k_movies_byuser(pred, idx_to_movie, user_idx)\n",
    "print(pd.DataFrame(nearestMovies))\n",
    "print(\"\\n\")\n",
    "\n",
    "# Compare true ratings of user with predictions\n",
    "ratings = pd.DataFrame(columns = (\"Actual Rating\",\"Train Predicted Rating\",\"Test Predicted Rating\"))\n",
    "ratings[\"Actual Rating\"] = train_data_matrix[user_idx,np.where(train_data_matrix[user_idx, :] > 0)[0]][0:5]\n",
    "ratings[\"Train Predicted Rating\"] = pred[user_idx,np.where(train_data_matrix[user_idx, :] > 0)[0]][0:5]\n",
    "ratings[\"Test Predicted Rating\"] = pred[user_idx,np.where(test_data_matrix[user_idx, :] > 0)[0]][0:5]\n",
    "print(ratings)"
   ]
  },
  {
   "cell_type": "markdown",
   "metadata": {},
   "source": [
    "# Implementing Restricted Boltzmann machine using Tensor Flow\n",
    "** Restriced Boltzmann Machine ** is a two layered neural network used to generalize the process of recontructing the input using Contrastive Divergence. "
   ]
  },
  {
   "cell_type": "code",
   "execution_count": 8,
   "metadata": {
    "collapsed": false
   },
   "outputs": [],
   "source": [
    "import tensorflow as tf\n",
    "import numpy as np\n",
    "import pandas as pd\n",
    "import matplotlib.pyplot as plt\n",
    "%matplotlib inline\n",
    "\n",
    "#Normalizing the ratings to be between 0 and 1\n",
    "train_data_matrix_new = train_data_matrix/5\n",
    "\n",
    "# Hyper paramters\n",
    "#Number of nodes in the hidden layer\n",
    "hiddenUnits = 20\n",
    "#Learning rate\n",
    "alpha = 1.0\n",
    "\n",
    "visibleUnits = train_data_matrix.shape[1]\n",
    "vb = tf.placeholder(\"float\", [visibleUnits]) #Number of unique movies\n",
    "hb = tf.placeholder(\"float\", [hiddenUnits]) #Number of features we're going to learn\n",
    "W = tf.placeholder(\"float\", [visibleUnits, hiddenUnits])\n",
    "\n",
    "#Phase 1: Input Processing/Postive phase\n",
    "v0 = tf.placeholder(\"float\", [None, visibleUnits])\n",
    "_h0= tf.nn.sigmoid(tf.matmul(v0, W) + hb)\n",
    "h0 = tf.nn.relu(tf.sign(_h0 - tf.random_uniform(tf.shape(_h0))))\n",
    "\n",
    "#Phase 2: Reconstruction Phase\n",
    "_v1 = tf.nn.sigmoid(tf.matmul(h0, tf.transpose(W)) + vb) \n",
    "v1 = tf.nn.relu(tf.sign(_v1 - tf.random_uniform(tf.shape(_v1))))\n",
    "h1 = tf.nn.sigmoid(tf.matmul(v1, W) + hb)\n",
    "\n",
    "#Create the gradients\n",
    "w_pos_grad = tf.matmul(tf.transpose(v0), h0)\n",
    "w_neg_grad = tf.matmul(tf.transpose(v1), h1)\n",
    "#Calculate the Contrastive Divergence to maximize\n",
    "CD = (w_pos_grad - w_neg_grad) / tf.to_float(tf.shape(v0)[0])\n",
    "\n",
    "#Create methods to update the weights and biases\n",
    "update_w = W + alpha * CD\n",
    "update_vb = vb + alpha * tf.reduce_mean(v0 - v1, 0)\n",
    "update_hb = hb + alpha * tf.reduce_mean(h0 - h1, 0)\n",
    "err = v0 - v1\n",
    "err_sum = tf.reduce_mean(err * err)"
   ]
  },
  {
   "cell_type": "code",
   "execution_count": 9,
   "metadata": {
    "collapsed": true
   },
   "outputs": [],
   "source": [
    "#Current weight\n",
    "cur_w = np.zeros([visibleUnits, hiddenUnits], np.float32)\n",
    "#Current visible unit biases\n",
    "cur_vb = np.zeros([visibleUnits], np.float32)\n",
    "#Current hidden unit biases\n",
    "cur_hb = np.zeros([hiddenUnits], np.float32)\n",
    "#Previous weight\n",
    "prv_w = np.zeros([visibleUnits, hiddenUnits], np.float32)\n",
    "#Previous visible unit biases\n",
    "prv_vb = np.zeros([visibleUnits], np.float32)\n",
    "#Previous hidden unit biases\n",
    "prv_hb = np.zeros([hiddenUnits], np.float32)\n",
    "sess = tf.Session()\n",
    "sess.run(tf.global_variables_initializer())"
   ]
  },
  {
   "cell_type": "code",
   "execution_count": 10,
   "metadata": {
    "collapsed": false
   },
   "outputs": [
    {
     "data": {
      "image/png": "[encoded data removed]",
      "text/plain": [
       "<matplotlib.figure.Figure at 0x12057c850>"
      ]
     },
     "metadata": {},
     "output_type": "display_data"
    }
   ],
   "source": [
    "epochs = 15\n",
    "batchsize = 100\n",
    "errors = []\n",
    "for i in range(epochs):\n",
    "    for start, end in zip( range(0, len(train_data_matrix_new), batchsize), range(batchsize, len(train_data_matrix_new), batchsize)):\n",
    "        batch = train_data_matrix_new[start:end]\n",
    "        cur_w = sess.run(update_w, feed_dict={v0: batch, W: prv_w, vb: prv_vb, hb: prv_hb})\n",
    "        cur_vb = sess.run(update_vb, feed_dict={v0: batch, W: prv_w, vb: prv_vb, hb: prv_hb})\n",
    "        cur_nb = sess.run(update_hb, feed_dict={v0: batch, W: prv_w, vb: prv_vb, hb: prv_hb})\n",
    "        prv_w = cur_w\n",
    "        prv_vb = cur_vb\n",
    "        prv_hb = cur_nb\n",
    "    errors.append(sess.run(err_sum, feed_dict={v0: train_data_matrix_new, W: cur_w, vb: cur_vb, hb: cur_nb}))\n",
    "plt.plot(errors)\n",
    "plt.ylabel('Error')\n",
    "plt.xlabel('Epoch')\n",
    "plt.show()"
   ]
  },
  {
   "cell_type": "code",
   "execution_count": 11,
   "metadata": {
    "collapsed": false
   },
   "outputs": [],
   "source": [
    "def top_k_movies_byuserid(prediction, mapper, user_idx, k=6):\n",
    "    return [{\"movie\":mapper[x],\"prediction\":prediction[0][x]} for x  in np.argsort(prediction)[0,:k]]\n",
    "\n"
   ]
  },
  {
   "cell_type": "code",
   "execution_count": 12,
   "metadata": {
    "collapsed": false
   },
   "outputs": [
    {
     "name": "stdout",
     "output_type": "stream",
     "text": [
      "Movies recommended to user 16\n",
      "                                               movie  prediction\n",
      "0                            Butcher Boy, The (1998)    0.000057\n",
      "1                                      Homage (1995)    0.000058\n",
      "2                                      August (1996)    0.000064\n",
      "3                              Lashou shentan (1992)    0.000069\n",
      "4  Death in the Garden (Mort en ce jardin, La) (1...    0.000070\n",
      "5                            Shadows (Cienie) (1988)    0.000071\n"
     ]
    }
   ],
   "source": [
    "#Selecting the input user\n",
    "inputUser = [train_data_matrix_new[user_idx]]\n",
    "#Feeding in the user and reconstructing the input\n",
    "hh0 = tf.nn.sigmoid(tf.matmul(v0, W) + hb)\n",
    "vv1 = tf.nn.sigmoid(tf.matmul(hh0, tf.transpose(W)) + vb)\n",
    "feed = sess.run(hh0, feed_dict={ v0: inputUser, W: prv_w, hb: prv_hb})\n",
    "rec = sess.run(vv1, feed_dict={ hh0: feed, W: prv_w, vb: prv_vb})\n",
    "print(\"Movies recommended to user \" + str(user_idx))\n",
    "nearestMovies = top_k_movies_byuserid(rec, idx_to_movie, user_idx)\n",
    "print(pd.DataFrame(nearestMovies))\n"
   ]
  },
  {
   "cell_type": "markdown",
   "metadata": {},
   "source": [
    "## Model Performance\n",
    "Let us do a simple plot to compare RMSE in all the 4 models we have considered.4 models considered here are the Memory based CF(user based and item based CF),Model Based CF(Singular Value Decomposition(SVD),Stochastic Gradient Descent."
   ]
  },
  {
   "cell_type": "code",
   "execution_count": 13,
   "metadata": {
    "collapsed": false
   },
   "outputs": [
    {
     "data": {
      "image/png": "[encoded data removed]",
      "text/plain": [
       "<matplotlib.figure.Figure at 0x11148f350>"
      ]
     },
     "metadata": {},
     "output_type": "display_data"
    }
   ],
   "source": [
    "import numpy as np\n",
    "import matplotlib.pyplot as plt\n",
    "\n",
    "fig = plt.figure()\n",
    "ax = fig.add_subplot(111)\n",
    "\n",
    "## the data\n",
    "N = 4\n",
    "## necessary variables\n",
    "ind = np.arange(N)                # the x locations for the groups\n",
    "width = 0.35                      # the width of the bars\n",
    "\n",
    "## the bars\n",
    "rects1 = ax.bar(ind, trainRMSE, width,\n",
    "                color='black'\n",
    "                )\n",
    "\n",
    "rects2 = ax.bar(ind+width, testRMSE, width,\n",
    "                    color='red',\n",
    "                    )\n",
    "\n",
    "# axes and labels\n",
    "ax.set_xlim(-width,len(ind)+width)\n",
    "ax.set_ylim(0,4)\n",
    "ax.set_ylabel('RMSE')\n",
    "ax.set_title('RMSE by train/test for different recommenders')\n",
    "xTickMarks = ['User CF','Item CF','SVD','SGD']\n",
    "ax.set_xticks(ind+width)\n",
    "xtickNames = ax.set_xticklabels(xTickMarks)\n",
    "plt.setp(xtickNames, rotation=45, fontsize=10)\n",
    "## add a legend\n",
    "ax.legend( (rects1[0], rects2[0]), ('Train', 'Test') )\n",
    "plt.show()"
   ]
  },
  {
   "cell_type": "markdown",
   "metadata": {
    "collapsed": true
   },
   "source": [
    "# Conclusion\n",
    "All the above models adopt different techniques to predict the movie ratings based on the existing data.Model performance is guaged with least Root Mean Square Error. Stochastic Gradient Descent outperforms other collaborative filtering methods with the least Root Mean Squared Error. In the next blog we will look at other models,including the hybrid models for the recommender systems.\n",
    "\n",
    "## Reference\n",
    "\n",
    "* http://www.jmlr.org/proceedings/papers/v36/li14.pdf\n",
    "\n",
    "* http://online.cambridgecoding.com/notebooks/mhaller/implementing-your-own-recommender-systems-in-python-using-stochastic-gradient-descent-4\n",
    "\n",
    "* http://blog.ethanrosenthal.com/2015/11/02/intro-to-collaborative-filtering/\n",
    "\n"
   ]
  },
  {
   "cell_type": "code",
   "execution_count": null,
   "metadata": {
    "collapsed": true
   },
   "outputs": [],
   "source": []
  }
 ],
 "metadata": {
  "anaconda-cloud": {},
  "kernelspec": {
   "display_name": "Python 2",
   "language": "python",
   "name": "python2"
  },
  "language_info": {
   "codemirror_mode": {
    "name": "ipython",
    "version": 2
   },
   "file_extension": ".py",
   "mimetype": "text/x-python",
   "name": "python",
   "nbconvert_exporter": "python",
   "pygments_lexer": "ipython2",
   "version": "2.7.10"
  }
 },
 "nbformat": 4,
 "nbformat_minor": 1
}
