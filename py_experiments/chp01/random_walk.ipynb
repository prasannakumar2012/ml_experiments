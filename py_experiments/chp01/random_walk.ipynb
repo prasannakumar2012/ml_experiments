{
 "metadata": {
  "name": "random_walk.ipynb"
 },
 "nbformat": 3,
 "nbformat_minor": 0,
 "worksheets": [
  {
   "cells": [
    {
     "cell_type": "heading",
     "level": 2,
     "metadata": {},
     "source": [
      "Random Walk Monte Carlo"
     ]
    },
    {
     "cell_type": "markdown",
     "metadata": {},
     "source": [
      "Consider a random walk on 2D lattice. It forms a Markov chain $\\{X_i\\}_{i=1}^{n}$ on $\\mathbb{Z} \\times \\mathbb{Z}$ with $X_0=0$ and transition probabilities given by"
     ]
    },
    {
     "cell_type": "markdown",
     "metadata": {},
     "source": [
      "$P(X_i = (k,l) | X_{i-1} = (i,j)) = \n",
      "\\begin{cases} \n",
      "1/4, if |k-i| + |l-j| = 1\\\\\n",
      "0, \\mathrm{otherwise}\n",
      "\\end{cases}$"
     ]
    },
    {
     "cell_type": "markdown",
     "metadata": {},
     "source": [
      "We assume a uniform transition probability propotional to one over the number of unoccupied neighbors of a given node. Self-avoiding random walks are simply random walks that do not cross themselves. We can use monte carlo to simulate a self-avoiding random walk."
     ]
    },
    {
     "cell_type": "code",
     "collapsed": false,
     "input": [
      "%matplotlib inline \n",
      "import numpy as np\n",
      "import seaborn as sns\n",
      "import matplotlib.pyplot as plt"
     ],
     "language": "python",
     "metadata": {},
     "outputs": [],
     "prompt_number": 8
    },
    {
     "cell_type": "code",
     "collapsed": false,
     "input": [
      "num_step = 64 #number of steps in a random walk\n",
      "num_iter = 16  #number of iterations for averaging results\n",
      "moves = np.array([[0, 1],[0, -1],[-1, 0],[1, 0]]) #2-D moves\n",
      "    \n",
      "#random walk stats\n",
      "square_dist = np.zeros(num_iter)\n",
      "weights = np.zeros(num_iter)\n",
      "        \n",
      "for it in range(num_iter):\n",
      "        \n",
      "    trial = 0\n",
      "    i = 1\n",
      "        \n",
      "    #iterate until we have a non-crossing random walk\n",
      "    while i != num_step-1:\n",
      "            \n",
      "        #init\n",
      "        X, Y = 0, 0\n",
      "        weight = 1\n",
      "        lattice = np.zeros((2*num_step+1, 2*num_step+1))\n",
      "        lattice[num_step+1,num_step+1] = 1\n",
      "        path = np.array([0, 0])\n",
      "        xx = num_step + 1 + X\n",
      "        yy = num_step + 1 + Y\n",
      "            \n",
      "        print \"iter: %d, trial %d\" %(it, trial)\n",
      "            \n",
      "        for i in range(num_step):\n",
      "                \n",
      "            up    = lattice[xx,yy+1]\n",
      "            down  = lattice[xx,yy-1]\n",
      "            left  = lattice[xx-1,yy]\n",
      "            right = lattice[xx+1,yy]\n",
      "                \n",
      "            #compute available directions\n",
      "            neighbors = np.array([1, 1, 1, 1]) - np.array([up, down, left, right])\n",
      "                \n",
      "            #avoid self-loops\n",
      "            if (np.sum(neighbors) == 0):\n",
      "                i = 1\n",
      "                break\n",
      "            #end if\n",
      "                \n",
      "            #compute importance weights: d0 x d1 x ... x d_{n-1}\n",
      "            weight = weight * np.sum(neighbors)\n",
      "                \n",
      "            #sample a move direction\n",
      "            direction = np.where(np.random.rand() < np.cumsum(neighbors/float(sum(neighbors))))\n",
      "                \n",
      "            X = X + moves[direction[0][0],0]\n",
      "            Y = Y + moves[direction[0][0],1]\n",
      "                \n",
      "            #store sampled path\n",
      "            path_new = np.array([X,Y])\n",
      "            path = np.vstack((path,path_new))\n",
      "                \n",
      "            #update grid coordinates\n",
      "            xx = num_step + 1 + X\n",
      "            yy = num_step + 1 + Y                  \n",
      "            lattice[xx,yy] = 1                                                                                                                                            \n",
      "        #end for\n",
      "            \n",
      "        trial = trial + 1\n",
      "    #end while                                \n",
      "        \n",
      "    #compute square extension\n",
      "    square_dist[it] = X**2 + Y**2\n",
      "        \n",
      "    #store importance weights\n",
      "    weights[it] = weight                                                        \n",
      "#end for\n"
     ],
     "language": "python",
     "metadata": {},
     "outputs": [
      {
       "output_type": "stream",
       "stream": "stdout",
       "text": [
        "iter: 0, trial 0\n",
        "iter: 0, trial 1\n",
        "iter: 0, trial 2\n",
        "iter: 0, trial 3\n",
        "iter: 0, trial 4\n",
        "iter: 1, trial 0\n",
        "iter: 2, trial 0\n",
        "iter: 3, trial 0\n",
        "iter: 3, trial 1\n",
        "iter: 4, trial 0\n",
        "iter: 5, trial 0\n",
        "iter: 5, trial 1\n",
        "iter: 5, trial 2\n",
        "iter: 6, trial 0\n",
        "iter: 6, trial 1\n",
        "iter: 7, trial 0\n",
        "iter: 7, trial 1\n",
        "iter: 7, trial 2\n",
        "iter: 7, trial 3\n",
        "iter: 8, trial 0\n",
        "iter: 8, trial 1\n",
        "iter: 8, trial 2\n",
        "iter: 9, trial 0"
       ]
      },
      {
       "output_type": "stream",
       "stream": "stdout",
       "text": [
        "\n",
        "iter: 10, trial 0\n",
        "iter: 10, trial 1\n",
        "iter: 10, trial 2\n",
        "iter: 10, trial 3\n",
        "iter: 10, trial 4\n",
        "iter: 10, trial 5\n",
        "iter: 11, trial 0\n",
        "iter: 11, trial 1\n",
        "iter: 11, trial 2\n",
        "iter: 11, trial 3\n",
        "iter: 11, trial 4\n",
        "iter: 12, trial 0\n",
        "iter: 12, trial 1\n",
        "iter: 13, trial 0\n",
        "iter: 14, trial 0\n",
        "iter: 15, trial 0\n"
       ]
      }
     ],
     "prompt_number": 9
    },
    {
     "cell_type": "code",
     "collapsed": false,
     "input": [
      "#compute mean square extension\n",
      "mean_square_dist = np.mean(weights * square_dist)/np.mean(weights)\n",
      "print \"mean square dist: \", mean_square_dist"
     ],
     "language": "python",
     "metadata": {},
     "outputs": [
      {
       "output_type": "stream",
       "stream": "stdout",
       "text": [
        "mean square dist:  469.087244289\n"
       ]
      }
     ],
     "prompt_number": 10
    },
    {
     "cell_type": "code",
     "collapsed": false,
     "input": [
      "#generate plots\n",
      "plt.figure()\n",
      "for i in range(num_step-1):\n",
      "    plt.plot(path[i,0], path[i,1], path[i+1,0], path[i+1,1], 'ob')            \n",
      "plt.title('random walk with no overlaps')\n",
      "plt.xlabel('X')\n",
      "plt.ylabel('Y')\n",
      "plt.show()"
     ],
     "language": "python",
     "metadata": {},
     "outputs": [
      {
       "metadata": {},
       "output_type": "display_data",
       "png": "[encoded data removed]",
       "text": [
        "<matplotlib.figure.Figure at 0xb782048>"
       ]
      }
     ],
     "prompt_number": 11
    },
    {
     "cell_type": "code",
     "collapsed": false,
     "input": [
      "plt.figure()\n",
      "sns.distplot(square_dist)\n",
      "plt.xlim(0,np.max(square_dist))\n",
      "plt.title('square distance of the random walk')\n",
      "plt.xlabel('square distance (X^2 + Y^2)')\n",
      "plt.show()"
     ],
     "language": "python",
     "metadata": {},
     "outputs": [
      {
       "metadata": {},
       "output_type": "display_data",
       "png": "[encoded data removed]",
       "text": [
        "<matplotlib.figure.Figure at 0xb910710>"
       ]
      }
     ],
     "prompt_number": 12
    }
   ],
   "metadata": {}
  }
 ]
}