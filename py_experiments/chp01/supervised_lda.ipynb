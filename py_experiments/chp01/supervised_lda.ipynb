{
 "cells": [
  {
   "cell_type": "markdown",
   "metadata": {},
   "source": [
    "## Supervised LDA"
   ]
  },
  {
   "cell_type": "markdown",
   "metadata": {},
   "source": [
    "Latent Dirichlet Allocation (LDA) is an unsupervised topic model that represents each document as a mixture of topics, where a topic is a distribution over words. The objective is to learn the shared topic distributions and their proportions for each document. However, it is often desirable to associate a quantity of interest with each document known as a response variable, this could be the quality of a report or a five star rating for a movie review or a number of times an article is downloaded given its contents. Supervised LDA is designed to jointly learn the topics and the response variable associated with each document. The graphical model of supervised LDA is shown below."
   ]
  },
  {
   "cell_type": "markdown",
   "metadata": {},
   "source": [
    "<img src=\".\\figures\\sLDA_gm.png\">"
   ]
  },
  {
   "cell_type": "markdown",
   "metadata": {},
   "source": [
    "LDA assumes a bag of words model in which the words are exchangeable and as a result sentence structure is not preserved and only the word counts matter. The LDA associates each word $x_{i,d}$ with a topic label $z_{i,d} \\in \\{1,...,K\\}$. Each document is associated with topic proportions $\\theta_d$ that could be used to measure document similarity. The topics $\\beta_k$ represented by a Dirichlet distribution are shared across all documents. The hyper-parameters $\\alpha$ and $\\eta$ capture our prior knowledge of topic mixtures and topics, e.g. from past on-line training of the model. Finally, $y_d$ is the response variable that represents a score associated with each document. It is modelled as a regression between global coefficients $w$ and a histogram of topics $\\bar{z}$ present in a document. Assuming a Gaussian distribution, $y_d$ can be expressed as follows:"
   ]
  },
  {
   "cell_type": "markdown",
   "metadata": {},
   "source": [
    "\\begin{eqnarray}\n",
    "    y_d &\\sim& N(w_1 \\bar{z}_1 + ... + w_k \\bar{z}_k, \\sigma^{2}) \\\\\n",
    "    \\bar{z} &=& \\frac{1}{N} \\sum_{n=1}^{N} z_n\n",
    "\\end{eqnarray}\n",
    "where $z_n$ is a one-hot encoded topic assignment vector of size $1\\times K$. In other words, $\\bar{z}$ is a normalized histogram of topics associated with a document: $\\bar{z} = \\mathrm{hist}(z_{i,d}, bins=K)$.\n"
   ]
  },
  {
   "cell_type": "markdown",
   "metadata": {},
   "source": [
    "Having described the graphical model, we can use PyMC to infer the latent variables. In the training phase, the response variable and the words are observed and we are learning the topics $\\beta_k$, topic proportions $\\theta_d$ and the regression coefficients $w$. We'll be training the model on movie reviews, where each review is associated with a score from $-2$ to $+2$."
   ]
  },
  {
   "cell_type": "code",
   "execution_count": 23,
   "metadata": {},
   "outputs": [],
   "source": [
    "%matplotlib inline\n",
    "import numpy as np\n",
    "import pandas as pd\n",
    "import scipy.stats as stats\n",
    "\n",
    "import seaborn as sns\n",
    "import matplotlib.pyplot as plt\n",
    "\n",
    "import re\n",
    "import pymc as pm\n",
    "from sklearn.feature_extraction.text import TfidfVectorizer\n",
    "\n",
    "np.random.seed(0)"
   ]
  },
  {
   "cell_type": "code",
   "execution_count": 25,
   "metadata": {},
   "outputs": [],
   "source": [
    "train_corpus = [\"exploitative and largely devoid of the depth or sophistication \",\n",
    "                \"simplistic silly and tedious\",\n",
    "                \"it's so laddish and juvenile only teenage boys could possibly find it funny\",\n",
    "                \"it shows that some studios firmly believe that people have lost the ability to think\",\n",
    "                \"our culture is headed down the toilet with the ferocity of a frozen burrito\",\n",
    "                \"offers that rare combination of entertainment and education\",\n",
    "                \"the film provides some great insight\",\n",
    "                \"this is a film well worth seeing\",\n",
    "                \"a masterpiece four years in the making\",\n",
    "                \"offers a breath of the fresh air of true sophistication\"]\n",
    "test_corpus =  [\"this is a really positive review, great film\"]\n",
    "train_response = np.array([3, 1, 3, 2, 1, 5, 4, 4, 5, 5]) - 3"
   ]
  },
  {
   "cell_type": "code",
   "execution_count": 26,
   "metadata": {},
   "outputs": [],
   "source": [
    "#LDA parameters\n",
    "num_features = 1000  #vocabulary size\n",
    "num_topics = 4       #fixed for LDA"
   ]
  },
  {
   "cell_type": "code",
   "execution_count": 27,
   "metadata": {},
   "outputs": [],
   "source": [
    "#compute tf-idf (equivalent to count-vectorizer followed by tf-idf transformer)\n",
    "#count-vectorizer produces term-document matrix tf-idf scales tf counts by log N/nt \n",
    "#(N:total num of docs, nt: number of docs in which the word occurs)\n",
    "#if float (proportion of docs): min_df < nt/N  < max_df, if int: refers to count nt, e.g. min_df = 2\n",
    "tfidf = TfidfVectorizer(max_features = num_features, max_df=0.95, min_df=0, stop_words = 'english')"
   ]
  },
  {
   "cell_type": "code",
   "execution_count": 28,
   "metadata": {},
   "outputs": [
    {
     "name": "stdout",
     "output_type": "stream",
     "text": [
      "number of docs: 10\n",
      "dictionary size: 46\n"
     ]
    }
   ],
   "source": [
    "#generate tf-idf term-document matrix\n",
    "A_tfidf_sp = tfidf.fit_transform(train_corpus)  #size D x V\n",
    "\n",
    "print \"number of docs: %d\" %A_tfidf_sp.shape[0]\n",
    "print \"dictionary size: %d\" %A_tfidf_sp.shape[1]\n",
    "\n",
    "#tf-idf dictionary    \n",
    "tfidf_dict = tfidf.get_feature_names()"
   ]
  },
  {
   "cell_type": "code",
   "execution_count": 29,
   "metadata": {},
   "outputs": [],
   "source": [
    "K = num_topics # number of topics\n",
    "V = A_tfidf_sp.shape[1] # number of words\n",
    "D = A_tfidf_sp.shape[0] # number of documents\n",
    "    \n",
    "data = A_tfidf_sp.toarray()"
   ]
  },
  {
   "cell_type": "code",
   "execution_count": 30,
   "metadata": {},
   "outputs": [],
   "source": [
    "#Supervised LDA Graphical Model\n",
    "Wd = [len(doc) for doc in data]        \n",
    "alpha = np.ones(K)\n",
    "beta = np.ones(V)\n",
    "\n",
    "theta = pm.Container([pm.CompletedDirichlet(\"theta_%s\" % i, pm.Dirichlet(\"ptheta_%s\" % i, theta=alpha)) for i in range(D)])\n",
    "phi = pm.Container([pm.CompletedDirichlet(\"phi_%s\" % k, pm.Dirichlet(\"pphi_%s\" % k, theta=beta)) for k in range(K)])    \n",
    "    \n",
    "z = pm.Container([pm.Categorical('z_%s' % d, p = theta[d], size=Wd[d], value=np.random.randint(K, size=Wd[d])) for d in range(D)])\n",
    "   \n",
    "@pm.deterministic\n",
    "def zbar(z=z):    \n",
    "    zbar_list = []\n",
    "    for i in range(len(z)):\n",
    "        hist, bin_edges = np.histogram(z[i], bins=K)\n",
    "        zbar_list.append(hist / float(np.sum(hist)))                \n",
    "    return pm.Container(zbar_list)\n",
    "\n",
    "eta = pm.Container([pm.Normal(\"eta_%s\" % k, mu=0, tau=1.0/10**2) for k in range(K)])\n",
    "y_tau = pm.Gamma(\"tau\", alpha=0.1, beta=0.1)\n",
    "    \n",
    "@pm.deterministic\n",
    "def y_mu(eta=eta, zbar=zbar):\n",
    "    y_mu_list = []\n",
    "    for i in range(len(zbar)):\n",
    "        y_mu_list.append(np.dot(eta, zbar[i]))\n",
    "    return pm.Container(y_mu_list)\n",
    "            \n",
    "#response likelihood\n",
    "y = pm.Container([pm.Normal(\"y_%s\" % d, mu=y_mu[d], tau=y_tau, value=train_response[d], observed=True) for d in range(D)])\n",
    "    \n",
    "# cannot use p=phi[z[d][i]] here since phi is an ordinary list while z[d][i] is stochastic\n",
    "w = pm.Container([pm.Categorical(\"w_%i_%i\" % (d,i), p = pm.Lambda('phi_z_%i_%i' % (d,i), lambda z=z[d][i], phi=phi: phi[z]),\n",
    "                  value=data[d][i], observed=True) for d in range(D) for i in range(Wd[d])])\n"
   ]
  },
  {
   "cell_type": "markdown",
   "metadata": {},
   "source": [
    "Let's infer the latent variables using the Metropolis sampler:"
   ]
  },
  {
   "cell_type": "code",
   "execution_count": 31,
   "metadata": {},
   "outputs": [
    {
     "name": "stdout",
     "output_type": "stream",
     "text": [
      " [-----------------100%-----------------] 1000 of 1000 complete in 5.7 sec"
     ]
    }
   ],
   "source": [
    "model = pm.Model([theta, phi, z, eta, y_tau, y, w])\n",
    "mcmc = pm.MCMC(model)\n",
    "mcmc.sample(iter=1000, burn=100, thin=2)"
   ]
  },
  {
   "cell_type": "code",
   "execution_count": 32,
   "metadata": {},
   "outputs": [
    {
     "data": {
      "image/png": "[encoded data removed]",
      "text/plain": [
       "<matplotlib.figure.Figure at 0x11c9fc50>"
      ]
     },
     "metadata": {},
     "output_type": "display_data"
    }
   ],
   "source": [
    "#visualize topics    \n",
    "phi0_samples = np.squeeze(mcmc.trace('phi_0')[:])\n",
    "phi1_samples = np.squeeze(mcmc.trace('phi_1')[:])\n",
    "phi2_samples = np.squeeze(mcmc.trace('phi_2')[:])\n",
    "phi3_samples = np.squeeze(mcmc.trace('phi_3')[:])\n",
    "ax = plt.subplot(221)\n",
    "plt.bar(np.arange(V), phi0_samples[-1,:])\n",
    "ax = plt.subplot(222)\n",
    "plt.bar(np.arange(V), phi1_samples[-1,:])\n",
    "ax = plt.subplot(223)\n",
    "plt.bar(np.arange(V), phi2_samples[-1,:])\n",
    "ax = plt.subplot(224)\n",
    "plt.bar(np.arange(V), phi3_samples[-1,:])\n",
    "plt.show()"
   ]
  },
  {
   "cell_type": "markdown",
   "metadata": {},
   "source": [
    "Let's now predict the movie rating for a new document, our test corpus: \"this is a really positive review, great film\". We are expecting to get  a review close to $+2$. In order to predict our response variable, we'll be using the topics $\\beta_k$ and the regression weights $w$ learned during training."
   ]
  },
  {
   "cell_type": "code",
   "execution_count": 33,
   "metadata": {},
   "outputs": [],
   "source": [
    "#New Document Prediction\n",
    "T_tfidf_sp = tfidf.transform(test_corpus)   #size Dtest x V    \n",
    "Dtest = T_tfidf_sp.shape[0] # number of test documents\n",
    "    \n",
    "data_test = T_tfidf_sp.toarray()"
   ]
  },
  {
   "cell_type": "code",
   "execution_count": 34,
   "metadata": {},
   "outputs": [],
   "source": [
    "#Supervised LDA Graphical Model\n",
    "Wd_t = [len(doc) for doc in data_test]        \n",
    "alpha = np.ones(K)\n",
    "beta = np.ones(V)\n",
    "\n",
    "theta_t = pm.Container([pm.CompletedDirichlet(\"theta_t_%s\" % i, pm.Dirichlet(\"ptheta_t_%s\" % i, theta=alpha)) for i in range(Dtest)])    \n",
    "z_t = pm.Container([pm.Categorical('z_t_%s' % d, p = theta_t[d], size=Wd_t[d], value=np.random.randint(K, size=Wd_t[d])) for d in range(Dtest)])\n",
    "    \n",
    "@pm.deterministic\n",
    "def zbar_t(z=z_t):\n",
    "    zbar_list = []\n",
    "    for i in range(len(z)):\n",
    "        hist, bin_edges = np.histogram(z[i], bins=K)\n",
    "        zbar_list.append(hist / float(np.sum(hist)))                \n",
    "    return pm.Container(zbar_list)\n",
    "    \n",
    "@pm.deterministic\n",
    "def y_mu_t(eta=eta, zbar=zbar_t):\n",
    "    y_mu_list = []\n",
    "    for i in range(len(zbar)):\n",
    "        y_mu_list.append(np.dot(eta, zbar[i]))\n",
    "    return pm.Container(y_mu_list)\n",
    "            \n",
    "#response prediction\n",
    "y_t = pm.Container([pm.Normal(\"y_t_%s\" % d, mu=y_mu_t[d], tau=y_tau) for d in range(Dtest)])\n",
    "   \n",
    "# cannot use p=phi[z[d][i]] here since phi is an ordinary list while z[d][i] is stochastic\n",
    "w_t = pm.Container([pm.Categorical(\"w_t_%i_%i\" % (d,i), p = pm.Lambda('phi_z_t_%i_%i' % (d,i), lambda z=z_t[d][i], phi=phi: phi[z]),\n",
    "                    value=data_test[d][i], observed=True) for d in range(Dtest) for i in range(Wd_t[d])])\n"
   ]
  },
  {
   "cell_type": "markdown",
   "metadata": {},
   "source": [
    "Let's run the Metropolis sampler to obtain posterior distribution over our latent variables."
   ]
  },
  {
   "cell_type": "code",
   "execution_count": 35,
   "metadata": {},
   "outputs": [
    {
     "name": "stdout",
     "output_type": "stream",
     "text": [
      " [-----------------100%-----------------] 1000 of 1000 complete in 4.0 sec"
     ]
    }
   ],
   "source": [
    "model_test = pm.Model([theta_t, z_t, zbar_t, y_t, w_t])\n",
    "mcmc_test = pm.MCMC(model_test)\n",
    "mcmc_test.sample(iter=1000, burn=100, thin=2)"
   ]
  },
  {
   "cell_type": "code",
   "execution_count": 36,
   "metadata": {},
   "outputs": [
    {
     "name": "stdout",
     "output_type": "stream",
     "text": [
      "Plotting y_t_0\n"
     ]
    },
    {
     "data": {
      "image/png": "[encoded data removed]",
      "text/plain": [
       "<matplotlib.figure.Figure at 0x11ca9ba8>"
      ]
     },
     "metadata": {},
     "output_type": "display_data"
    }
   ],
   "source": [
    "#generate plots\n",
    "pm.Matplot.plot(mcmc_test.trace('y_t_0'))"
   ]
  },
  {
   "cell_type": "markdown",
   "metadata": {},
   "source": [
    "From the trace plot of our response variable we can see that we got a positive prediction with a mean close to $1$ and high variance. Increasing the vocabulary size and the number of words per document should help reduce the variance. We can also see low autocorrelation between the samples indicating that each sample is informative."
   ]
  }
 ],
 "metadata": {
  "kernelspec": {
   "display_name": "Python 2",
   "language": "python",
   "name": "python2"
  },
  "language_info": {
   "codemirror_mode": {
    "name": "ipython",
    "version": 2
   },
   "file_extension": ".py",
   "mimetype": "text/x-python",
   "name": "python",
   "nbconvert_exporter": "python",
   "pygments_lexer": "ipython2",
   "version": "2.7.6"
  }
 },
 "nbformat": 4,
 "nbformat_minor": 1
}
