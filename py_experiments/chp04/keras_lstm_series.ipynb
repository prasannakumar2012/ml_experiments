{
 "cells": [
  {
   "cell_type": "markdown",
   "metadata": {},
   "source": [
    "## Keras LSTM Time-Series Prediction"
   ]
  },
  {
   "cell_type": "markdown",
   "metadata": {},
   "source": [
    "Long Short-Term Memory (LSTM) Recurrent Neural Network (RNN) can be used to learn time-series data. Using Mean Square Error as a loss function it is possible to the future values of a time series. Here, an LSTM RNN is trained on the closing price of S&P500 time series with a lookback window of 10 days. A trading strategy can be constructed by using LSTM prediction price change sign as a signal for upward or downward price movement. For a momentum strategy, we long S&P500 whenever prediction is above a positive threshold, we short S&P500 when the prediction is below a negative threshold and we clear positions otherwise. \n"
   ]
  },
  {
   "cell_type": "code",
   "execution_count": 1,
   "metadata": {},
   "outputs": [
    {
     "name": "stderr",
     "output_type": "stream",
     "text": [
      "Using Theano backend.\n"
     ]
    }
   ],
   "source": [
    "%matplotlib inline\n",
    "\n",
    "import numpy as np\n",
    "import pandas as pd\n",
    "\n",
    "from keras.models import Sequential\n",
    "from keras.layers import Dense\n",
    "from keras.layers import LSTM\n",
    "\n",
    "from sklearn.preprocessing import MinMaxScaler\n",
    "from sklearn.metrics import mean_squared_error\n",
    "\n",
    "from pandas_datareader import data\n",
    "from datetime import datetime\n",
    "import pytz\n",
    "\n",
    "import matplotlib.pyplot as plt\n",
    "\n",
    "np.random.seed(0)"
   ]
  },
  {
   "cell_type": "code",
   "execution_count": 2,
   "metadata": {
    "collapsed": true
   },
   "outputs": [],
   "source": [
    "def create_dataset(dataset, look_back=1):\n",
    "\n",
    "    dataX, dataY = [], []\n",
    "    for i in range(len(dataset)-look_back-1):\n",
    "        dataX.append(dataset[i:(i+look_back),0])\n",
    "        dataY.append(dataset[i+look_back,0])\n",
    "\n",
    "    return np.array(dataX), np.array(dataY)"
   ]
  },
  {
   "cell_type": "code",
   "execution_count": 3,
   "metadata": {},
   "outputs": [
    {
     "data": {
      "text/html": [
       "<div>\n",
       "<table border=\"1\" class=\"dataframe\">\n",
       "  <thead>\n",
       "    <tr style=\"text-align: right;\">\n",
       "      <th></th>\n",
       "      <th>Open</th>\n",
       "      <th>High</th>\n",
       "      <th>Low</th>\n",
       "      <th>Close</th>\n",
       "      <th>Volume</th>\n",
       "    </tr>\n",
       "    <tr>\n",
       "      <th>Date</th>\n",
       "      <th></th>\n",
       "      <th></th>\n",
       "      <th></th>\n",
       "      <th></th>\n",
       "      <th></th>\n",
       "    </tr>\n",
       "  </thead>\n",
       "  <tbody>\n",
       "    <tr>\n",
       "      <th>2015-01-02</th>\n",
       "      <td>206.38</td>\n",
       "      <td>206.88</td>\n",
       "      <td>204.18</td>\n",
       "      <td>205.43</td>\n",
       "      <td>121465865</td>\n",
       "    </tr>\n",
       "    <tr>\n",
       "      <th>2015-01-05</th>\n",
       "      <td>204.17</td>\n",
       "      <td>204.37</td>\n",
       "      <td>201.35</td>\n",
       "      <td>201.72</td>\n",
       "      <td>169632646</td>\n",
       "    </tr>\n",
       "    <tr>\n",
       "      <th>2015-01-06</th>\n",
       "      <td>202.09</td>\n",
       "      <td>202.72</td>\n",
       "      <td>198.86</td>\n",
       "      <td>199.82</td>\n",
       "      <td>209151408</td>\n",
       "    </tr>\n",
       "    <tr>\n",
       "      <th>2015-01-07</th>\n",
       "      <td>201.42</td>\n",
       "      <td>202.72</td>\n",
       "      <td>200.88</td>\n",
       "      <td>202.31</td>\n",
       "      <td>125346709</td>\n",
       "    </tr>\n",
       "    <tr>\n",
       "      <th>2015-01-08</th>\n",
       "      <td>204.01</td>\n",
       "      <td>206.16</td>\n",
       "      <td>203.99</td>\n",
       "      <td>205.90</td>\n",
       "      <td>147217784</td>\n",
       "    </tr>\n",
       "  </tbody>\n",
       "</table>\n",
       "</div>"
      ],
      "text/plain": [
       "              Open    High     Low   Close     Volume\n",
       "Date                                                 \n",
       "2015-01-02  206.38  206.88  204.18  205.43  121465865\n",
       "2015-01-05  204.17  204.37  201.35  201.72  169632646\n",
       "2015-01-06  202.09  202.72  198.86  199.82  209151408\n",
       "2015-01-07  201.42  202.72  200.88  202.31  125346709\n",
       "2015-01-08  204.01  206.16  203.99  205.90  147217784"
      ]
     },
     "execution_count": 3,
     "metadata": {},
     "output_type": "execute_result"
    }
   ],
   "source": [
    "#load data\n",
    "start = datetime(2015, 1, 1, 0, 0, 0, 0, pytz.utc)\n",
    "end = datetime(2016, 1, 1, 0, 0, 0, 0, pytz.utc)\n",
    "spy = data.DataReader(\"SPY\", \"google\", start, end)\n",
    "dataset = np.array(spy['Close'].values).reshape(-1,1)\n",
    "dataset = dataset.astype('float32')\n",
    "spy.head()"
   ]
  },
  {
   "cell_type": "markdown",
   "metadata": {},
   "source": [
    "We scale the closing price to 0 to 1 range:"
   ]
  },
  {
   "cell_type": "code",
   "execution_count": 5,
   "metadata": {
    "collapsed": true
   },
   "outputs": [],
   "source": [
    "scaler = MinMaxScaler(feature_range=(0,1))\n",
    "dataset = scaler.fit_transform(dataset)"
   ]
  },
  {
   "cell_type": "code",
   "execution_count": 6,
   "metadata": {
    "collapsed": true
   },
   "outputs": [],
   "source": [
    "# split into train and test sets\n",
    "train_size = int(len(dataset) * 0.67)\n",
    "test_size = len(dataset) - train_size\n",
    "train, test = dataset[0:train_size,:], dataset[train_size:len(dataset),:]"
   ]
  },
  {
   "cell_type": "code",
   "execution_count": 8,
   "metadata": {
    "collapsed": true
   },
   "outputs": [],
   "source": [
    "# reshape for look_back\n",
    "look_back = 10\n",
    "X_train, y_train = create_dataset(train, look_back)\n",
    "X_test, y_test = create_dataset(test, look_back)\n",
    "\n",
    "# reshape for LSTM [samples, time steps, features]\n",
    "X_train = np.reshape(X_train, (X_train.shape[0], X_train.shape[1], 1))\n",
    "X_test = np.reshape(X_test, (X_test.shape[0], X_test.shape[1], 1))"
   ]
  },
  {
   "cell_type": "markdown",
   "metadata": {},
   "source": [
    "Next, we define our model:"
   ]
  },
  {
   "cell_type": "code",
   "execution_count": 9,
   "metadata": {},
   "outputs": [
    {
     "name": "stderr",
     "output_type": "stream",
     "text": [
      "/usr/local/lib/python2.7/dist-packages/ipykernel_launcher.py:3: UserWarning: The `input_dim` and `input_length` arguments in recurrent layers are deprecated. Use `input_shape` instead.\n",
      "  This is separate from the ipykernel package so we can avoid doing imports until\n",
      "/usr/local/lib/python2.7/dist-packages/ipykernel_launcher.py:3: UserWarning: Update your `LSTM` call to the Keras 2 API: `LSTM(32, input_shape=(None, 1))`\n",
      "  This is separate from the ipykernel package so we can avoid doing imports until\n",
      "/usr/local/lib/python2.7/dist-packages/keras/models.py:850: UserWarning: The `nb_epoch` argument in `fit` has been renamed `epochs`.\n",
      "  warnings.warn('The `nb_epoch` argument in `fit` '\n",
      "WARNING (theano.tensor.blas): We did not found a dynamic library into the library_dir of the library we use for blas. If you use ATLAS, make sure to compile it with dynamics library.\n",
      "WARNING (theano.tensor.blas): We did not found a dynamic library into the library_dir of the library we use for blas. If you use ATLAS, make sure to compile it with dynamics library.\n"
     ]
    },
    {
     "name": "stdout",
     "output_type": "stream",
     "text": [
      "Epoch 1/100\n",
      "0s - loss: 0.3131\n",
      "Epoch 2/100\n",
      "0s - loss: 0.0229\n",
      "Epoch 3/100\n",
      "0s - loss: 0.0158\n",
      "Epoch 4/100\n",
      "0s - loss: 0.0158\n",
      "Epoch 5/100\n",
      "0s - loss: 0.0151\n",
      "Epoch 6/100\n",
      "0s - loss: 0.0153\n",
      "Epoch 7/100\n",
      "0s - loss: 0.0155\n",
      "Epoch 8/100\n",
      "0s - loss: 0.0149\n",
      "Epoch 9/100\n",
      "0s - loss: 0.0144\n",
      "Epoch 10/100\n",
      "0s - loss: 0.0142\n",
      "Epoch 11/100\n",
      "0s - loss: 0.0144\n",
      "Epoch 12/100\n",
      "0s - loss: 0.0140\n",
      "Epoch 13/100\n",
      "0s - loss: 0.0140\n",
      "Epoch 14/100\n",
      "0s - loss: 0.0136\n",
      "Epoch 15/100\n",
      "0s - loss: 0.0133\n",
      "Epoch 16/100\n",
      "0s - loss: 0.0133\n",
      "Epoch 17/100\n",
      "0s - loss: 0.0129\n",
      "Epoch 18/100\n",
      "0s - loss: 0.0126\n",
      "Epoch 19/100\n",
      "0s - loss: 0.0126\n",
      "Epoch 20/100\n",
      "0s - loss: 0.0124\n",
      "Epoch 21/100\n",
      "0s - loss: 0.0124\n",
      "Epoch 22/100\n",
      "0s - loss: 0.0141\n",
      "Epoch 23/100\n",
      "0s - loss: 0.0127\n",
      "Epoch 24/100\n",
      "0s - loss: 0.0139\n",
      "Epoch 25/100\n",
      "0s - loss: 0.0119\n",
      "Epoch 26/100\n",
      "0s - loss: 0.0115\n",
      "Epoch 27/100\n",
      "0s - loss: 0.0113\n",
      "Epoch 28/100\n",
      "0s - loss: 0.0110\n",
      "Epoch 29/100\n",
      "0s - loss: 0.0111\n",
      "Epoch 30/100\n",
      "0s - loss: 0.0110\n",
      "Epoch 31/100\n",
      "0s - loss: 0.0112\n",
      "Epoch 32/100\n",
      "0s - loss: 0.0108\n",
      "Epoch 33/100\n",
      "0s - loss: 0.0102\n",
      "Epoch 34/100\n",
      "0s - loss: 0.0101\n",
      "Epoch 35/100\n",
      "0s - loss: 0.0104\n",
      "Epoch 36/100\n",
      "0s - loss: 0.0097\n",
      "Epoch 37/100\n",
      "0s - loss: 0.0103\n",
      "Epoch 38/100\n",
      "0s - loss: 0.0098\n",
      "Epoch 39/100\n",
      "0s - loss: 0.0096\n",
      "Epoch 40/100\n",
      "0s - loss: 0.0097\n",
      "Epoch 41/100\n",
      "0s - loss: 0.0096\n",
      "Epoch 42/100\n",
      "0s - loss: 0.0095\n",
      "Epoch 43/100\n",
      "0s - loss: 0.0091\n",
      "Epoch 44/100\n",
      "0s - loss: 0.0094\n",
      "Epoch 45/100\n",
      "0s - loss: 0.0100\n",
      "Epoch 46/100\n",
      "0s - loss: 0.0088\n",
      "Epoch 47/100\n",
      "0s - loss: 0.0089\n",
      "Epoch 48/100\n",
      "0s - loss: 0.0092\n",
      "Epoch 49/100\n",
      "0s - loss: 0.0086\n",
      "Epoch 50/100\n",
      "0s - loss: 0.0085\n",
      "Epoch 51/100\n",
      "0s - loss: 0.0090\n",
      "Epoch 52/100\n",
      "0s - loss: 0.0080\n",
      "Epoch 53/100\n",
      "0s - loss: 0.0083\n",
      "Epoch 54/100\n",
      "0s - loss: 0.0081\n",
      "Epoch 55/100\n",
      "0s - loss: 0.0077\n",
      "Epoch 56/100\n",
      "0s - loss: 0.0075\n",
      "Epoch 57/100\n",
      "0s - loss: 0.0081\n",
      "Epoch 58/100\n",
      "0s - loss: 0.0076\n",
      "Epoch 59/100\n",
      "0s - loss: 0.0074\n",
      "Epoch 60/100\n",
      "0s - loss: 0.0074\n",
      "Epoch 61/100\n",
      "0s - loss: 0.0073\n",
      "Epoch 62/100\n",
      "0s - loss: 0.0073\n",
      "Epoch 63/100\n",
      "0s - loss: 0.0071\n",
      "Epoch 64/100\n",
      "0s - loss: 0.0072\n",
      "Epoch 65/100\n",
      "0s - loss: 0.0071\n",
      "Epoch 66/100\n",
      "0s - loss: 0.0072\n",
      "Epoch 67/100\n",
      "0s - loss: 0.0067\n",
      "Epoch 68/100\n",
      "0s - loss: 0.0072\n",
      "Epoch 69/100\n",
      "0s - loss: 0.0068\n",
      "Epoch 70/100\n",
      "0s - loss: 0.0068\n",
      "Epoch 71/100\n",
      "0s - loss: 0.0072\n",
      "Epoch 72/100\n",
      "0s - loss: 0.0065\n",
      "Epoch 73/100\n",
      "0s - loss: 0.0069\n",
      "Epoch 74/100\n",
      "0s - loss: 0.0065\n",
      "Epoch 75/100\n",
      "0s - loss: 0.0064\n",
      "Epoch 76/100\n",
      "0s - loss: 0.0069\n",
      "Epoch 77/100\n",
      "0s - loss: 0.0063\n",
      "Epoch 78/100\n",
      "0s - loss: 0.0064\n",
      "Epoch 79/100\n",
      "0s - loss: 0.0061\n",
      "Epoch 80/100\n",
      "0s - loss: 0.0062\n",
      "Epoch 81/100\n",
      "0s - loss: 0.0060\n",
      "Epoch 82/100\n",
      "0s - loss: 0.0059\n",
      "Epoch 83/100\n",
      "0s - loss: 0.0062\n",
      "Epoch 84/100\n",
      "0s - loss: 0.0059\n",
      "Epoch 85/100\n",
      "0s - loss: 0.0058\n",
      "Epoch 86/100\n",
      "0s - loss: 0.0056\n",
      "Epoch 87/100\n",
      "0s - loss: 0.0057\n",
      "Epoch 88/100\n",
      "0s - loss: 0.0058\n",
      "Epoch 89/100\n",
      "0s - loss: 0.0060\n",
      "Epoch 90/100\n",
      "0s - loss: 0.0055\n",
      "Epoch 91/100\n",
      "0s - loss: 0.0055\n",
      "Epoch 92/100\n",
      "0s - loss: 0.0052\n",
      "Epoch 93/100\n",
      "0s - loss: 0.0059\n",
      "Epoch 94/100\n",
      "0s - loss: 0.0063\n",
      "Epoch 95/100\n",
      "0s - loss: 0.0055\n",
      "Epoch 96/100\n",
      "0s - loss: 0.0052\n",
      "Epoch 97/100\n",
      "0s - loss: 0.0051\n",
      "Epoch 98/100\n",
      "0s - loss: 0.0051\n",
      "Epoch 99/100\n",
      "0s - loss: 0.0053\n",
      "Epoch 100/100\n",
      "0s - loss: 0.0054\n"
     ]
    },
    {
     "data": {
      "text/plain": [
       "<keras.callbacks.History at 0x7fef92f07650>"
      ]
     },
     "execution_count": 9,
     "metadata": {},
     "output_type": "execute_result"
    }
   ],
   "source": [
    "# LSTM\n",
    "model = Sequential()\n",
    "model.add(LSTM(32, input_dim=1)) #look_back))\n",
    "model.add(Dense(1))\n",
    "\n",
    "model.compile(loss='mean_squared_error', optimizer='adam')\n",
    "model.fit(X_train, y_train, nb_epoch=100, batch_size=5, verbose=2)"
   ]
  },
  {
   "cell_type": "code",
   "execution_count": 10,
   "metadata": {
    "collapsed": true
   },
   "outputs": [],
   "source": [
    "train_pred = model.predict(X_train)\n",
    "test_pred = model.predict(X_test)"
   ]
  },
  {
   "cell_type": "code",
   "execution_count": 11,
   "metadata": {},
   "outputs": [
    {
     "name": "stderr",
     "output_type": "stream",
     "text": [
      "/usr/local/lib/python2.7/dist-packages/sklearn/preprocessing/data.py:374: DeprecationWarning: Passing 1d arrays as data is deprecated in 0.17 and will raise ValueError in 0.19. Reshape your data either using X.reshape(-1, 1) if your data has a single feature or X.reshape(1, -1) if it contains a single sample.\n",
      "  warnings.warn(DEPRECATION_MSG_1D, DeprecationWarning)\n",
      "/usr/local/lib/python2.7/dist-packages/sklearn/preprocessing/data.py:374: DeprecationWarning: Passing 1d arrays as data is deprecated in 0.17 and will raise ValueError in 0.19. Reshape your data either using X.reshape(-1, 1) if your data has a single feature or X.reshape(1, -1) if it contains a single sample.\n",
      "  warnings.warn(DEPRECATION_MSG_1D, DeprecationWarning)\n"
     ]
    }
   ],
   "source": [
    "# scale back \n",
    "train_pred = scaler.inverse_transform(train_pred)\n",
    "y_train = scaler.inverse_transform(y_train)\n",
    "test_pred = scaler.inverse_transform(test_pred)\n",
    "y_test = scaler.inverse_transform(y_test) "
   ]
  },
  {
   "cell_type": "code",
   "execution_count": 12,
   "metadata": {
    "collapsed": true
   },
   "outputs": [],
   "source": [
    "# shift predictions for plotting\n",
    "train_pred_plot = np.empty_like(dataset)\n",
    "train_pred_plot[:,:] = np.nan\n",
    "train_pred_plot[look_back:len(train_pred)+look_back,:] = train_pred\n",
    "\n",
    "test_pred_plot = np.empty_like(dataset)\n",
    "test_pred_plot[:,:] = np.nan\n",
    "test_pred_plot[len(train_pred)+(look_back*2)+1:len(dataset)-1,:] = test_pred"
   ]
  },
  {
   "cell_type": "code",
   "execution_count": 13,
   "metadata": {},
   "outputs": [
    {
     "data": {
      "image/png": "[encoded data removed]",
      "text/plain": [
       "<matplotlib.figure.Figure at 0x7fefaea34950>"
      ]
     },
     "metadata": {},
     "output_type": "display_data"
    }
   ],
   "source": [
    "plt.figure()\n",
    "plt.plot(scaler.inverse_transform(dataset), color='b', lw=2.0, label='S&P 500')\n",
    "plt.plot(train_pred_plot, color='g', lw=2.0, label='LSTM train')\n",
    "plt.plot(test_pred_plot, color='r', lw=2.0, label='LSTM test')\n",
    "plt.legend(loc=3)\n",
    "plt.grid(True)"
   ]
  },
  {
   "cell_type": "markdown",
   "metadata": {},
   "source": [
    "The figure above shows LSTM predictions on the training (green) and the test (red) time series. We can see the regression results closely match the actual market price."
   ]
  }
 ],
 "metadata": {
  "kernelspec": {
   "display_name": "Python 2",
   "language": "python",
   "name": "python2"
  },
  "language_info": {
   "codemirror_mode": {
    "name": "ipython",
    "version": 2
   },
   "file_extension": ".py",
   "mimetype": "text/x-python",
   "name": "python",
   "nbconvert_exporter": "python",
   "pygments_lexer": "ipython2",
   "version": "2.7.6"
  }
 },
 "nbformat": 4,
 "nbformat_minor": 2
}
