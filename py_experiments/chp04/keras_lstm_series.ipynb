{
 "cells": [
  {
   "cell_type": "markdown",
   "metadata": {},
   "source": [
    "## Keras LSTM Time-Series Prediction"
   ]
  },
  {
   "cell_type": "markdown",
   "metadata": {},
   "source": [
    "Long Short-Term Memory (LSTM) Recurrent Neural Network (RNN) can be used to learn time-series data. Using Mean Square Error as a loss function it is possible to the future values of a time series. Here, an LSTM RNN is trained on the closing price of S&P500 time series with a lookback window of 10 days. A trading strategy can be constructed by using LSTM prediction price change sign as a signal for upward or downward price movement. For a momentum strategy, we long S&P500 whenever prediction is above a positive threshold, we short S&P500 when the prediction is below a negative threshold and we clear positions otherwise. \n"
   ]
  },
  {
   "cell_type": "code",
   "execution_count": 1,
   "metadata": {},
   "outputs": [
    {
     "name": "stderr",
     "output_type": "stream",
     "text": [
      "/Library/Frameworks/Python.framework/Versions/3.5/lib/python3.5/site-packages/h5py/__init__.py:36: FutureWarning: Conversion of the second argument of issubdtype from `float` to `np.floating` is deprecated. In future, it will be treated as `np.float64 == np.dtype(float).type`.\n",
      "  from ._conv import register_converters as _register_converters\n",
      "Using TensorFlow backend.\n"
     ]
    }
   ],
   "source": [
    "# import matplotlib\n",
    "%matplotlib inline\n",
    "\n",
    "import numpy as np\n",
    "import pandas as pd\n",
    "\n",
    "from keras.models import Sequential\n",
    "from keras.layers import Dense\n",
    "from keras.layers import LSTM\n",
    "\n",
    "from sklearn.preprocessing import MinMaxScaler\n",
    "from sklearn.metrics import mean_squared_error\n",
    "\n",
    "from pandas_datareader import data\n",
    "from datetime import datetime\n",
    "import pytz\n",
    "\n",
    "import matplotlib.pyplot as plt\n",
    "\n",
    "np.random.seed(0)"
   ]
  },
  {
   "cell_type": "code",
   "execution_count": 2,
   "metadata": {},
   "outputs": [],
   "source": [
    "def create_dataset(dataset, look_back=1):\n",
    "\n",
    "    dataX, dataY = [], []\n",
    "    for i in range(len(dataset)-look_back-1):\n",
    "        dataX.append(dataset[i:(i+look_back),0])\n",
    "        dataY.append(dataset[i+look_back,0])\n",
    "\n",
    "    return np.array(dataX), np.array(dataY)"
   ]
  },
  {
   "cell_type": "code",
   "execution_count": 4,
   "metadata": {},
   "outputs": [],
   "source": [
    "from pandas_datareader.google.daily import GoogleDailyReader\n",
    "\n",
    "@property\n",
    "def url(self):\n",
    "    return 'http://finance.google.com/finance/historical'\n",
    "\n",
    "GoogleDailyReader.url = url\n",
    "\n",
    "# get data\n",
    "\n",
    "import pandas_datareader as pdr\n",
    "from datetime import datetime\n",
    "\n",
    "start = datetime(2010,1,1)\n",
    "end = datetime(2014,1,1)\n",
    "ret = pdr.get_data_google(['AAPL'], start, end)"
   ]
  },
  {
   "cell_type": "code",
   "execution_count": 6,
   "metadata": {},
   "outputs": [],
   "source": [
    "#load data\n",
    "start = datetime(2015, 1, 1, 0, 0, 0, 0, pytz.utc)\n",
    "end = datetime(2016, 1, 1, 0, 0, 0, 0, pytz.utc)\n",
    "# spy = data.DataReader(\"SPY\", \"google\", start, end)\n",
    "spy = pdr.get_data_google(['SPY'], start, end)\n",
    "dataset = np.array(spy['Close'].values).reshape(-1,1)\n",
    "dataset = dataset.astype('float32')\n",
    "# spy.head()"
   ]
  },
  {
   "cell_type": "markdown",
   "metadata": {},
   "source": [
    "We scale the closing price to 0 to 1 range:"
   ]
  },
  {
   "cell_type": "code",
   "execution_count": 7,
   "metadata": {},
   "outputs": [],
   "source": [
    "scaler = MinMaxScaler(feature_range=(0,1))\n",
    "dataset = scaler.fit_transform(dataset)"
   ]
  },
  {
   "cell_type": "code",
   "execution_count": 8,
   "metadata": {},
   "outputs": [],
   "source": [
    "# split into train and test sets\n",
    "train_size = int(len(dataset) * 0.67)\n",
    "test_size = len(dataset) - train_size\n",
    "train, test = dataset[0:train_size,:], dataset[train_size:len(dataset),:]"
   ]
  },
  {
   "cell_type": "code",
   "execution_count": 9,
   "metadata": {},
   "outputs": [],
   "source": [
    "# reshape for look_back\n",
    "look_back = 10\n",
    "X_train, y_train = create_dataset(train, look_back)\n",
    "X_test, y_test = create_dataset(test, look_back)\n",
    "\n",
    "# reshape for LSTM [samples, time steps, features]\n",
    "X_train = np.reshape(X_train, (X_train.shape[0], X_train.shape[1], 1))\n",
    "X_test = np.reshape(X_test, (X_test.shape[0], X_test.shape[1], 1))"
   ]
  },
  {
   "cell_type": "markdown",
   "metadata": {},
   "source": [
    "Next, we define our model:"
   ]
  },
  {
   "cell_type": "code",
   "execution_count": 10,
   "metadata": {},
   "outputs": [
    {
     "name": "stderr",
     "output_type": "stream",
     "text": [
      "/Library/Frameworks/Python.framework/Versions/3.5/lib/python3.5/site-packages/ipykernel_launcher.py:3: UserWarning: The `input_dim` and `input_length` arguments in recurrent layers are deprecated. Use `input_shape` instead.\n",
      "  This is separate from the ipykernel package so we can avoid doing imports until\n",
      "/Library/Frameworks/Python.framework/Versions/3.5/lib/python3.5/site-packages/ipykernel_launcher.py:3: UserWarning: Update your `LSTM` call to the Keras 2 API: `LSTM(32, input_shape=(None, 1))`\n",
      "  This is separate from the ipykernel package so we can avoid doing imports until\n",
      "/Library/Frameworks/Python.framework/Versions/3.5/lib/python3.5/site-packages/keras/models.py:939: UserWarning: The `nb_epoch` argument in `fit` has been renamed `epochs`.\n",
      "  warnings.warn('The `nb_epoch` argument in `fit` '\n"
     ]
    },
    {
     "name": "stdout",
     "output_type": "stream",
     "text": [
      "Epoch 1/100\n",
      " - 2s - loss: 0.1327\n",
      "Epoch 2/100\n",
      " - 0s - loss: 0.0138\n",
      "Epoch 3/100\n",
      " - 0s - loss: 0.0122\n",
      "Epoch 4/100\n",
      " - 0s - loss: 0.0122\n",
      "Epoch 5/100\n",
      " - 0s - loss: 0.0117\n",
      "Epoch 6/100\n",
      " - 0s - loss: 0.0119\n",
      "Epoch 7/100\n",
      " - 0s - loss: 0.0119\n",
      "Epoch 8/100\n",
      " - 0s - loss: 0.0115\n",
      "Epoch 9/100\n",
      " - 0s - loss: 0.0111\n",
      "Epoch 10/100\n",
      " - 0s - loss: 0.0110\n",
      "Epoch 11/100\n",
      " - 0s - loss: 0.0111\n",
      "Epoch 12/100\n",
      " - 0s - loss: 0.0107\n",
      "Epoch 13/100\n",
      " - 0s - loss: 0.0108\n",
      "Epoch 14/100\n",
      " - 0s - loss: 0.0104\n",
      "Epoch 15/100\n",
      " - 0s - loss: 0.0102\n",
      "Epoch 16/100\n",
      " - 0s - loss: 0.0101\n",
      "Epoch 17/100\n",
      " - 0s - loss: 0.0098\n",
      "Epoch 18/100\n",
      " - 0s - loss: 0.0097\n",
      "Epoch 19/100\n",
      " - 0s - loss: 0.0095\n",
      "Epoch 20/100\n",
      " - 0s - loss: 0.0093\n",
      "Epoch 21/100\n",
      " - 0s - loss: 0.0092\n",
      "Epoch 22/100\n",
      " - 0s - loss: 0.0111\n",
      "Epoch 23/100\n",
      " - 0s - loss: 0.0094\n",
      "Epoch 24/100\n",
      " - 0s - loss: 0.0102\n",
      "Epoch 25/100\n",
      " - 0s - loss: 0.0090\n",
      "Epoch 26/100\n",
      " - 0s - loss: 0.0086\n",
      "Epoch 27/100\n",
      " - 0s - loss: 0.0083\n",
      "Epoch 28/100\n",
      " - 0s - loss: 0.0082\n",
      "Epoch 29/100\n",
      " - 0s - loss: 0.0081\n",
      "Epoch 30/100\n",
      " - 0s - loss: 0.0081\n",
      "Epoch 31/100\n",
      " - 0s - loss: 0.0078\n",
      "Epoch 32/100\n",
      " - 0s - loss: 0.0078\n",
      "Epoch 33/100\n",
      " - 0s - loss: 0.0074\n",
      "Epoch 34/100\n",
      " - 0s - loss: 0.0074\n",
      "Epoch 35/100\n",
      " - 0s - loss: 0.0076\n",
      "Epoch 36/100\n",
      " - 0s - loss: 0.0070\n",
      "Epoch 37/100\n",
      " - 0s - loss: 0.0078\n",
      "Epoch 38/100\n",
      " - 0s - loss: 0.0073\n",
      "Epoch 39/100\n",
      " - 0s - loss: 0.0070\n",
      "Epoch 40/100\n",
      " - 0s - loss: 0.0069\n",
      "Epoch 41/100\n",
      " - 0s - loss: 0.0070\n",
      "Epoch 42/100\n",
      " - 0s - loss: 0.0070\n",
      "Epoch 43/100\n",
      " - 0s - loss: 0.0067\n",
      "Epoch 44/100\n",
      " - 0s - loss: 0.0069\n",
      "Epoch 45/100\n",
      " - 0s - loss: 0.0073\n",
      "Epoch 46/100\n",
      " - 0s - loss: 0.0064\n",
      "Epoch 47/100\n",
      " - 0s - loss: 0.0065\n",
      "Epoch 48/100\n",
      " - 0s - loss: 0.0070\n",
      "Epoch 49/100\n",
      " - 0s - loss: 0.0063\n",
      "Epoch 50/100\n",
      " - 0s - loss: 0.0063\n",
      "Epoch 51/100\n",
      " - 0s - loss: 0.0063\n",
      "Epoch 52/100\n",
      " - 0s - loss: 0.0058\n",
      "Epoch 53/100\n",
      " - 0s - loss: 0.0059\n",
      "Epoch 54/100\n",
      " - 0s - loss: 0.0061\n",
      "Epoch 55/100\n",
      " - 0s - loss: 0.0057\n",
      "Epoch 56/100\n",
      " - 0s - loss: 0.0055\n",
      "Epoch 57/100\n",
      " - 0s - loss: 0.0059\n",
      "Epoch 58/100\n",
      " - 1s - loss: 0.0055\n",
      "Epoch 59/100\n",
      " - 0s - loss: 0.0053\n",
      "Epoch 60/100\n",
      " - 0s - loss: 0.0054\n",
      "Epoch 61/100\n",
      " - 0s - loss: 0.0055\n",
      "Epoch 62/100\n",
      " - 0s - loss: 0.0052\n",
      "Epoch 63/100\n",
      " - 0s - loss: 0.0053\n",
      "Epoch 64/100\n",
      " - 0s - loss: 0.0053\n",
      "Epoch 65/100\n",
      " - 1s - loss: 0.0052\n",
      "Epoch 66/100\n",
      " - 0s - loss: 0.0054\n",
      "Epoch 67/100\n",
      " - 0s - loss: 0.0051\n",
      "Epoch 68/100\n",
      " - 0s - loss: 0.0055\n",
      "Epoch 69/100\n",
      " - 0s - loss: 0.0052\n",
      "Epoch 70/100\n",
      " - 0s - loss: 0.0051\n",
      "Epoch 71/100\n",
      " - 0s - loss: 0.0054\n",
      "Epoch 72/100\n",
      " - 0s - loss: 0.0050\n",
      "Epoch 73/100\n",
      " - 0s - loss: 0.0052\n",
      "Epoch 74/100\n",
      " - 0s - loss: 0.0051\n",
      "Epoch 75/100\n",
      " - 0s - loss: 0.0049\n",
      "Epoch 76/100\n",
      " - 0s - loss: 0.0055\n",
      "Epoch 77/100\n",
      " - 0s - loss: 0.0050\n",
      "Epoch 78/100\n",
      " - 0s - loss: 0.0051\n",
      "Epoch 79/100\n",
      " - 0s - loss: 0.0049\n",
      "Epoch 80/100\n",
      " - 0s - loss: 0.0052\n",
      "Epoch 81/100\n",
      " - 0s - loss: 0.0048\n",
      "Epoch 82/100\n",
      " - 0s - loss: 0.0048\n",
      "Epoch 83/100\n",
      " - 0s - loss: 0.0050\n",
      "Epoch 84/100\n",
      " - 0s - loss: 0.0049\n",
      "Epoch 85/100\n",
      " - 0s - loss: 0.0049\n",
      "Epoch 86/100\n",
      " - 0s - loss: 0.0048\n",
      "Epoch 87/100\n",
      " - 0s - loss: 0.0048\n",
      "Epoch 88/100\n",
      " - 0s - loss: 0.0050\n",
      "Epoch 89/100\n",
      " - 0s - loss: 0.0054\n",
      "Epoch 90/100\n",
      " - 0s - loss: 0.0049\n",
      "Epoch 91/100\n",
      " - 0s - loss: 0.0048\n",
      "Epoch 92/100\n",
      " - 0s - loss: 0.0046\n",
      "Epoch 93/100\n",
      " - 0s - loss: 0.0053\n",
      "Epoch 94/100\n",
      " - 0s - loss: 0.0056\n",
      "Epoch 95/100\n",
      " - 0s - loss: 0.0048\n",
      "Epoch 96/100\n",
      " - 0s - loss: 0.0046\n",
      "Epoch 97/100\n",
      " - 0s - loss: 0.0046\n",
      "Epoch 98/100\n",
      " - 0s - loss: 0.0046\n",
      "Epoch 99/100\n",
      " - 0s - loss: 0.0048\n",
      "Epoch 100/100\n",
      " - 0s - loss: 0.0048\n"
     ]
    },
    {
     "data": {
      "text/plain": [
       "<keras.callbacks.History at 0x118791a20>"
      ]
     },
     "execution_count": 10,
     "metadata": {},
     "output_type": "execute_result"
    }
   ],
   "source": [
    "# LSTM\n",
    "model = Sequential()\n",
    "model.add(LSTM(32, input_dim=1)) #look_back))\n",
    "model.add(Dense(1))\n",
    "\n",
    "model.compile(loss='mean_squared_error', optimizer='adam')\n",
    "model.fit(X_train, y_train, nb_epoch=100, batch_size=5, verbose=2)"
   ]
  },
  {
   "cell_type": "code",
   "execution_count": 13,
   "metadata": {},
   "outputs": [],
   "source": [
    "train_pred = model.predict(X_train)\n",
    "test_pred = model.predict(X_test)"
   ]
  },
  {
   "cell_type": "code",
   "execution_count": 14,
   "metadata": {},
   "outputs": [
    {
     "ename": "ValueError",
     "evalue": "Expected 2D array, got 1D array instead:\narray=[0.54815435 0.56452227 0.60335016 0.71831036 0.67529535 0.6935668\n 0.59040785 0.49143553 0.5618582  0.46516943 0.55919313 0.67034674\n 0.64065504 0.7190714  0.69737387 0.66235304 0.745337   0.74990463\n 0.8256569  0.85839367 0.87095594 0.871717   0.86600685 0.91397095\n 0.91282845 0.935668   0.9288168  0.9193001  0.89189243 0.94252014\n 0.90940285 0.87552357 0.88427925 0.77160263 0.8043399  0.67567587\n 0.65740395 0.75637674 0.70803213 0.8127146  0.7891135  0.88427925\n 0.8477354  0.8823757  0.86676836 0.8218503  0.70536757 0.6867151\n 0.70460653 0.8001523  0.7308717  0.7030835  0.7312527  0.7841649\n 0.7632284  0.78987455 0.8248954  0.8682909  0.83212805 0.8473549\n 0.88313675 0.8808527  0.7887325  0.8610587  0.851542   0.89074993\n 0.9109249  0.9295778  0.89608    0.9215841  0.88846684 0.8081465\n 0.8941765  0.917016   0.8248954  0.7921581  0.82375336 0.9284353\n 0.8896084  0.86600685 0.86752987 0.9508953  0.95965004 0.98477364\n 0.98210907 0.9763994  1.         0.980587   0.8934145  0.9695473\n 0.960412   0.9101639  0.92653275 0.9185381  0.9398556  0.871717\n 0.85801315 0.8089075  0.8077655  0.9029312  0.9288168  0.8671489\n 0.83288956 0.8762846  0.8892269  0.97259235 0.8976021  0.938714\n 0.9444237  0.8858013  0.8614392  0.8599167  0.6924248  0.70879364\n 0.77160263 0.76436996 0.7419114  0.7913976  0.658546   0.6726303\n 0.7708411  0.85801315 0.89265347 0.8899889  0.9543209  0.9611721\n 0.9653597  0.93338394 0.9189186  0.87362003 0.79063606 0.7445755\n 0.84126425 0.89608    0.8979826  0.8858013  0.8587742  0.8431673\n 0.8694334  0.80395937 0.7887325  0.88846684 0.8161402  0.8256569\n 0.81575966 0.84468985 0.8892269  0.86600685 0.80281734 0.6387515\n 0.39588928 0.08831406 0.         0.28359365 0.45413065 0.4571762\n 0.39246273].\nReshape your data either using array.reshape(-1, 1) if your data has a single feature or array.reshape(1, -1) if it contains a single sample.",
     "output_type": "error",
     "traceback": [
      "\u001b[0;31m---------------------------------------------------------------------------\u001b[0m",
      "\u001b[0;31mValueError\u001b[0m                                Traceback (most recent call last)",
      "\u001b[0;32m<ipython-input-14-14e2579df23c>\u001b[0m in \u001b[0;36m<module>\u001b[0;34m()\u001b[0m\n\u001b[1;32m      1\u001b[0m \u001b[0;31m# scale back\u001b[0m\u001b[0;34m\u001b[0m\u001b[0;34m\u001b[0m\u001b[0m\n\u001b[1;32m      2\u001b[0m \u001b[0mtrain_pred\u001b[0m \u001b[0;34m=\u001b[0m \u001b[0mscaler\u001b[0m\u001b[0;34m.\u001b[0m\u001b[0minverse_transform\u001b[0m\u001b[0;34m(\u001b[0m\u001b[0mtrain_pred\u001b[0m\u001b[0;34m)\u001b[0m\u001b[0;34m\u001b[0m\u001b[0m\n\u001b[0;32m----> 3\u001b[0;31m \u001b[0my_train\u001b[0m \u001b[0;34m=\u001b[0m \u001b[0mscaler\u001b[0m\u001b[0;34m.\u001b[0m\u001b[0minverse_transform\u001b[0m\u001b[0;34m(\u001b[0m\u001b[0my_train\u001b[0m\u001b[0;34m)\u001b[0m\u001b[0;34m\u001b[0m\u001b[0m\n\u001b[0m\u001b[1;32m      4\u001b[0m \u001b[0mtest_pred\u001b[0m \u001b[0;34m=\u001b[0m \u001b[0mscaler\u001b[0m\u001b[0;34m.\u001b[0m\u001b[0minverse_transform\u001b[0m\u001b[0;34m(\u001b[0m\u001b[0mtest_pred\u001b[0m\u001b[0;34m)\u001b[0m\u001b[0;34m\u001b[0m\u001b[0m\n\u001b[1;32m      5\u001b[0m \u001b[0my_test\u001b[0m \u001b[0;34m=\u001b[0m \u001b[0mscaler\u001b[0m\u001b[0;34m.\u001b[0m\u001b[0minverse_transform\u001b[0m\u001b[0;34m(\u001b[0m\u001b[0my_test\u001b[0m\u001b[0;34m)\u001b[0m\u001b[0;34m\u001b[0m\u001b[0m\n",
      "\u001b[0;32m/Library/Frameworks/Python.framework/Versions/3.5/lib/python3.5/site-packages/sklearn/preprocessing/data.py\u001b[0m in \u001b[0;36minverse_transform\u001b[0;34m(self, X)\u001b[0m\n\u001b[1;32m    381\u001b[0m         \u001b[0mcheck_is_fitted\u001b[0m\u001b[0;34m(\u001b[0m\u001b[0mself\u001b[0m\u001b[0;34m,\u001b[0m \u001b[0;34m'scale_'\u001b[0m\u001b[0;34m)\u001b[0m\u001b[0;34m\u001b[0m\u001b[0m\n\u001b[1;32m    382\u001b[0m \u001b[0;34m\u001b[0m\u001b[0m\n\u001b[0;32m--> 383\u001b[0;31m         \u001b[0mX\u001b[0m \u001b[0;34m=\u001b[0m \u001b[0mcheck_array\u001b[0m\u001b[0;34m(\u001b[0m\u001b[0mX\u001b[0m\u001b[0;34m,\u001b[0m \u001b[0mcopy\u001b[0m\u001b[0;34m=\u001b[0m\u001b[0mself\u001b[0m\u001b[0;34m.\u001b[0m\u001b[0mcopy\u001b[0m\u001b[0;34m,\u001b[0m \u001b[0mdtype\u001b[0m\u001b[0;34m=\u001b[0m\u001b[0mFLOAT_DTYPES\u001b[0m\u001b[0;34m)\u001b[0m\u001b[0;34m\u001b[0m\u001b[0m\n\u001b[0m\u001b[1;32m    384\u001b[0m \u001b[0;34m\u001b[0m\u001b[0m\n\u001b[1;32m    385\u001b[0m         \u001b[0mX\u001b[0m \u001b[0;34m-=\u001b[0m \u001b[0mself\u001b[0m\u001b[0;34m.\u001b[0m\u001b[0mmin_\u001b[0m\u001b[0;34m\u001b[0m\u001b[0m\n",
      "\u001b[0;32m/Library/Frameworks/Python.framework/Versions/3.5/lib/python3.5/site-packages/sklearn/utils/validation.py\u001b[0m in \u001b[0;36mcheck_array\u001b[0;34m(array, accept_sparse, dtype, order, copy, force_all_finite, ensure_2d, allow_nd, ensure_min_samples, ensure_min_features, warn_on_dtype, estimator)\u001b[0m\n\u001b[1;32m    408\u001b[0m                     \u001b[0;34m\"Reshape your data either using array.reshape(-1, 1) if \"\u001b[0m\u001b[0;34m\u001b[0m\u001b[0m\n\u001b[1;32m    409\u001b[0m                     \u001b[0;34m\"your data has a single feature or array.reshape(1, -1) \"\u001b[0m\u001b[0;34m\u001b[0m\u001b[0m\n\u001b[0;32m--> 410\u001b[0;31m                     \"if it contains a single sample.\".format(array))\n\u001b[0m\u001b[1;32m    411\u001b[0m             \u001b[0marray\u001b[0m \u001b[0;34m=\u001b[0m \u001b[0mnp\u001b[0m\u001b[0;34m.\u001b[0m\u001b[0matleast_2d\u001b[0m\u001b[0;34m(\u001b[0m\u001b[0marray\u001b[0m\u001b[0;34m)\u001b[0m\u001b[0;34m\u001b[0m\u001b[0m\n\u001b[1;32m    412\u001b[0m             \u001b[0;31m# To ensure that array flags are maintained\u001b[0m\u001b[0;34m\u001b[0m\u001b[0;34m\u001b[0m\u001b[0m\n",
      "\u001b[0;31mValueError\u001b[0m: Expected 2D array, got 1D array instead:\narray=[0.54815435 0.56452227 0.60335016 0.71831036 0.67529535 0.6935668\n 0.59040785 0.49143553 0.5618582  0.46516943 0.55919313 0.67034674\n 0.64065504 0.7190714  0.69737387 0.66235304 0.745337   0.74990463\n 0.8256569  0.85839367 0.87095594 0.871717   0.86600685 0.91397095\n 0.91282845 0.935668   0.9288168  0.9193001  0.89189243 0.94252014\n 0.90940285 0.87552357 0.88427925 0.77160263 0.8043399  0.67567587\n 0.65740395 0.75637674 0.70803213 0.8127146  0.7891135  0.88427925\n 0.8477354  0.8823757  0.86676836 0.8218503  0.70536757 0.6867151\n 0.70460653 0.8001523  0.7308717  0.7030835  0.7312527  0.7841649\n 0.7632284  0.78987455 0.8248954  0.8682909  0.83212805 0.8473549\n 0.88313675 0.8808527  0.7887325  0.8610587  0.851542   0.89074993\n 0.9109249  0.9295778  0.89608    0.9215841  0.88846684 0.8081465\n 0.8941765  0.917016   0.8248954  0.7921581  0.82375336 0.9284353\n 0.8896084  0.86600685 0.86752987 0.9508953  0.95965004 0.98477364\n 0.98210907 0.9763994  1.         0.980587   0.8934145  0.9695473\n 0.960412   0.9101639  0.92653275 0.9185381  0.9398556  0.871717\n 0.85801315 0.8089075  0.8077655  0.9029312  0.9288168  0.8671489\n 0.83288956 0.8762846  0.8892269  0.97259235 0.8976021  0.938714\n 0.9444237  0.8858013  0.8614392  0.8599167  0.6924248  0.70879364\n 0.77160263 0.76436996 0.7419114  0.7913976  0.658546   0.6726303\n 0.7708411  0.85801315 0.89265347 0.8899889  0.9543209  0.9611721\n 0.9653597  0.93338394 0.9189186  0.87362003 0.79063606 0.7445755\n 0.84126425 0.89608    0.8979826  0.8858013  0.8587742  0.8431673\n 0.8694334  0.80395937 0.7887325  0.88846684 0.8161402  0.8256569\n 0.81575966 0.84468985 0.8892269  0.86600685 0.80281734 0.6387515\n 0.39588928 0.08831406 0.         0.28359365 0.45413065 0.4571762\n 0.39246273].\nReshape your data either using array.reshape(-1, 1) if your data has a single feature or array.reshape(1, -1) if it contains a single sample."
     ]
    }
   ],
   "source": [
    "# scale back \n",
    "train_pred = scaler.inverse_transform(train_pred)\n",
    "y_train = scaler.inverse_transform(y_train)\n",
    "test_pred = scaler.inverse_transform(test_pred)\n",
    "y_test = scaler.inverse_transform(y_test) "
   ]
  },
  {
   "cell_type": "code",
   "execution_count": null,
   "metadata": {},
   "outputs": [],
   "source": [
    "# shift predictions for plotting\n",
    "train_pred_plot = np.empty_like(dataset)\n",
    "train_pred_plot[:,:] = np.nan\n",
    "train_pred_plot[look_back:len(train_pred)+look_back,:] = train_pred\n",
    "\n",
    "test_pred_plot = np.empty_like(dataset)\n",
    "test_pred_plot[:,:] = np.nan\n",
    "test_pred_plot[len(train_pred)+(look_back*2)+1:len(dataset)-1,:] = test_pred"
   ]
  },
  {
   "cell_type": "code",
   "execution_count": null,
   "metadata": {},
   "outputs": [],
   "source": [
    "plt.figure()\n",
    "plt.plot(scaler.inverse_transform(dataset), color='b', lw=2.0, label='S&P 500')\n",
    "plt.plot(train_pred_plot, color='g', lw=2.0, label='LSTM train')\n",
    "plt.plot(test_pred_plot, color='r', lw=2.0, label='LSTM test')\n",
    "plt.legend(loc=3)\n",
    "plt.grid(True)"
   ]
  },
  {
   "cell_type": "markdown",
   "metadata": {},
   "source": [
    "The figure above shows LSTM predictions on the training (green) and the test (red) time series. We can see the regression results closely match the actual market price."
   ]
  },
  {
   "cell_type": "code",
   "execution_count": null,
   "metadata": {},
   "outputs": [],
   "source": []
  }
 ],
 "metadata": {
  "kernelspec": {
   "display_name": "Python 3",
   "language": "python",
   "name": "python3"
  },
  "language_info": {
   "codemirror_mode": {
    "name": "ipython",
    "version": 3
   },
   "file_extension": ".py",
   "mimetype": "text/x-python",
   "name": "python",
   "nbconvert_exporter": "python",
   "pygments_lexer": "ipython3",
   "version": "3.5.0"
  }
 },
 "nbformat": 4,
 "nbformat_minor": 2
}
