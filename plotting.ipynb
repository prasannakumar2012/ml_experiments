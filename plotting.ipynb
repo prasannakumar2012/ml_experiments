{
 "cells": [
  {
   "cell_type": "code",
   "execution_count": 32,
   "metadata": {},
   "outputs": [],
   "source": [
    "import tensorflow as tf\n",
    "import plotly\n",
    "import matplotlib\n",
    "import seaborn\n",
    "import numpy as np\n",
    "import pandas as pd\n",
    "import scipy\n",
    "import sklearn"
   ]
  },
  {
   "cell_type": "code",
   "execution_count": 31,
   "metadata": {},
   "outputs": [
    {
     "name": "stdout",
     "output_type": "stream",
     "text": [
      "Collecting sklearn\n",
      "  Downloading sklearn-0.0.tar.gz\n",
      "Collecting scikit-learn (from sklearn)\n",
      "  Downloading scikit_learn-0.19.0-cp35-cp35m-macosx_10_6_intel.macosx_10_9_intel.macosx_10_9_x86_64.macosx_10_10_intel.macosx_10_10_x86_64.whl (7.5MB)\n",
      "\u001b[K    100% |████████████████████████████████| 7.5MB 130kB/s ta 0:00:011    85% |███████████████████████████▎    | 6.4MB 10.5MB/s eta 0:00:01\n",
      "\u001b[?25hBuilding wheels for collected packages: sklearn\n",
      "  Running setup.py bdist_wheel for sklearn ... \u001b[?25ldone\n",
      "\u001b[?25h  Stored in directory: /Users/prasanna/Library/Caches/pip/wheels/d7/db/a3/1b8041ab0be63b5c96c503df8e757cf205c2848cf9ef55f85e\n",
      "Successfully built sklearn\n",
      "Installing collected packages: scikit-learn, sklearn\n",
      "Successfully installed scikit-learn-0.19.0 sklearn-0.0\n"
     ]
    }
   ],
   "source": [
    "!pip install sklearn"
   ]
  },
  {
   "cell_type": "code",
   "execution_count": 9,
   "metadata": {},
   "outputs": [
    {
     "data": {
      "text/plain": [
       "'1.3.0'"
      ]
     },
     "execution_count": 9,
     "metadata": {},
     "output_type": "execute_result"
    }
   ],
   "source": [
    "tf.__version__"
   ]
  },
  {
   "cell_type": "code",
   "execution_count": 14,
   "metadata": {},
   "outputs": [
    {
     "data": {
      "text/html": [
       "<script>requirejs.config({paths: { 'plotly': ['https://cdn.plot.ly/plotly-latest.min']},});if(!window.Plotly) {{require(['plotly'],function(plotly) {window.Plotly=plotly;});}}</script>"
      ],
      "text/vnd.plotly.v1+html": [
       "<script>requirejs.config({paths: { 'plotly': ['https://cdn.plot.ly/plotly-latest.min']},});if(!window.Plotly) {{require(['plotly'],function(plotly) {window.Plotly=plotly;});}}</script>"
      ]
     },
     "metadata": {},
     "output_type": "display_data"
    }
   ],
   "source": [
    "import plotly.graph_objs as go\n",
    "import numpy as np\n",
    "from plotly.offline import download_plotlyjs, init_notebook_mode, plot, iplot\n",
    "init_notebook_mode(connected=True)\n"
   ]
  },
  {
   "cell_type": "code",
   "execution_count": 49,
   "metadata": {},
   "outputs": [
    {
     "data": {
      "text/plain": [
       "-1"
      ]
     },
     "execution_count": 49,
     "metadata": {},
     "output_type": "execute_result"
    }
   ],
   "source": [
    "random.randint(-1,1)"
   ]
  },
  {
   "cell_type": "code",
   "execution_count": 106,
   "metadata": {
    "collapsed": true
   },
   "outputs": [],
   "source": [
    "import random\n",
    "inner_count = 0\n",
    "outer_count = 0\n",
    "train_data =[]\n",
    "color = []\n",
    "while inner_count < 1000:\n",
    "    a=random.random()\n",
    "    b=random.random()\n",
    "    c=random.random()\n",
    "    if a**2+b**2+c**2 < 0.2:\n",
    "        train_data.append([a,b,c])\n",
    "        inner_count += 1\n",
    "        color.append('rgb(50, 50, 200)')\n",
    "while outer_count < 200:\n",
    "    a=random.random()\n",
    "    b=random.random()\n",
    "    c=random.random()\n",
    "    if a**2+b**2+c**2 > 0.9:\n",
    "        train_data.append([a,b,c])\n",
    "        outer_count += 1\n",
    "        color.append('rgb(50, 200, 50)')\n",
    "    \n",
    "train_data = np.array(train_data)\n",
    "color = np.array(color)"
   ]
  },
  {
   "cell_type": "code",
   "execution_count": 107,
   "metadata": {},
   "outputs": [
    {
     "name": "stdout",
     "output_type": "stream",
     "text": [
      "(1200, 3)\n",
      "(1200,)\n"
     ]
    }
   ],
   "source": [
    "print (train_data.shape)\n",
    "print (color.shape)"
   ]
  },
  {
   "cell_type": "code",
   "execution_count": 108,
   "metadata": {},
   "outputs": [],
   "source": [
    "# color_old = color\n",
    "# color.extend(color_old)\n",
    "# print (len(color))"
   ]
  },
  {
   "cell_type": "code",
   "execution_count": 109,
   "metadata": {},
   "outputs": [
    {
     "name": "stdout",
     "output_type": "stream",
     "text": [
      "(4800, 3)\n",
      "(4800,)\n"
     ]
    }
   ],
   "source": [
    "old = train_data\n",
    "train_data = np.concatenate((train_data,np.multiply(np.array([-1,1,1]),old)),axis=0)\n",
    "train_data = np.concatenate((train_data,np.multiply(np.array([1,-1,1]),old)),axis=0)\n",
    "train_data = np.concatenate((train_data,np.multiply(np.array([1,1,-11]),old)),axis=0)\n",
    "color_old = color\n",
    "color = np.concatenate((color,color_old),axis=0)\n",
    "color = np.concatenate((color,color_old),axis=0)\n",
    "color = np.concatenate((color,color_old),axis=0)\n",
    "print (train_data.shape)\n",
    "print (color.shape)"
   ]
  },
  {
   "cell_type": "code",
   "execution_count": null,
   "metadata": {},
   "outputs": [],
   "source": []
  },
  {
   "cell_type": "code",
   "execution_count": null,
   "metadata": {
    "collapsed": true
   },
   "outputs": [],
   "source": []
  },
  {
   "cell_type": "code",
   "execution_count": 113,
   "metadata": {},
   "outputs": [
    {
     "name": "stdout",
     "output_type": "stream",
     "text": [
      "Counter({0: 3670, 1: 1130})\n",
      "Counter({'rgb(50, 50, 200)': 3670, 'rgb(50, 200, 50)': 1130})\n"
     ]
    }
   ],
   "source": [
    "from sklearn import mixture\n",
    "gmm = mixture.GaussianMixture(n_components=2).fit(train_data)\n",
    "g_pred = gmm.predict(train_data) \n",
    "color = []\n",
    "for index in range(0,len(train_data)):\n",
    "    if g_pred[index] == 0:\n",
    "        color.append('rgb(50, 50, 200)')\n",
    "    if g_pred[index] == 1:\n",
    "        color.append('rgb(50, 200, 50)')\n",
    "from collections import Counter\n",
    "print (Counter(g_pred))\n",
    "print (Counter(color))"
   ]
  },
  {
   "cell_type": "code",
   "execution_count": 111,
   "metadata": {},
   "outputs": [
    {
     "name": "stdout",
     "output_type": "stream",
     "text": [
      "Counter({0: 4303, 1: 497})\n",
      "Counter({'rgb(50, 50, 200)': 4303, 'rgb(50, 200, 50)': 497})\n"
     ]
    }
   ],
   "source": [
    "from sklearn.cluster import KMeans\n",
    "kmeans = KMeans(n_clusters=2, random_state=0).fit(train_data)\n",
    "k_pred = kmeans.labels_\n",
    "color = []\n",
    "for index in range(0,len(train_data)):\n",
    "    if k_pred[index] == 0:\n",
    "        color.append('rgb(50, 50, 200)')\n",
    "    if k_pred[index] == 1:\n",
    "        color.append('rgb(50, 200, 50)')\n",
    "from collections import Counter\n",
    "print (Counter(k_pred))\n",
    "print (Counter(color))"
   ]
  },
  {
   "cell_type": "code",
   "execution_count": 114,
   "metadata": {},
   "outputs": [],
   "source": [
    "x, y, z = np.random.multivariate_normal(np.array([0,0,0]), np.eye(3), 200).transpose()\n",
    "trace1 = go.Scatter3d(\n",
    "    x=train_data[:,0],\n",
    "    y=train_data[:,1],\n",
    "    z=train_data[:,2],\n",
    "    mode='markers',\n",
    "    marker=dict(\n",
    "        size=12,\n",
    "        color= color,\n",
    "        colorscale='Viridis',\n",
    "        opacity=0.8\n",
    "    )\n",
    ")\n",
    "\n",
    "# x2, y2, z2 = np.random.multivariate_normal(np.array([0,0,0]), np.eye(3), 200).transpose()\n",
    "# trace2 = go.Scatter3d(\n",
    "#     x=x2,\n",
    "#     y=y2,\n",
    "#     z=z2,\n",
    "#     mode='markers',\n",
    "#     marker=dict(\n",
    "#         color='rgb(127, 127, 127)',\n",
    "#         size=12,\n",
    "#         symbol='circle',\n",
    "#         line=dict(\n",
    "#             color='rgb(204, 204, 204)',\n",
    "#             width=1\n",
    "#         ),\n",
    "#         opacity=0.9\n",
    "#     )\n",
    "# )\n",
    "# data = [trace1, trace2]\n",
    "data = [trace1]\n",
    "\n",
    "layout = go.Layout(\n",
    "    margin=dict(\n",
    "        l=0,\n",
    "        r=0,\n",
    "        b=0,\n",
    "        t=0\n",
    "    )\n",
    ")\n",
    "fig = go.Figure(data=data, layout=layout)\n",
    "divstring = plot(fig,output_type='div')\n",
    "wf = open(\"/Users/prasanna/ml_experiments/plot_outputs/gmmsphere2.html\",\"w\")\n",
    "wf.write(divstring)\n",
    "wf.close()\n",
    "# print (divstring)\n",
    "# iplot(fig, filename='simple-3d-scatter')"
   ]
  },
  {
   "cell_type": "code",
   "execution_count": 26,
   "metadata": {},
   "outputs": [
    {
     "data": {
      "text/plain": [
       "'<div><scri'"
      ]
     },
     "execution_count": 26,
     "metadata": {},
     "output_type": "execute_result"
    }
   ],
   "source": [
    "from sklearn.cluster import KMeans\n",
    "kmeans = KMeans(n_clusters=2, random_state=0).fit(X)\n",
    "k_pred = kmeans.labels_"
   ]
  },
  {
   "cell_type": "code",
   "execution_count": 27,
   "metadata": {},
   "outputs": [
    {
     "ename": "NameError",
     "evalue": "name 'os' is not defined",
     "output_type": "error",
     "traceback": [
      "\u001b[0;31m---------------------------------------------------------------------------\u001b[0m",
      "\u001b[0;31mNameError\u001b[0m                                 Traceback (most recent call last)",
      "\u001b[0;32m<ipython-input-27-655bcb594cad>\u001b[0m in \u001b[0;36m<module>\u001b[0;34m()\u001b[0m\n\u001b[0;32m----> 1\u001b[0;31m \u001b[0mos\u001b[0m\u001b[0;34m.\u001b[0m\u001b[0mpwd\u001b[0m\u001b[0;34m\u001b[0m\u001b[0m\n\u001b[0m",
      "\u001b[0;31mNameError\u001b[0m: name 'os' is not defined"
     ]
    }
   ],
   "source": [
    "os.pwd"
   ]
  },
  {
   "cell_type": "code",
   "execution_count": null,
   "metadata": {
    "collapsed": true
   },
   "outputs": [],
   "source": []
  }
 ],
 "metadata": {
  "kernelspec": {
   "display_name": "Python 3",
   "language": "python",
   "name": "python3"
  },
  "language_info": {
   "codemirror_mode": {
    "name": "ipython",
    "version": 3
   },
   "file_extension": ".py",
   "mimetype": "text/x-python",
   "name": "python",
   "nbconvert_exporter": "python",
   "pygments_lexer": "ipython3",
   "version": "3.5.0"
  }
 },
 "nbformat": 4,
 "nbformat_minor": 2
}
