{
 "cells": [
  {
   "cell_type": "code",
   "execution_count": 75,
   "metadata": {},
   "outputs": [],
   "source": [
    "import matplotlib.pyplot as plt\n",
    "import numpy as np\n",
    "import tensorflow as tf\n",
    "import requests\n",
    "from tensorflow.python.framework import ops\n",
    "import os.path\n",
    "import csv\n",
    "\n",
    "\n",
    "import random\n",
    "import itertools\n",
    "from itertools import cycle\n",
    "import pandas as pd\n",
    "import numpy as np\n",
    "from scipy import interp, stats\n",
    "import matplotlib.pyplot as plt\n",
    "%matplotlib inline\n",
    "import seaborn as sns\n",
    "sns.set(style=\"white\", color_codes=True)\n",
    "import warnings\n",
    "warnings.filterwarnings(\"ignore\")\n",
    "warnings.filterwarnings(\"ignore\",category=DeprecationWarning)\n",
    "import sklearn.ensemble as ske\n",
    "from sklearn.model_selection import StratifiedKFold, train_test_split\n",
    "from sklearn.metrics import *\n",
    "import sklearn.preprocessing as prep\n",
    "\n",
    "import xgboost\n",
    "import tensorflow as tf\n",
    "\n",
    "pd.set_option('display.max_columns', None) \n",
    "pd.set_option('display.max_rows', 100) \n",
    "pd.set_option('display.float_format', lambda x: '%.3f' % x)\n",
    "np.set_printoptions(suppress=True)\n",
    "np.set_printoptions(precision=2)"
   ]
  },
  {
   "cell_type": "code",
   "execution_count": 76,
   "metadata": {
    "collapsed": true
   },
   "outputs": [],
   "source": [
    "ops.reset_default_graph()\n",
    "\n",
    "# Create graph\n",
    "def min_max_scale(data):\n",
    "    preprocessor = prep.MinMaxScaler().fit(data)\n",
    "    data = preprocessor.transform(data)\n",
    "    return data\n",
    "\n",
    "def standard_scale(data):\n",
    "    preprocessor = prep.StandardScaler().fit(data)\n",
    "    data = preprocessor.transform(data)\n",
    "    return data\n",
    "\n",
    "def get_random_block_from_data(x, y, batch_size):\n",
    "    start_index = np.random.randint(0, len(data) - batch_size)\n",
    "    return (x[start_index:(start_index + batch_size)], y[start_index:(start_index + batch_size)])\n",
    "sess = tf.Session()"
   ]
  },
  {
   "cell_type": "code",
   "execution_count": null,
   "metadata": {
    "collapsed": true
   },
   "outputs": [],
   "source": []
  },
  {
   "cell_type": "code",
   "execution_count": 77,
   "metadata": {},
   "outputs": [
    {
     "data": {
      "text/plain": [
       "(300000, 110)"
      ]
     },
     "execution_count": 77,
     "metadata": {},
     "output_type": "execute_result"
    }
   ],
   "source": [
    "folder_path = \"/Users/prasanna/Downloads/\"\n",
    "file_name = \"DS_Tech_Review_Dataset (1).txt\"\n",
    "data = pd.read_csv(folder_path + file_name, sep=\"|\")\n",
    "#data.describe()\n",
    "#data.corr()\n",
    "age_cols = [col for col in data.columns.values if \"AGE\" in col]\n",
    "relevant_age_cols = [col for col in data.columns.values if \"AGE\" in col and (\"_\" in col or \"UP\" in col)]\n",
    "data.dropna(thresh=len(data)*0.1, axis=1, inplace=True)\n",
    "\n",
    "same_value_cols =[]\n",
    "for col in data.columns.values:\n",
    "    unique_cols = data[col].unique()\n",
    "    if len(unique_cols) < 30 :\n",
    "        #print (col, unique_cols)\n",
    "        pass\n",
    "    if len(unique_cols) == 1 or (len(unique_cols) == 2 and np.isnan(unique_cols).any()) :\n",
    "        same_value_cols.append(col)\n",
    "\n",
    "data[\"MAJOR_CREDIT_CARD_LIF\"] = np.where(data[\"MAJOR_CREDIT_CARD_LIF\"].isnull(),\"NA\", data[\"MAJOR_CREDIT_CARD_LIF\"])\n",
    "data.fillna(0,inplace=True)\n",
    "data = pd.get_dummies(data, columns=[\"product\", \"MAJOR_CREDIT_CARD_LIF\"])\n",
    "data.drop(same_value_cols, axis=1, inplace=True)\n",
    "\n",
    "target_values = data[\"target\"].astype('float32').copy()\n",
    "data.drop(\"target\", axis=1, inplace=True)\n",
    "class_names = [\"No\",\"Yes\"]\n",
    "features_names = data.columns.values.tolist()\n",
    "features_data = data.astype('float32').as_matrix()\n",
    "features_data.shape"
   ]
  },
  {
   "cell_type": "code",
   "execution_count": 78,
   "metadata": {
    "collapsed": true
   },
   "outputs": [],
   "source": [
    "features_data = min_max_scale(features_data)"
   ]
  },
  {
   "cell_type": "code",
   "execution_count": 6,
   "metadata": {
    "collapsed": true
   },
   "outputs": [],
   "source": [
    "# Declare batch size\n",
    "batch_size = 25\n",
    "\n",
    "# Initialize placeholders\n",
    "x_data = tf.placeholder(shape=[None, 110], dtype=tf.float32)\n",
    "y_target = tf.placeholder(shape=[None, 1], dtype=tf.float32)\n",
    "\n",
    "# Create variables for linear regression\n",
    "A = tf.Variable(tf.random_normal(shape=[110,1]))\n",
    "b = tf.Variable(tf.random_normal(shape=[1,1]))\n",
    "\n",
    "# Declare model operations\n",
    "model_output = tf.add(tf.matmul(x_data, A), b)\n",
    "\n",
    "# Declare loss function (Cross Entropy loss)\n",
    "loss = tf.reduce_mean(tf.nn.sigmoid_cross_entropy_with_logits(logits=model_output, labels=y_target))\n",
    "\n",
    "# Declare optimizer\n",
    "my_opt = tf.train.GradientDescentOptimizer(0.01)\n",
    "train_step = my_opt.minimize(loss)"
   ]
  },
  {
   "cell_type": "code",
   "execution_count": 8,
   "metadata": {},
   "outputs": [
    {
     "ename": "ValueError",
     "evalue": "Cannot feed value of shape (1, 300000, 1) for Tensor 'Placeholder_1:0', which has shape '(?, 1)'",
     "output_type": "error",
     "traceback": [
      "\u001b[0;31m---------------------------------------------------------------------------\u001b[0m",
      "\u001b[0;31mValueError\u001b[0m                                Traceback (most recent call last)",
      "\u001b[0;32m<ipython-input-8-fae37b364221>\u001b[0m in \u001b[0;36m<module>\u001b[0;34m()\u001b[0m\n\u001b[1;32m     21\u001b[0m     \u001b[0mtemp_loss\u001b[0m \u001b[0;34m=\u001b[0m \u001b[0msess\u001b[0m\u001b[0;34m.\u001b[0m\u001b[0mrun\u001b[0m\u001b[0;34m(\u001b[0m\u001b[0mloss\u001b[0m\u001b[0;34m,\u001b[0m \u001b[0mfeed_dict\u001b[0m\u001b[0;34m=\u001b[0m\u001b[0;34m{\u001b[0m\u001b[0mx_data\u001b[0m\u001b[0;34m:\u001b[0m \u001b[0mfeatures_data\u001b[0m\u001b[0;34m,\u001b[0m \u001b[0my_target\u001b[0m\u001b[0;34m:\u001b[0m \u001b[0mtarget_values_re\u001b[0m\u001b[0;34m}\u001b[0m\u001b[0;34m)\u001b[0m\u001b[0;34m\u001b[0m\u001b[0m\n\u001b[1;32m     22\u001b[0m     \u001b[0mloss_vec\u001b[0m\u001b[0;34m.\u001b[0m\u001b[0mappend\u001b[0m\u001b[0;34m(\u001b[0m\u001b[0mtemp_loss\u001b[0m\u001b[0;34m)\u001b[0m\u001b[0;34m\u001b[0m\u001b[0m\n\u001b[0;32m---> 23\u001b[0;31m     \u001b[0mtemp_acc_train\u001b[0m \u001b[0;34m=\u001b[0m \u001b[0msess\u001b[0m\u001b[0;34m.\u001b[0m\u001b[0mrun\u001b[0m\u001b[0;34m(\u001b[0m\u001b[0maccuracy\u001b[0m\u001b[0;34m,\u001b[0m \u001b[0mfeed_dict\u001b[0m\u001b[0;34m=\u001b[0m\u001b[0;34m{\u001b[0m\u001b[0mx_data\u001b[0m\u001b[0;34m:\u001b[0m \u001b[0mfeatures_data\u001b[0m\u001b[0;34m,\u001b[0m \u001b[0my_target\u001b[0m\u001b[0;34m:\u001b[0m \u001b[0mnp\u001b[0m\u001b[0;34m.\u001b[0m\u001b[0mtranspose\u001b[0m\u001b[0;34m(\u001b[0m\u001b[0;34m[\u001b[0m\u001b[0mtarget_values_re\u001b[0m\u001b[0;34m]\u001b[0m\u001b[0;34m)\u001b[0m\u001b[0;34m}\u001b[0m\u001b[0;34m)\u001b[0m\u001b[0;34m\u001b[0m\u001b[0m\n\u001b[0m\u001b[1;32m     24\u001b[0m     \u001b[0mtrain_acc\u001b[0m\u001b[0;34m.\u001b[0m\u001b[0mappend\u001b[0m\u001b[0;34m(\u001b[0m\u001b[0mtemp_acc_train\u001b[0m\u001b[0;34m)\u001b[0m\u001b[0;34m\u001b[0m\u001b[0m\n\u001b[1;32m     25\u001b[0m     \u001b[0mtemp_acc_test\u001b[0m \u001b[0;34m=\u001b[0m \u001b[0msess\u001b[0m\u001b[0;34m.\u001b[0m\u001b[0mrun\u001b[0m\u001b[0;34m(\u001b[0m\u001b[0maccuracy\u001b[0m\u001b[0;34m,\u001b[0m \u001b[0mfeed_dict\u001b[0m\u001b[0;34m=\u001b[0m\u001b[0;34m{\u001b[0m\u001b[0mx_data\u001b[0m\u001b[0;34m:\u001b[0m \u001b[0mfeatures_data\u001b[0m\u001b[0;34m,\u001b[0m \u001b[0my_target\u001b[0m\u001b[0;34m:\u001b[0m \u001b[0mnp\u001b[0m\u001b[0;34m.\u001b[0m\u001b[0mtranspose\u001b[0m\u001b[0;34m(\u001b[0m\u001b[0;34m[\u001b[0m\u001b[0mtarget_values_re\u001b[0m\u001b[0;34m]\u001b[0m\u001b[0;34m)\u001b[0m\u001b[0;34m}\u001b[0m\u001b[0;34m)\u001b[0m\u001b[0;34m\u001b[0m\u001b[0m\n",
      "\u001b[0;32m/Library/Frameworks/Python.framework/Versions/3.5/lib/python3.5/site-packages/tensorflow/python/client/session.py\u001b[0m in \u001b[0;36mrun\u001b[0;34m(self, fetches, feed_dict, options, run_metadata)\u001b[0m\n\u001b[1;32m    893\u001b[0m     \u001b[0;32mtry\u001b[0m\u001b[0;34m:\u001b[0m\u001b[0;34m\u001b[0m\u001b[0m\n\u001b[1;32m    894\u001b[0m       result = self._run(None, fetches, feed_dict, options_ptr,\n\u001b[0;32m--> 895\u001b[0;31m                          run_metadata_ptr)\n\u001b[0m\u001b[1;32m    896\u001b[0m       \u001b[0;32mif\u001b[0m \u001b[0mrun_metadata\u001b[0m\u001b[0;34m:\u001b[0m\u001b[0;34m\u001b[0m\u001b[0m\n\u001b[1;32m    897\u001b[0m         \u001b[0mproto_data\u001b[0m \u001b[0;34m=\u001b[0m \u001b[0mtf_session\u001b[0m\u001b[0;34m.\u001b[0m\u001b[0mTF_GetBuffer\u001b[0m\u001b[0;34m(\u001b[0m\u001b[0mrun_metadata_ptr\u001b[0m\u001b[0;34m)\u001b[0m\u001b[0;34m\u001b[0m\u001b[0m\n",
      "\u001b[0;32m/Library/Frameworks/Python.framework/Versions/3.5/lib/python3.5/site-packages/tensorflow/python/client/session.py\u001b[0m in \u001b[0;36m_run\u001b[0;34m(self, handle, fetches, feed_dict, options, run_metadata)\u001b[0m\n\u001b[1;32m   1098\u001b[0m                 \u001b[0;34m'Cannot feed value of shape %r for Tensor %r, '\u001b[0m\u001b[0;34m\u001b[0m\u001b[0m\n\u001b[1;32m   1099\u001b[0m                 \u001b[0;34m'which has shape %r'\u001b[0m\u001b[0;34m\u001b[0m\u001b[0m\n\u001b[0;32m-> 1100\u001b[0;31m                 % (np_val.shape, subfeed_t.name, str(subfeed_t.get_shape())))\n\u001b[0m\u001b[1;32m   1101\u001b[0m           \u001b[0;32mif\u001b[0m \u001b[0;32mnot\u001b[0m \u001b[0mself\u001b[0m\u001b[0;34m.\u001b[0m\u001b[0mgraph\u001b[0m\u001b[0;34m.\u001b[0m\u001b[0mis_feedable\u001b[0m\u001b[0;34m(\u001b[0m\u001b[0msubfeed_t\u001b[0m\u001b[0;34m)\u001b[0m\u001b[0;34m:\u001b[0m\u001b[0;34m\u001b[0m\u001b[0m\n\u001b[1;32m   1102\u001b[0m             \u001b[0;32mraise\u001b[0m \u001b[0mValueError\u001b[0m\u001b[0;34m(\u001b[0m\u001b[0;34m'Tensor %s may not be fed.'\u001b[0m \u001b[0;34m%\u001b[0m \u001b[0msubfeed_t\u001b[0m\u001b[0;34m)\u001b[0m\u001b[0;34m\u001b[0m\u001b[0m\n",
      "\u001b[0;31mValueError\u001b[0m: Cannot feed value of shape (1, 300000, 1) for Tensor 'Placeholder_1:0', which has shape '(?, 1)'"
     ]
    }
   ],
   "source": [
    "\n",
    "# Initialize variables\n",
    "init = tf.global_variables_initializer()\n",
    "sess.run(init)\n",
    "\n",
    "# Actual Prediction\n",
    "prediction = tf.round(tf.sigmoid(model_output))\n",
    "predictions_correct = tf.cast(tf.equal(prediction, y_target), tf.float32)\n",
    "accuracy = tf.reduce_mean(predictions_correct)\n",
    "\n",
    "\n",
    "target_values_re = target_values.reshape(300000,1)\n",
    "\n",
    "# Training loop\n",
    "loss_vec = []\n",
    "train_acc = []\n",
    "test_acc = []\n",
    "for i in range(100):\n",
    "    sess.run(train_step, feed_dict={x_data: features_data, y_target: target_values_re})\n",
    "\n",
    "    temp_loss = sess.run(loss, feed_dict={x_data: features_data, y_target: target_values_re})\n",
    "    loss_vec.append(temp_loss)\n",
    "    temp_acc_train = sess.run(accuracy, feed_dict={x_data: features_data, y_target: np.transpose([target_values_re])})\n",
    "    train_acc.append(temp_acc_train)\n",
    "    temp_acc_test = sess.run(accuracy, feed_dict={x_data: features_data, y_target: np.transpose([target_values_re])})\n",
    "    test_acc.append(temp_acc_test)\n",
    "    if (i+1)%300==0:\n",
    "        print('Loss = ' + str(temp_loss))"
   ]
  },
  {
   "cell_type": "code",
   "execution_count": 31,
   "metadata": {},
   "outputs": [],
   "source": [
    "features_data = min_max_scale(features_data)"
   ]
  },
  {
   "cell_type": "code",
   "execution_count": 42,
   "metadata": {},
   "outputs": [
    {
     "data": {
      "text/plain": [
       "Counter({1: 7004})"
      ]
     },
     "execution_count": 42,
     "metadata": {},
     "output_type": "execute_result"
    }
   ],
   "source": [
    "ones_feat = []\n",
    "zeros_feat = []\n",
    "ones_target = []\n",
    "zeros_target = []\n",
    "\n",
    "for index in range(0, len(target_values)) :\n",
    "    if target_values[index] == 0:\n",
    "        zeros_feat.append(features_data[index])\n",
    "        zeros_target.append(0)\n",
    "    else :\n",
    "        ones_feat.append(features_data[index])\n",
    "        ones_target.append(1)        \n",
    "Counter(ones_target)"
   ]
  },
  {
   "cell_type": "code",
   "execution_count": 43,
   "metadata": {},
   "outputs": [
    {
     "data": {
      "text/plain": [
       "(14008, 110)"
      ]
     },
     "execution_count": 43,
     "metadata": {},
     "output_type": "execute_result"
    }
   ],
   "source": [
    "features_data2 = ones_feat\n",
    "features_data2.extend(zeros_feat[0:7004])\n",
    "target_values2 = ones_target\n",
    "target_values2.extend(zeros_target[0:7004])\n",
    "len(features_data2)\n",
    "features_data2 = np.array(features_data2)\n",
    "target_values2 = np.array(target_values2)\n",
    "features_data2.shape"
   ]
  },
  {
   "cell_type": "code",
   "execution_count": 71,
   "metadata": {},
   "outputs": [
    {
     "name": "stdout",
     "output_type": "stream",
     "text": [
      "step: 0, value: 1.2717570066452026\n",
      "step: 5, value: 1.2693437337875366\n",
      "step: 10, value: 1.2662299871444702\n",
      "step: 15, value: 1.2622262239456177\n",
      "step: 20, value: 1.2571115493774414\n",
      "step: 25, value: 1.2506248950958252\n",
      "step: 30, value: 1.2424935102462769\n",
      "step: 35, value: 1.2324697971343994\n",
      "step: 40, value: 1.2203888893127441\n",
      "step: 45, value: 1.206248164176941\n",
      "step: 50, value: 1.190273642539978\n",
      "step: 55, value: 1.1729271411895752\n",
      "step: 60, value: 1.1548657417297363\n",
      "step: 65, value: 1.1368099451065063\n",
      "step: 70, value: 1.1194250583648682\n",
      "step: 75, value: 1.1032216548919678\n",
      "step: 80, value: 1.088534951210022\n",
      "step: 85, value: 1.0755329132080078\n",
      "step: 90, value: 1.0642427206039429\n",
      "step: 95, value: 1.0546029806137085\n",
      "step: 100, value: 1.0464880466461182\n",
      "step: 105, value: 1.0397385358810425\n",
      "step: 110, value: 1.0341801643371582\n",
      "step: 115, value: 1.029640793800354\n",
      "step: 120, value: 1.0259612798690796\n",
      "step: 125, value: 1.022991418838501\n",
      "step: 130, value: 1.0206104516983032\n",
      "step: 135, value: 1.018711805343628\n",
      "step: 140, value: 1.017204761505127\n",
      "step: 145, value: 1.0160152912139893\n",
      "step: 150, value: 1.0150783061981201\n",
      "step: 155, value: 1.0143409967422485\n",
      "step: 160, value: 1.0137633085250854\n",
      "step: 165, value: 1.0133063793182373\n",
      "step: 170, value: 1.0129420757293701\n",
      "step: 175, value: 1.0126417875289917\n",
      "step: 180, value: 1.0123765468597412\n",
      "step: 185, value: 1.0121235847473145\n",
      "step: 190, value: 1.0118520259857178\n",
      "step: 195, value: 1.011525273323059\n",
      "step: 200, value: 1.0110793113708496\n",
      "step: 205, value: 1.010401725769043\n",
      "step: 210, value: 1.0093344449996948\n",
      "step: 215, value: 1.007745623588562\n",
      "step: 220, value: 1.0055478811264038\n",
      "step: 225, value: 1.0027086734771729\n",
      "step: 230, value: 0.9992626905441284\n",
      "step: 235, value: 0.9952601790428162\n",
      "step: 240, value: 0.9906643033027649\n",
      "step: 245, value: 0.9854304790496826\n",
      "step: 250, value: 0.979632556438446\n",
      "step: 255, value: 0.9733782410621643\n",
      "step: 260, value: 0.9667842984199524\n",
      "step: 265, value: 0.9599726796150208\n",
      "step: 270, value: 0.9530556201934814\n",
      "step: 275, value: 0.9461382031440735\n",
      "step: 280, value: 0.9393249154090881\n",
      "step: 285, value: 0.932700514793396\n",
      "step: 290, value: 0.9263496994972229\n",
      "step: 295, value: 0.9203347563743591\n",
      "step: 300, value: 0.9147091507911682\n",
      "step: 305, value: 0.9095037579536438\n",
      "step: 310, value: 0.9047334790229797\n",
      "step: 315, value: 0.9003922939300537\n",
      "step: 320, value: 0.8964557647705078\n",
      "step: 325, value: 0.892894446849823\n",
      "step: 330, value: 0.8896756768226624\n",
      "step: 335, value: 0.886782705783844\n",
      "step: 340, value: 0.8841920495033264\n",
      "step: 345, value: 0.8818716406822205\n",
      "step: 350, value: 0.8797810077667236\n",
      "step: 355, value: 0.8778823018074036\n",
      "step: 360, value: 0.8761332631111145\n",
      "step: 365, value: 0.8745070695877075\n",
      "step: 370, value: 0.8729857802391052\n",
      "step: 375, value: 0.8715689182281494\n",
      "step: 380, value: 0.8702608346939087\n",
      "step: 385, value: 0.8690685033798218\n",
      "step: 390, value: 0.8679891228675842\n",
      "step: 395, value: 0.8670165538787842\n",
      "step: 400, value: 0.8661438822746277\n",
      "step: 405, value: 0.8653614521026611\n",
      "step: 410, value: 0.8646559119224548\n",
      "step: 415, value: 0.8640226721763611\n",
      "step: 420, value: 0.86344313621521\n",
      "step: 425, value: 0.8629201650619507\n",
      "step: 430, value: 0.8624359369277954\n",
      "step: 435, value: 0.861991822719574\n",
      "step: 440, value: 0.8615707755088806\n",
      "step: 445, value: 0.8611754179000854\n",
      "step: 450, value: 0.8607915639877319\n",
      "step: 455, value: 0.8604239225387573\n",
      "step: 460, value: 0.8600501418113708\n",
      "step: 465, value: 0.8596775531768799\n",
      "step: 470, value: 0.8592835068702698\n",
      "step: 475, value: 0.8588702082633972\n",
      "step: 480, value: 0.8584117889404297\n",
      "step: 485, value: 0.8579087853431702\n",
      "step: 490, value: 0.8573359251022339\n",
      "step: 495, value: 0.8566881418228149\n",
      "step: 500, value: 0.8559488654136658\n",
      "step: 505, value: 0.8551058769226074\n",
      "step: 510, value: 0.8541504144668579\n",
      "step: 515, value: 0.8530683517456055\n",
      "step: 520, value: 0.8518481254577637\n",
      "step: 525, value: 0.8504881262779236\n",
      "step: 530, value: 0.8489879369735718\n",
      "step: 535, value: 0.8473812341690063\n",
      "step: 540, value: 0.8456901907920837\n",
      "step: 545, value: 0.8439727425575256\n",
      "step: 550, value: 0.8422364592552185\n",
      "step: 555, value: 0.8405381441116333\n",
      "step: 560, value: 0.8388628959655762\n",
      "step: 565, value: 0.837257444858551\n",
      "step: 570, value: 0.8356932401657104\n",
      "step: 575, value: 0.8342120051383972\n",
      "step: 580, value: 0.8327847719192505\n",
      "step: 585, value: 0.8314406275749207\n",
      "step: 590, value: 0.8301565647125244\n",
      "step: 595, value: 0.8289535045623779\n",
      "step: 600, value: 0.8278062343597412\n",
      "step: 605, value: 0.8267424702644348\n",
      "step: 610, value: 0.8257253766059875\n",
      "step: 615, value: 0.8247938752174377\n",
      "step: 620, value: 0.8238961100578308\n",
      "step: 625, value: 0.8230799436569214\n",
      "step: 630, value: 0.8222916722297668\n",
      "step: 635, value: 0.8215805888175964\n",
      "step: 640, value: 0.8208898305892944\n",
      "step: 645, value: 0.8202686309814453\n",
      "step: 650, value: 0.8196634650230408\n",
      "step: 655, value: 0.8191230297088623\n",
      "step: 660, value: 0.818589448928833\n",
      "step: 665, value: 0.8181153535842896\n",
      "step: 670, value: 0.8176460862159729\n",
      "step: 675, value: 0.8172311782836914\n",
      "step: 680, value: 0.8168056011199951\n",
      "step: 685, value: 0.8164339661598206\n",
      "step: 690, value: 0.8160578012466431\n",
      "step: 695, value: 0.8157307505607605\n",
      "step: 700, value: 0.8153993487358093\n",
      "step: 705, value: 0.8151058554649353\n",
      "step: 710, value: 0.8148073554039001\n",
      "step: 715, value: 0.8145352005958557\n",
      "step: 720, value: 0.8142359852790833\n",
      "step: 725, value: 0.8139706254005432\n",
      "step: 730, value: 0.8137165307998657\n",
      "step: 735, value: 0.8134848475456238\n",
      "step: 740, value: 0.8132481575012207\n",
      "step: 745, value: 0.8130488395690918\n",
      "step: 750, value: 0.812829315662384\n",
      "step: 755, value: 0.812650203704834\n",
      "step: 760, value: 0.8124510645866394\n",
      "step: 765, value: 0.8122877478599548\n",
      "step: 770, value: 0.8121071457862854\n",
      "step: 775, value: 0.8119611144065857\n",
      "step: 780, value: 0.8117904663085938\n",
      "step: 785, value: 0.8116622567176819\n",
      "step: 790, value: 0.8115018010139465\n",
      "step: 795, value: 0.8113856315612793\n",
      "step: 800, value: 0.8112358450889587\n",
      "step: 805, value: 0.811130702495575\n",
      "step: 810, value: 0.8109884262084961\n",
      "step: 815, value: 0.8108932971954346\n",
      "step: 820, value: 0.8107591271400452\n",
      "step: 825, value: 0.8106738328933716\n",
      "step: 830, value: 0.8105443716049194\n",
      "step: 835, value: 0.8104665279388428\n",
      "step: 840, value: 0.8103436827659607\n",
      "step: 845, value: 0.8102719783782959\n",
      "step: 850, value: 0.8101539015769958\n",
      "step: 855, value: 0.8100884556770325\n",
      "step: 860, value: 0.8099749088287354\n",
      "step: 865, value: 0.8099154233932495\n",
      "step: 870, value: 0.8098040223121643\n",
      "step: 875, value: 0.809750497341156\n",
      "step: 880, value: 0.809641420841217\n",
      "step: 885, value: 0.8095912933349609\n",
      "step: 890, value: 0.8094847798347473\n",
      "step: 895, value: 0.8094385862350464\n",
      "step: 900, value: 0.8093336224555969\n",
      "step: 905, value: 0.8092898726463318\n",
      "step: 910, value: 0.8091872930526733\n",
      "step: 915, value: 0.8091451525688171\n",
      "step: 920, value: 0.8090423941612244\n",
      "step: 925, value: 0.8089361786842346\n",
      "step: 930, value: 0.8087519407272339\n",
      "step: 935, value: 0.8084548115730286\n",
      "step: 940, value: 0.808393120765686\n",
      "step: 945, value: 0.8082651495933533\n",
      "step: 950, value: 0.8081071376800537\n",
      "step: 955, value: 0.8080779314041138\n",
      "step: 960, value: 0.80790776014328\n",
      "step: 965, value: 0.8078661561012268\n",
      "step: 970, value: 0.8077393174171448\n",
      "step: 975, value: 0.8076717257499695\n",
      "step: 980, value: 0.8075623512268066\n",
      "step: 985, value: 0.8074997663497925\n",
      "step: 990, value: 0.8073798418045044\n",
      "step: 995, value: 0.8073277473449707\n"
     ]
    }
   ],
   "source": [
    "import tensorflow as tf\n",
    "import numpy as np\n",
    "import uuid\n",
    "\n",
    "x = tf.placeholder(shape=[None, 3], dtype=tf.float32)\n",
    "nn = tf.layers.dense(x, 3, activation=tf.nn.sigmoid)\n",
    "nn = tf.layers.dense(nn, 5, activation=tf.nn.sigmoid)\n",
    "encoded = tf.layers.dense(nn, 2, activation=tf.nn.sigmoid)\n",
    "nn = tf.layers.dense(encoded, 5, activation=tf.nn.sigmoid)\n",
    "nn = tf.layers.dense(nn, 3, activation=tf.nn.sigmoid)\n",
    "\n",
    "cost = tf.reduce_mean((nn - x)**2)\n",
    "optimizer = tf.train.RMSPropOptimizer(0.01).minimize(cost)\n",
    "init = tf.global_variables_initializer()\n",
    "\n",
    "tf.summary.scalar(\"cost\", cost)\n",
    "merged_summary_op = tf.summary.merge_all()\n",
    "\n",
    "with tf.Session() as sess:\n",
    "    sess.run(init)\n",
    "    uniq_id = \"/tmp/tensorboard-layers-api/\" + uuid.uuid1().__str__()[:6]\n",
    "    summary_writer = tf.summary.FileWriter(uniq_id, graph=tf.get_default_graph())\n",
    "    x_vals = np.random.normal(0, 1, (10000, 3))\n",
    "    for step in range(1000):\n",
    "        _, val, summary = sess.run([optimizer, cost, merged_summary_op],\n",
    "                                   feed_dict={x: x_vals})\n",
    "        if step % 5 == 0:\n",
    "            print(\"step: {}, value: {}\".format(step, val))\n",
    "            summary_writer.add_summary(summary, step)\n",
    "            \n",
    "            "
   ]
  },
  {
   "cell_type": "code",
   "execution_count": 73,
   "metadata": {},
   "outputs": [],
   "source": [
    "# tf_x = tf.placeholder(tf.float32, features_data.shape)     # input x\n",
    "# tf_y = tf.placeholder(tf.int32, target_values.shape)  \n",
    "tf_x = tf.placeholder(tf.float32, features_data.shape)     # input x\n",
    "tf_y = tf.placeholder(tf.int32, target_values.shape)  \n",
    "\n",
    "# tf_x = tf.placeholder(tf.float32, [batch_size, 784])     # input x\n",
    "# tf_y = tf.placeholder(tf.float32, [batch_size, 2])"
   ]
  },
  {
   "cell_type": "code",
   "execution_count": 72,
   "metadata": {},
   "outputs": [
    {
     "data": {
      "text/plain": [
       "(Counter({1.0: 292996, 40.0: 7004}), Counter({0.0: 292996, 1.0: 7004}))"
      ]
     },
     "execution_count": 72,
     "metadata": {},
     "output_type": "execute_result"
    }
   ],
   "source": [
    "# a = 7004.0 \n",
    "# b = 300000 - a\n",
    "# c = b/float(a)\n",
    "# c\n",
    "# class_weights = []\n",
    "# for item in target_values:\n",
    "#     if item == 0:\n",
    "#         class_weights.append(1.0)\n",
    "#     if item == 1:\n",
    "#         class_weights.append(20.0)\n",
    "# class_weights = np.array(class_weights)\n",
    "# Counter(class_weights)\n",
    "\n",
    "\n",
    "sample_weights_data =  target_values.copy()\n",
    "sample_weights_data[sample_weights_data == 1] = 40\n",
    "sample_weights_data[sample_weights_data == 0] = 1\n",
    "Counter(sample_weights_data), Counter(target_values)"
   ]
  },
  {
   "cell_type": "code",
   "execution_count": 74,
   "metadata": {},
   "outputs": [
    {
     "data": {
      "text/plain": [
       "TensorShape([Dimension(300000)])"
      ]
     },
     "execution_count": 74,
     "metadata": {},
     "output_type": "execute_result"
    }
   ],
   "source": [
    "tf_y.shape"
   ]
  },
  {
   "cell_type": "code",
   "execution_count": 65,
   "metadata": {},
   "outputs": [
    {
     "name": "stdout",
     "output_type": "stream",
     "text": [
      "0.0233467\n",
      "0.91894\n",
      "0.947653\n",
      "0.953454\n",
      "0.936823\n"
     ]
    }
   ],
   "source": [
    "# l1 = tf.layers.dense(tf_x, 10, tf.nn.relu)          # hidden layer\n",
    "l1 = tf.layers.dense(tf_x, 30, tf.nn.sigmoid)          # hidden layer\n",
    "l2 = tf.layers.dense(l1, 10, tf.nn.sigmoid)\n",
    "output = tf.layers.dense(l2, 2)                     # output layer\n",
    "\n",
    "loss = tf.losses.sparse_softmax_cross_entropy(labels=tf_y, logits=output, weights = class_weights)           # compute cost\n",
    "accuracy = tf.metrics.accuracy(          # return (acc, update_op), and create 2 local variables\n",
    "    labels=tf.squeeze(tf_y), predictions=tf.argmax(output, axis=1),)[1]\n",
    "# optimizer = tf.train.GradientDescentOptimizer(learning_rate=0.05)\n",
    "optimizer = tf.train.AdamOptimizer(learning_rate=0.001)\n",
    "train_op = optimizer.minimize(loss)\n",
    "\n",
    "sess = tf.Session()                                                                 # control training and others\n",
    "init_op = tf.group(tf.global_variables_initializer(), tf.local_variables_initializer())\n",
    "sess.run(init_op)     # initialize var in graph\n",
    "\n",
    "for step in range(500):\n",
    "    _, acc, pred = sess.run([train_op, accuracy, output], {tf_x: features_data, tf_y: target_values})\n",
    "    if step % 100 == 0:\n",
    "        print (acc)"
   ]
  },
  {
   "cell_type": "code",
   "execution_count": 69,
   "metadata": {},
   "outputs": [
    {
     "name": "stdout",
     "output_type": "stream",
     "text": [
      "0.83699\n",
      "[[245227  47769]\n",
      " [  3078   3926]]\n",
      "0.836883\n",
      "[[245207  47789]\n",
      " [  3064   3940]]\n",
      "0.836777\n",
      "[[245138  47858]\n",
      " [  3055   3949]]\n",
      "0.836673\n",
      "[[245120  47876]\n",
      " [  3049   3955]]\n",
      "0.836571\n",
      "[[245919  47077]\n",
      " [  3081   3923]]\n"
     ]
    }
   ],
   "source": [
    "cf_arr = []\n",
    "for step in range(500):\n",
    "    _, acc, pred = sess.run([train_op, accuracy, output], {tf_x: features_data, tf_y: target_values})\n",
    "    if step % 100 == 0:\n",
    "        print (acc)\n",
    "        pred_max = np.argmax(pred, axis=1)\n",
    "        cf_current = confusion_matrix(target_values, pred_max)\n",
    "        print (cf_current)\n",
    "        cf_arr.append(cf_current)"
   ]
  },
  {
   "cell_type": "code",
   "execution_count": 70,
   "metadata": {},
   "outputs": [
    {
     "data": {
      "text/plain": [
       "Counter({0: 249000, 1: 51000})"
      ]
     },
     "execution_count": 70,
     "metadata": {},
     "output_type": "execute_result"
    }
   ],
   "source": [
    "Counter(pred_max)"
   ]
  },
  {
   "cell_type": "code",
   "execution_count": null,
   "metadata": {},
   "outputs": [],
   "source": [
    "[[245542  47454]\n",
    " [  3102   3902]]"
   ]
  },
  {
   "cell_type": "code",
   "execution_count": 67,
   "metadata": {},
   "outputs": [
    {
     "data": {
      "text/plain": [
       "array([[245348,  47648],\n",
       "       [  3105,   3899]])"
      ]
     },
     "execution_count": 67,
     "metadata": {},
     "output_type": "execute_result"
    }
   ],
   "source": [
    "pred_max = np.argmax(pred, axis=1)\n",
    "from collections import Counter\n",
    "Counter(pred_max)\n",
    "from sklearn.metrics import *\n",
    "confusion_matrix(target_values, pred_max)\n"
   ]
  },
  {
   "cell_type": "code",
   "execution_count": 61,
   "metadata": {},
   "outputs": [
    {
     "data": {
      "text/plain": [
       "Counter({0: 171254, 1: 128746})"
      ]
     },
     "execution_count": 61,
     "metadata": {},
     "output_type": "execute_result"
    }
   ],
   "source": [
    "pred_max = np.argmax(pred, axis=1)\n",
    "from collections import Counter\n",
    "Counter(pred_max)"
   ]
  },
  {
   "cell_type": "code",
   "execution_count": 62,
   "metadata": {},
   "outputs": [
    {
     "data": {
      "text/plain": [
       "array([[170158, 122838],\n",
       "       [  1096,   5908]])"
      ]
     },
     "execution_count": 62,
     "metadata": {},
     "output_type": "execute_result"
    }
   ],
   "source": []
  },
  {
   "cell_type": "code",
   "execution_count": 18,
   "metadata": {},
   "outputs": [
    {
     "data": {
      "text/plain": [
       "array([[ 1.66, -1.66],\n",
       "       [ 1.66, -1.66],\n",
       "       [ 1.66, -1.66],\n",
       "       [ 1.66, -1.66],\n",
       "       [ 1.66, -1.66]], dtype=float32)"
      ]
     },
     "execution_count": 18,
     "metadata": {},
     "output_type": "execute_result"
    }
   ],
   "source": [
    "pred[0:5]"
   ]
  },
  {
   "cell_type": "code",
   "execution_count": 36,
   "metadata": {},
   "outputs": [
    {
     "data": {
      "text/plain": [
       "DescribeResult(nobs=300000, minmax=(0.0, 1.0), mean=0.023346666, variance=0.022801677, skewness=6.313205718994141, kurtosis=37.85655854301618)"
      ]
     },
     "execution_count": 36,
     "metadata": {},
     "output_type": "execute_result"
    }
   ],
   "source": [
    "from scipy import stats\n",
    "stats.describe(target_values)"
   ]
  },
  {
   "cell_type": "code",
   "execution_count": 25,
   "metadata": {},
   "outputs": [
    {
     "data": {
      "text/plain": [
       "Counter({0: 299988, 1: 12})"
      ]
     },
     "execution_count": 25,
     "metadata": {},
     "output_type": "execute_result"
    }
   ],
   "source": [
    "from collections import Counter\n",
    "Counter(pred_max)"
   ]
  },
  {
   "cell_type": "code",
   "execution_count": 26,
   "metadata": {},
   "outputs": [
    {
     "data": {
      "text/plain": [
       "Counter({0.0: 292996, 1.0: 7004})"
      ]
     },
     "execution_count": 26,
     "metadata": {},
     "output_type": "execute_result"
    }
   ],
   "source": [
    "Counter(target_values)"
   ]
  },
  {
   "cell_type": "code",
   "execution_count": null,
   "metadata": {
    "collapsed": true
   },
   "outputs": [],
   "source": []
  }
 ],
 "metadata": {
  "kernelspec": {
   "display_name": "Python 3",
   "language": "python",
   "name": "python3"
  },
  "language_info": {
   "codemirror_mode": {
    "name": "ipython",
    "version": 3
   },
   "file_extension": ".py",
   "mimetype": "text/x-python",
   "name": "python",
   "nbconvert_exporter": "python",
   "pygments_lexer": "ipython3",
   "version": "3.5.0"
  }
 },
 "nbformat": 4,
 "nbformat_minor": 2
}
