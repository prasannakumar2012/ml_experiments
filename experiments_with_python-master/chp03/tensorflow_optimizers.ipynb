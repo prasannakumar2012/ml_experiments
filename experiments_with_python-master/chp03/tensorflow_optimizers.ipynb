{
 "cells": [
  {
   "cell_type": "markdown",
   "metadata": {},
   "source": [
    "## TensorFlow Optimizers"
   ]
  },
  {
   "cell_type": "markdown",
   "metadata": {},
   "source": [
    "What are some of the popular optimization algorithms used for training neural networks? This notebook attempts to answer this question using a Convolutional Neural Network (CNN) trained on MNIST dataset with TensorFlow."
   ]
  },
  {
   "cell_type": "markdown",
   "metadata": {},
   "source": [
    "**Stochastic Gradient Descent (SGD) ** updates parameters in the negative direction of the gradient. The learning rate parameter $\\epsilon_k$ should be decreased over time. SGD computation time is proportional to mini-batch size $m$:"
   ]
  },
  {
   "cell_type": "markdown",
   "metadata": {},
   "source": [
    "\\begin{eqnarray}\n",
    "g &=& \\frac{1}{m}\\nabla_\\theta \\sum_i L(f(x^{(i)};\\theta), y^{(i)}) \\\\\n",
    "\\theta &=& \\theta - \\epsilon_k \\times g\n",
    "\\end{eqnarray}"
   ]
  },
  {
   "cell_type": "markdown",
   "metadata": {},
   "source": [
    "**Momentum** accumulates exponentially decaying moving average of past gradients and continues to move in their direction, thus step size depends on how large and how aligned the sequence of gradients are, common values of momentum parameter $\\alpha$ are 0.5 and 0.9:"
   ]
  },
  {
   "cell_type": "markdown",
   "metadata": {},
   "source": [
    "\\begin{eqnarray}\n",
    "v &=& \\alpha v - \\epsilon \\nabla_\\theta \\big(\\frac{1}{m}\\sum_i \n",
    "L(f(x^{(i)};\\theta), y^{(i)}) \\big) \\\\\n",
    "\\theta &=& \\theta + v\n",
    "\\end{eqnarray}"
   ]
  },
  {
   "cell_type": "markdown",
   "metadata": {},
   "source": [
    "**Nesterov Momentum** inspired by Nesterov's accelerated gradient method, difference betweent Nesterov and standard momentum is where the gradient is evaluated, with Nesterov's momentum the gradient is evaluated after the current velocity is applied, thus Nesterov's momentum adds a correction factor to the gradient:"
   ]
  },
  {
   "cell_type": "markdown",
   "metadata": {},
   "source": [
    "\\begin{eqnarray}\n",
    "v &=& \\alpha v - \\epsilon \\nabla_\\theta \\big(\\frac{1}{m}\\sum_i \n",
    "L(f(x^{(i)};\\theta + \\alpha \\times v), y^{(i)}) \\big) \\\\\n",
    "\\theta &=& \\theta + v\n",
    "\\end{eqnarray}"
   ]
  },
  {
   "cell_type": "markdown",
   "metadata": {},
   "source": [
    "**AdaGrad** adapts the learning rates of all model parameters, learning rate is inversely proportional to the square root of the sum of historical squared values, weights that receive high gradients will have their effective learning rate reduced, while weights that receive small or infrequent updates will have their effective learning rate increased: the net effect is greater progress in the more gently sloped directions of parameter space:"
   ]
  },
  {
   "cell_type": "markdown",
   "metadata": {},
   "source": [
    "\\begin{eqnarray}\n",
    "g &=& \\frac{1}{m}\\nabla_\\theta \\sum_i L(f(x^{(i)};\\theta), y^{(i)}) \\\\\n",
    "s &=& s + g^{T}g \\\\\n",
    "\\theta &=& \\theta - \\epsilon_k \\times g / \\sqrt{s+eps}\n",
    "\\end{eqnarray}"
   ]
  },
  {
   "cell_type": "markdown",
   "metadata": {},
   "source": [
    "**RMSProp** modifies AdaGrad by changing the gradient accumulation into an exponentially weighted moving average, it discards history from the extreme past. RMSProp has been shown to be an effective and practical optimization algorithm for deep neural networks:"
   ]
  },
  {
   "cell_type": "markdown",
   "metadata": {},
   "source": [
    "\\begin{eqnarray}\n",
    "g &=& \\frac{1}{m}\\nabla_\\theta \\sum_i L(f(x^{(i)};\\theta), y^{(i)}) \\\\\n",
    "s &=& \\mathrm{decay\\_rate}\\times s + (1-\\mathrm{decay\\_rate}) g^{T}g \\\\\n",
    "\\theta &=& \\theta - \\epsilon_k \\times g / \\sqrt{s+eps}\n",
    "\\end{eqnarray}"
   ]
  },
  {
   "cell_type": "markdown",
   "metadata": {},
   "source": [
    "**Adam** derives from \"adaptive moments\", it can be seen as a variant on the combination of RMSProp and momentum, the update looks like RMSProp except that a smooth version of the gradient is used instead of the raw stochastic gradient, the full adam update also includes a bias correction mechanism, recommended values in the paper are $\\epsilon = 1e-8$, $\\beta_1 = 0.9$, $\\beta_2 = 0.999$:"
   ]
  },
  {
   "cell_type": "markdown",
   "metadata": {},
   "source": [
    "\\begin{eqnarray}\n",
    "g &=& \\frac{1}{m}\\nabla_\\theta \\sum_i L(f(x^{(i)};\\theta), y^{(i)}) \\\\\n",
    "m &=& \\beta_1 m + (1-\\beta_1) g\\\\\n",
    "s &=& \\beta_2 v + (1-\\beta_2) g^{T}g \\\\\n",
    "\\theta &=& \\theta - \\epsilon_k \\times m / \\sqrt{s+eps}\n",
    "\\end{eqnarray}"
   ]
  },
  {
   "cell_type": "markdown",
   "metadata": {},
   "source": [
    "Let's examing the performance of different optimizers using TensorFlow!"
   ]
  },
  {
   "cell_type": "code",
   "execution_count": 3,
   "metadata": {
    "collapsed": true
   },
   "outputs": [],
   "source": [
    "%matplotlib inline\n",
    "\n",
    "import numpy as np\n",
    "import tensorflow as tf\n",
    "from tensorflow.examples.tutorials.mnist import input_data\n",
    "from tensorflow.contrib.layers import variance_scaling_initializer\n",
    "\n",
    "import seaborn as sns\n",
    "import matplotlib.pyplot as plt"
   ]
  },
  {
   "cell_type": "markdown",
   "metadata": {},
   "source": [
    "Let's define the auxiliary functions that will help us define the neural network."
   ]
  },
  {
   "cell_type": "code",
   "execution_count": 4,
   "metadata": {
    "collapsed": true
   },
   "outputs": [],
   "source": [
    "def weight_variable(name, shape):\n",
    "    he_normal = variance_scaling_initializer(factor=2.0, mode='FAN_IN', uniform=False,\n",
    "                                             seed=None, dtype=tf.float32) \n",
    "    return tf.get_variable(name, shape=shape, initializer=he_normal)\n",
    "\n",
    "def bias_variable(shape):\n",
    "    initial = tf.constant(0.1, shape=shape)\n",
    "    return tf.Variable(initial)\n",
    "\n",
    "def conv2d(x, W):\n",
    "    return tf.nn.conv2d(x, W, strides=[1,1,1,1], padding='SAME')\n",
    "\n",
    "def max_pool_2x2(x):\n",
    "    return tf.nn.max_pool(x, ksize=[1,2,2,1], strides=[1,2,2,1], padding='SAME')\n"
   ]
  },
  {
   "cell_type": "markdown",
   "metadata": {},
   "source": [
    "We use the recommended He normal initialization together with ReLU activation functions."
   ]
  },
  {
   "cell_type": "code",
   "execution_count": 5,
   "metadata": {},
   "outputs": [
    {
     "name": "stdout",
     "output_type": "stream",
     "text": [
      "Successfully downloaded train-images-idx3-ubyte.gz 9912422 bytes.\n",
      "Extracting ./MNIST_data/train-images-idx3-ubyte.gz\n",
      "Successfully downloaded train-labels-idx1-ubyte.gz 28881 bytes.\n",
      "Extracting ./MNIST_data/train-labels-idx1-ubyte.gz\n",
      "Successfully downloaded t10k-images-idx3-ubyte.gz 1648877 bytes.\n",
      "Extracting ./MNIST_data/t10k-images-idx3-ubyte.gz\n",
      "Successfully downloaded t10k-labels-idx1-ubyte.gz 4542 bytes.\n",
      "Extracting ./MNIST_data/t10k-labels-idx1-ubyte.gz\n"
     ]
    }
   ],
   "source": [
    "#dataset\n",
    "mnist = input_data.read_data_sets(\"./MNIST_data/\", one_hot=True)\n",
    "\n",
    "#parameters\n",
    "learning_rate = 0.001\n",
    "training_epochs = 1000\n",
    "batch_size = 50\n",
    "display_step = 100"
   ]
  },
  {
   "cell_type": "markdown",
   "metadata": {},
   "source": [
    "Let's define our computational graph."
   ]
  },
  {
   "cell_type": "code",
   "execution_count": 6,
   "metadata": {
    "collapsed": true
   },
   "outputs": [],
   "source": [
    "x = tf.placeholder(tf.float32, [None, 784])\n",
    "y_= tf.placeholder(tf.float32, [None, 10])\n",
    "x_image = tf.reshape(x, [-1,28,28,1])\n",
    "\n",
    "#layer 1\n",
    "W_conv1 = weight_variable(\"W1\", [5,5,1,32])\n",
    "b_conv1 = bias_variable([32])\n",
    "h_conv1 = tf.nn.relu(conv2d(x_image, W_conv1) + b_conv1)\n",
    "h_pool1 = max_pool_2x2(h_conv1)\n",
    "\n",
    "#layer 2\n",
    "W_conv2 = weight_variable(\"W2\", [5,5,32,64])\n",
    "b_conv2 = bias_variable([64])\n",
    "h_conv2 = tf.nn.relu(conv2d(h_pool1, W_conv2) + b_conv2)\n",
    "h_pool2 = max_pool_2x2(h_conv2)\n",
    "\n",
    "#layer 3\n",
    "W_fc1 = weight_variable(\"W3\", [7*7*64, 1024])\n",
    "b_fc1 = bias_variable([1024])\n",
    "h_pool2_flat = tf.reshape(h_pool2, [-1,7*7*64])\n",
    "h_fc1 = tf.nn.relu(tf.matmul(h_pool2_flat, W_fc1) + b_fc1)\n",
    "\n",
    "#dropout\n",
    "keep_prob = tf.placeholder(tf.float32)\n",
    "h_fc1_drop = tf.nn.dropout(h_fc1, keep_prob)\n",
    "\n",
    "#layer 5\n",
    "W_fc2 = weight_variable(\"W5\", [1024, 10])\n",
    "b_fc2 = bias_variable([10])\n",
    "y_conv = tf.matmul(h_fc1_drop, W_fc2) + b_fc2\n",
    "\n",
    "cross_entropy = tf.reduce_mean(tf.nn.softmax_cross_entropy_with_logits(labels=y_, logits=y_conv))"
   ]
  },
  {
   "cell_type": "markdown",
   "metadata": {},
   "source": [
    "We'll focus on the following optimizers:"
   ]
  },
  {
   "cell_type": "code",
   "execution_count": 7,
   "metadata": {
    "collapsed": true
   },
   "outputs": [],
   "source": [
    "#optimizers\n",
    "train_step1 = tf.train.GradientDescentOptimizer(learning_rate).minimize(cross_entropy)\n",
    "train_step2 = tf.train.MomentumOptimizer(learning_rate, momentum=0.9, use_nesterov=True).minimize(cross_entropy)\n",
    "train_step3 = tf.train.RMSPropOptimizer(learning_rate).minimize(cross_entropy)\n",
    "train_step4 = tf.train.AdamOptimizer(learning_rate).minimize(cross_entropy)"
   ]
  },
  {
   "cell_type": "code",
   "execution_count": 8,
   "metadata": {
    "collapsed": true
   },
   "outputs": [],
   "source": [
    "correct_prediction = tf.equal(tf.argmax(y_conv,1), tf.argmax(y_,1))\n",
    "accuracy = tf.reduce_mean(tf.cast(correct_prediction, tf.float32))\n",
    "\n",
    "init = tf.global_variables_initializer()"
   ]
  },
  {
   "cell_type": "markdown",
   "metadata": {},
   "source": [
    "Let's evaluate each optimizer one by one:"
   ]
  },
  {
   "cell_type": "code",
   "execution_count": 9,
   "metadata": {},
   "outputs": [
    {
     "name": "stdout",
     "output_type": "stream",
     "text": [
      "training with SGD optimizer...\n",
      "Epoch 0000, training accuracy 0.10\n",
      "Epoch 0100, training accuracy 0.70\n",
      "Epoch 0200, training accuracy 0.88\n",
      "Epoch 0300, training accuracy 0.80\n",
      "Epoch 0400, training accuracy 0.90\n",
      "Epoch 0500, training accuracy 0.82\n",
      "Epoch 0600, training accuracy 0.94\n",
      "Epoch 0700, training accuracy 0.92\n",
      "Epoch 0800, training accuracy 0.80\n",
      "Epoch 0900, training accuracy 0.94\n",
      "test accuracy 0.9084\n"
     ]
    }
   ],
   "source": [
    "with tf.Session() as sess1:\n",
    "    sess1.run(init)\n",
    "\n",
    "    print \"training with SGD optimizer...\"\n",
    "    avg_loss_sgd = np.zeros(training_epochs)\n",
    "    for epoch in range(training_epochs):\n",
    "        batch_xs, batch_ys = mnist.train.next_batch(batch_size)\n",
    "\n",
    "        _, loss = sess1.run([train_step1, cross_entropy], \n",
    "                            feed_dict={x: batch_xs, y_: batch_ys, keep_prob: 0.5})\n",
    "        avg_loss_sgd[epoch] = loss\n",
    "\n",
    "        if epoch % display_step == 0:\n",
    "            train_accuracy = accuracy.eval(feed_dict={x:batch_xs, y_:batch_ys, keep_prob: 1.0})\n",
    "            print(\"Epoch %04d, training accuracy %.2f\"%(epoch, train_accuracy))\n",
    "    #end for\n",
    "    print(\"test accuracy %g\" %accuracy.eval(feed_dict={x: mnist.test.images, y_: mnist.test.labels, keep_prob: 1.0}))"
   ]
  },
  {
   "cell_type": "code",
   "execution_count": 10,
   "metadata": {},
   "outputs": [
    {
     "name": "stdout",
     "output_type": "stream",
     "text": [
      "training with momentum optimizer...\n",
      "Epoch 0000, training accuracy 0.14\n",
      "Epoch 0100, training accuracy 0.88\n",
      "Epoch 0200, training accuracy 0.94\n",
      "Epoch 0300, training accuracy 0.90\n",
      "Epoch 0400, training accuracy 0.96\n",
      "Epoch 0500, training accuracy 0.96\n",
      "Epoch 0600, training accuracy 0.94\n",
      "Epoch 0700, training accuracy 0.94\n",
      "Epoch 0800, training accuracy 0.96\n",
      "Epoch 0900, training accuracy 0.98\n",
      "test accuracy 0.9662\n"
     ]
    }
   ],
   "source": [
    "with tf.Session() as sess2:\n",
    "    sess2.run(init)\n",
    "\n",
    "    print \"training with momentum optimizer...\"\n",
    "    avg_loss_momentum = np.zeros(training_epochs)\n",
    "    for epoch in range(training_epochs):\n",
    "        batch_xs, batch_ys = mnist.train.next_batch(batch_size)\n",
    "\n",
    "        _, loss = sess2.run([train_step2, cross_entropy], \n",
    "                            feed_dict={x: batch_xs, y_: batch_ys, keep_prob: 0.5})\n",
    "        avg_loss_momentum[epoch] = loss\n",
    "\n",
    "        if epoch % display_step == 0:\n",
    "            train_accuracy = accuracy.eval(feed_dict={x:batch_xs, y_:batch_ys, keep_prob: 1.0})\n",
    "            print(\"Epoch %04d, training accuracy %.2f\"%(epoch, train_accuracy))\n",
    "    #end for\n",
    "    print(\"test accuracy %g\" %accuracy.eval(feed_dict={x: mnist.test.images, y_: mnist.test.labels, keep_prob: 1.0}))"
   ]
  },
  {
   "cell_type": "code",
   "execution_count": 11,
   "metadata": {},
   "outputs": [
    {
     "name": "stdout",
     "output_type": "stream",
     "text": [
      "training with RMSProp optimizer...\n",
      "Epoch 0000, training accuracy 0.06\n",
      "Epoch 0100, training accuracy 0.90\n",
      "Epoch 0200, training accuracy 1.00\n",
      "Epoch 0300, training accuracy 1.00\n",
      "Epoch 0400, training accuracy 1.00\n",
      "Epoch 0500, training accuracy 1.00\n",
      "Epoch 0600, training accuracy 0.98\n",
      "Epoch 0700, training accuracy 1.00\n",
      "Epoch 0800, training accuracy 1.00\n",
      "Epoch 0900, training accuracy 1.00\n",
      "test accuracy 0.9793\n"
     ]
    }
   ],
   "source": [
    "with tf.Session() as sess3:\n",
    "    sess3.run(init)\n",
    "\n",
    "    print \"training with RMSProp optimizer...\"\n",
    "    avg_loss_rmsprop = np.zeros(training_epochs)\n",
    "    for epoch in range(training_epochs):\n",
    "        batch_xs, batch_ys = mnist.train.next_batch(batch_size)\n",
    "\n",
    "        _, loss = sess3.run([train_step3, cross_entropy], \n",
    "                            feed_dict={x: batch_xs, y_: batch_ys, keep_prob: 0.5})\n",
    "        avg_loss_rmsprop[epoch] = loss\n",
    "\n",
    "        if epoch % display_step == 0:\n",
    "            train_accuracy = accuracy.eval(feed_dict={x:batch_xs, y_:batch_ys, keep_prob: 1.0})\n",
    "            print(\"Epoch %04d, training accuracy %.2f\"%(epoch, train_accuracy))\n",
    "    #end for\n",
    "    print(\"test accuracy %g\" %accuracy.eval(feed_dict={x: mnist.test.images, y_: mnist.test.labels, keep_prob: 1.0}))\n"
   ]
  },
  {
   "cell_type": "code",
   "execution_count": 12,
   "metadata": {},
   "outputs": [
    {
     "name": "stdout",
     "output_type": "stream",
     "text": [
      "training with Adam optimizer...\n",
      "Epoch 0000, training accuracy 0.28\n",
      "Epoch 0100, training accuracy 0.96\n",
      "Epoch 0200, training accuracy 1.00\n",
      "Epoch 0300, training accuracy 0.96\n",
      "Epoch 0400, training accuracy 0.98\n",
      "Epoch 0500, training accuracy 0.98\n",
      "Epoch 0600, training accuracy 1.00\n",
      "Epoch 0700, training accuracy 0.94\n",
      "Epoch 0800, training accuracy 0.98\n",
      "Epoch 0900, training accuracy 1.00\n",
      "test accuracy 0.984\n"
     ]
    }
   ],
   "source": [
    "with tf.Session() as sess4:\n",
    "    sess4.run(init)\n",
    "\n",
    "    print \"training with Adam optimizer...\"\n",
    "    avg_loss_adam = np.zeros(training_epochs)\n",
    "    for epoch in range(training_epochs):\n",
    "        batch_xs, batch_ys = mnist.train.next_batch(batch_size)\n",
    "\n",
    "        _, loss = sess4.run([train_step4, cross_entropy], \n",
    "                            feed_dict={x: batch_xs, y_: batch_ys, keep_prob: 0.5})\n",
    "        avg_loss_adam[epoch] = loss\n",
    "\n",
    "        if epoch % display_step == 0:\n",
    "            train_accuracy = accuracy.eval(feed_dict={x:batch_xs, y_:batch_ys, keep_prob: 1.0})\n",
    "            print(\"Epoch %04d, training accuracy %.2f\"%(epoch, train_accuracy))\n",
    "    #end for\n",
    "    print(\"test accuracy %g\" %accuracy.eval(feed_dict={x: mnist.test.images, y_: mnist.test.labels, keep_prob: 1.0}))"
   ]
  },
  {
   "cell_type": "markdown",
   "metadata": {},
   "source": [
    "We can visualize the loss for each optimizer below:"
   ]
  },
  {
   "cell_type": "code",
   "execution_count": 13,
   "metadata": {},
   "outputs": [
    {
     "data": {
      "image/png": "[encoded data removed]",
      "text/plain": [
       "<matplotlib.figure.Figure at 0x7fa84a3b3610>"
      ]
     },
     "metadata": {},
     "output_type": "display_data"
    }
   ],
   "source": [
    "plt.figure()\n",
    "plt.plot(avg_loss_sgd, color='blue', alpha=0.8, label='SGD')\n",
    "plt.plot(avg_loss_momentum, color='red', alpha=0.8, label='Momentum')\n",
    "plt.plot(avg_loss_rmsprop, color='green', alpha=0.8, label='RMSProp')\n",
    "plt.plot(avg_loss_adam, color='black', alpha=0.8, label='Adam')\n",
    "plt.title(\"Neural Network Optimizers\")\n",
    "plt.xlabel(\"Epochs\")\n",
    "plt.ylabel(\"Loss\")\n",
    "plt.legend()\n",
    "plt.show()"
   ]
  },
  {
   "cell_type": "markdown",
   "metadata": {},
   "source": [
    "We can see from the plot that Adam and Nesterov Momentum optimizers produce lowest training loss!"
   ]
  },
  {
   "cell_type": "markdown",
   "metadata": {},
   "source": [
    "## References"
   ]
  },
  {
   "cell_type": "markdown",
   "metadata": {},
   "source": [
    "[1] Ian Goodfellow et. al., \"Deep Learning\", MIT Press, 2016.  \n",
    "[2] http://cs231n.github.io/neural-networks-3/"
   ]
  }
 ],
 "metadata": {
  "kernelspec": {
   "display_name": "Python 2",
   "language": "python",
   "name": "python2"
  },
  "language_info": {
   "codemirror_mode": {
    "name": "ipython",
    "version": 2
   },
   "file_extension": ".py",
   "mimetype": "text/x-python",
   "name": "python",
   "nbconvert_exporter": "python",
   "pygments_lexer": "ipython2",
   "version": "2.7.6"
  }
 },
 "nbformat": 4,
 "nbformat_minor": 2
}
